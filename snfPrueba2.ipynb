{
 "cells": [
  {
   "cell_type": "code",
   "execution_count": 1,
   "id": "initial_id",
   "metadata": {
    "collapsed": true,
    "ExecuteTime": {
     "end_time": "2024-02-07T20:13:39.462901400Z",
     "start_time": "2024-02-07T20:13:38.069892800Z"
    }
   },
   "outputs": [
    {
     "name": "stdout",
     "output_type": "stream",
     "text": [
      "   Cuenta Tipo  Prefijo  Número     Fecha  \\\n",
      "0  110505   CNS    CNS2    1289  20230102   \n",
      "1  110505   CNS    CNS2    1290  20230102   \n",
      "2  110505   RDC      R2     906  20230102   \n",
      "3  110505   RDC      R2     907  20230102   \n",
      "4  110505   CNS    CNS2    1291  20230103   \n",
      "\n",
      "                                            Concepto        Nit   DV Proyecto  \\\n",
      "0  CONSIGNACION No. CNS2001289-PG OCCIDENTAL DE P...  900673912  4.0     ADMI   \n",
      "1  CONSIGNACION No. CNS2001290-PH BUFFALO BUSINES...  900673912  4.0     ADMI   \n",
      "2  PG OCCIDENTAL DE P. QUIMICOS FACT VENT 3270   ...  900673912  4.0     ADMI   \n",
      "3  PH BUFFALO BUSINESS FACT VENT3183             ...  900673912  4.0     ADMI   \n",
      "4  CONSIGNACION No. CNS2001291-PG SUMISTRO FACT V...  900673912  4.0     ADMI   \n",
      "\n",
      "  Centro  ...     Crédito  SALDO    SALDOFIN  SALDOCTA      Cuenta.1  \\\n",
      "0   ADMI  ...   4815178.0    0.0  -4815178.0       0.0  CAJA GENERAL   \n",
      "1   ADMI  ...  44295630.0    0.0 -49110808.0       0.0  CAJA GENERAL   \n",
      "2   ADMI  ...         0.0    0.0 -44295630.0       0.0  CAJA GENERAL   \n",
      "3   ADMI  ...         0.0    0.0         0.0       0.0  CAJA GENERAL   \n",
      "4   ADMI  ...  11593101.4    0.0 -11593101.4       0.0  CAJA GENERAL   \n",
      "\n",
      "            Tercero     ID  Tipo Referencia IDREF           Nombre  \n",
      "0  SNF COLOMBIA SAS  59748               71  3908  110505900673912  \n",
      "1  SNF COLOMBIA SAS  59750               71  3909  110505900673912  \n",
      "2  SNF COLOMBIA SAS  59749               61  3170  110505900673912  \n",
      "3  SNF COLOMBIA SAS  59751               61  3171  110505900673912  \n",
      "4  SNF COLOMBIA SAS  59752               71  3910  110505900673912  \n",
      "\n",
      "[5 rows x 24 columns]\n"
     ]
    }
   ],
   "source": [
    "import pandas as pd\n",
    "\n",
    "# La siguiente línea lee el archivo csv y lo almacena en un DataFrame\n",
    "df = pd.read_csv('repauxterc2023.csv', encoding='iso-8859-1')\n",
    "\n",
    "# Imprime las primeras 5 filas del DataFrame\n",
    "print(df.head())"
   ]
  },
  {
   "cell_type": "code",
   "outputs": [
    {
     "name": "stdout",
     "output_type": "stream",
     "text": [
      "         Cuenta Tipo  Prefijo  Número     Fecha  \\\n",
      "8065   13302003   NC      L19      48  20231001   \n",
      "8066   13302003   NC      L19      48  20231001   \n",
      "8067   13302003   NC      L19      48  20231001   \n",
      "8068   13302003   NC      L19      48  20231001   \n",
      "8069   13302003   NC      L19      48  20231001   \n",
      "...         ...   ...     ...     ...       ...   \n",
      "52994  52402001   NCP     NCP     848  20230815   \n",
      "52995  52402001   NCP     NCP     849  20230815   \n",
      "57101  61350101   NCP     NCP     497  20230401   \n",
      "57103  61350101   NCP     NCP     854  20230831   \n",
      "58944    733516   NC      L14      96  20230731   \n",
      "\n",
      "                                                Concepto        Nit   DV  \\\n",
      "8065                 N.C 7491 APLICA A FCE4016 IMPORT 43  800084048  5.0   \n",
      "8066                 N.C 7492 APLICA A FCE4010 IMPORT 38  800084048  5.0   \n",
      "8067                 N.C 7486 APLICA A FCE4036 IMPORT 48  800084048  5.0   \n",
      "8068                 N.C 7487 APLICA A FCE4006 IMPORT 40  800084048  5.0   \n",
      "8069                 N.C 7488 APLICA A FCE4013 IMPORT 39  800084048  5.0   \n",
      "...                                                  ...        ...  ...   \n",
      "52994  N.C 869 APLI FCE 9702                         ...  900191610  6.0   \n",
      "52995  N.C870 APL FCE 9703 COBRO  VALOR DE MAS       ...  900191610  6.0   \n",
      "57101       N.C 4601 APLICA FCE 9387 IMPORT No. 23 20203  830110689  7.0   \n",
      "57103  N.C 8401 CRUCE D ECUENTA POR SINIESTRO APLI FC...  830110689  7.0   \n",
      "58944  N.C 4071- FCE 5309 JUNGHEINCH  DE MAQUINARIA J...  800249678  5.0   \n",
      "\n",
      "      Proyecto Centro  ...    Crédito  SALDO   SALDOFIN  SALDOCTA  \\\n",
      "8065      ADMI   ADMI  ...        0.0    0.0  1145018.0       0.0   \n",
      "8066      ADMI   ADMI  ...        0.0    0.0  1283136.0       0.0   \n",
      "8067      ADMI   ADMI  ...        0.0    0.0  1421254.0       0.0   \n",
      "8068      ADMI   ADMI  ...        0.0    0.0  1559372.0       0.0   \n",
      "8069      ADMI   ADMI  ...        0.0    0.0  1697490.0       0.0   \n",
      "...        ...    ...  ...        ...    ...        ...       ...   \n",
      "52994     ADMI   ADMI  ...  5523535.0    0.0  5193016.0       0.0   \n",
      "52995     ADMI   ADMI  ...  5193016.0    0.0        0.0       0.0   \n",
      "57101     ADMI   ADMI  ...  8220758.0    0.0 -8220758.0       0.0   \n",
      "57103     ADMI   ADMI  ...  1402019.0    0.0 -1402019.0       0.0   \n",
      "58944     ADMI   ADMI  ...  3378517.0    0.0        0.0       0.0   \n",
      "\n",
      "                                       Cuenta.1  \\\n",
      "8065                 NAVIERAS NC POR REINTEGRAR   \n",
      "8066                 NAVIERAS NC POR REINTEGRAR   \n",
      "8067                 NAVIERAS NC POR REINTEGRAR   \n",
      "8068                 NAVIERAS NC POR REINTEGRAR   \n",
      "8069                 NAVIERAS NC POR REINTEGRAR   \n",
      "...                                         ...   \n",
      "52994                     ADUANEROS IMPORTACION   \n",
      "52995                     ADUANEROS IMPORTACION   \n",
      "57101      COMERCIO AL POR MAYOR Y AL POR MENOR   \n",
      "57103      COMERCIO AL POR MAYOR Y AL POR MENOR   \n",
      "58944  SERVICIOS APOYO LOGISTICO Y ALMACENAMIEN   \n",
      "\n",
      "                                                 Tercero     ID  \\\n",
      "8065   SOCIEDAD PORTUARIA TERMINAL DE CONTENEDORES DE...  75622   \n",
      "8066   SOCIEDAD PORTUARIA TERMINAL DE CONTENEDORES DE...  75622   \n",
      "8067   SOCIEDAD PORTUARIA TERMINAL DE CONTENEDORES DE...  75622   \n",
      "8068   SOCIEDAD PORTUARIA TERMINAL DE CONTENEDORES DE...  75622   \n",
      "8069   SOCIEDAD PORTUARIA TERMINAL DE CONTENEDORES DE...  75622   \n",
      "...                                                  ...    ...   \n",
      "52994                 AGENCIA DE ADUANAS BMA SAS NIVEL 2  71935   \n",
      "52995                 AGENCIA DE ADUANAS BMA SAS NIVEL 2  71945   \n",
      "57101                                    LOGISTICA 3T SA  65937   \n",
      "57103                                    LOGISTICA 3T SA  72747   \n",
      "58944                          JUNGHEINRICH COLOMBIA SAS  71236   \n",
      "\n",
      "       Tipo Referencia IDREF             Nombre  \n",
      "8065                 0     0  13302003800084048  \n",
      "8066                 0     0  13302003800084048  \n",
      "8067                 0     0  13302003800084048  \n",
      "8068                 0     0  13302003800084048  \n",
      "8069                 0     0  13302003800084048  \n",
      "...                ...   ...                ...  \n",
      "52994               52  2722  52402001900191610  \n",
      "52995               52  2723  52402001900191610  \n",
      "57101                0     0  61350101830110689  \n",
      "57103               52  2732  61350101830110689  \n",
      "58944                0     0    733516800249678  \n",
      "\n",
      "[185 rows x 24 columns]\n"
     ]
    }
   ],
   "source": [
    "# filtra por los campos que empiezan por FCE en la columna Concepto\n",
    "mask = df['Concepto'].str.startswith('N.C', na=False)\n",
    "result_df = df[mask]\n",
    "print(result_df)"
   ],
   "metadata": {
    "collapsed": false,
    "ExecuteTime": {
     "end_time": "2024-02-07T20:13:48.511994900Z",
     "start_time": "2024-02-07T20:13:48.467998200Z"
    }
   },
   "id": "20e8480c1fc18dac",
   "execution_count": 2
  },
  {
   "cell_type": "markdown",
   "source": [],
   "metadata": {
    "collapsed": false
   },
   "id": "325a7c41030c1b5"
  },
  {
   "cell_type": "code",
   "outputs": [
    {
     "name": "stdout",
     "output_type": "stream",
     "text": [
      "         Cuenta Tipo  Prefijo  Número     Fecha  \\\n",
      "8065   13302003   NC      L19      48  20231001   \n",
      "8066   13302003   NC      L19      48  20231001   \n",
      "8067   13302003   NC      L19      48  20231001   \n",
      "8068   13302003   NC      L19      48  20231001   \n",
      "8069   13302003   NC      L19      48  20231001   \n",
      "...         ...   ...     ...     ...       ...   \n",
      "52994  52402001   NCP     NCP     848  20230815   \n",
      "52995  52402001   NCP     NCP     849  20230815   \n",
      "57101  61350101   NCP     NCP     497  20230401   \n",
      "57103  61350101   NCP     NCP     854  20230831   \n",
      "58944    733516   NC      L14      96  20230731   \n",
      "\n",
      "                                                Concepto        Nit   DV  \\\n",
      "8065                  N.C7491 APLICA A FCE4016 IMPORT 43  800084048  5.0   \n",
      "8066                  N.C7492 APLICA A FCE4010 IMPORT 38  800084048  5.0   \n",
      "8067                  N.C7486 APLICA A FCE4036 IMPORT 48  800084048  5.0   \n",
      "8068                  N.C7487 APLICA A FCE4006 IMPORT 40  800084048  5.0   \n",
      "8069                  N.C7488 APLICA A FCE4013 IMPORT 39  800084048  5.0   \n",
      "...                                                  ...        ...  ...   \n",
      "52994  N.C869 APLI FCE 9702                          ...  900191610  6.0   \n",
      "52995  N.C870 APL FCE 9703 COBRO  VALOR DE MAS       ...  900191610  6.0   \n",
      "57101        N.C4601 APLICA FCE 9387 IMPORT No. 23 20203  830110689  7.0   \n",
      "57103  N.C8401 CRUCE D ECUENTA POR SINIESTRO APLI FCE...  830110689  7.0   \n",
      "58944  N.C4071- FCE 5309 JUNGHEINCH  DE MAQUINARIA JU...  800249678  5.0   \n",
      "\n",
      "      Proyecto Centro  ...    Crédito  SALDO   SALDOFIN  SALDOCTA  \\\n",
      "8065      ADMI   ADMI  ...        0.0    0.0  1145018.0       0.0   \n",
      "8066      ADMI   ADMI  ...        0.0    0.0  1283136.0       0.0   \n",
      "8067      ADMI   ADMI  ...        0.0    0.0  1421254.0       0.0   \n",
      "8068      ADMI   ADMI  ...        0.0    0.0  1559372.0       0.0   \n",
      "8069      ADMI   ADMI  ...        0.0    0.0  1697490.0       0.0   \n",
      "...        ...    ...  ...        ...    ...        ...       ...   \n",
      "52994     ADMI   ADMI  ...  5523535.0    0.0  5193016.0       0.0   \n",
      "52995     ADMI   ADMI  ...  5193016.0    0.0        0.0       0.0   \n",
      "57101     ADMI   ADMI  ...  8220758.0    0.0 -8220758.0       0.0   \n",
      "57103     ADMI   ADMI  ...  1402019.0    0.0 -1402019.0       0.0   \n",
      "58944     ADMI   ADMI  ...  3378517.0    0.0        0.0       0.0   \n",
      "\n",
      "                                       Cuenta.1  \\\n",
      "8065                 NAVIERAS NC POR REINTEGRAR   \n",
      "8066                 NAVIERAS NC POR REINTEGRAR   \n",
      "8067                 NAVIERAS NC POR REINTEGRAR   \n",
      "8068                 NAVIERAS NC POR REINTEGRAR   \n",
      "8069                 NAVIERAS NC POR REINTEGRAR   \n",
      "...                                         ...   \n",
      "52994                     ADUANEROS IMPORTACION   \n",
      "52995                     ADUANEROS IMPORTACION   \n",
      "57101      COMERCIO AL POR MAYOR Y AL POR MENOR   \n",
      "57103      COMERCIO AL POR MAYOR Y AL POR MENOR   \n",
      "58944  SERVICIOS APOYO LOGISTICO Y ALMACENAMIEN   \n",
      "\n",
      "                                                 Tercero     ID  \\\n",
      "8065   SOCIEDAD PORTUARIA TERMINAL DE CONTENEDORES DE...  75622   \n",
      "8066   SOCIEDAD PORTUARIA TERMINAL DE CONTENEDORES DE...  75622   \n",
      "8067   SOCIEDAD PORTUARIA TERMINAL DE CONTENEDORES DE...  75622   \n",
      "8068   SOCIEDAD PORTUARIA TERMINAL DE CONTENEDORES DE...  75622   \n",
      "8069   SOCIEDAD PORTUARIA TERMINAL DE CONTENEDORES DE...  75622   \n",
      "...                                                  ...    ...   \n",
      "52994                 AGENCIA DE ADUANAS BMA SAS NIVEL 2  71935   \n",
      "52995                 AGENCIA DE ADUANAS BMA SAS NIVEL 2  71945   \n",
      "57101                                    LOGISTICA 3T SA  65937   \n",
      "57103                                    LOGISTICA 3T SA  72747   \n",
      "58944                          JUNGHEINRICH COLOMBIA SAS  71236   \n",
      "\n",
      "       Tipo Referencia IDREF             Nombre  \n",
      "8065                 0     0  13302003800084048  \n",
      "8066                 0     0  13302003800084048  \n",
      "8067                 0     0  13302003800084048  \n",
      "8068                 0     0  13302003800084048  \n",
      "8069                 0     0  13302003800084048  \n",
      "...                ...   ...                ...  \n",
      "52994               52  2722  52402001900191610  \n",
      "52995               52  2723  52402001900191610  \n",
      "57101                0     0  61350101830110689  \n",
      "57103               52  2732  61350101830110689  \n",
      "58944                0     0    733516800249678  \n",
      "\n",
      "[185 rows x 24 columns]\n"
     ]
    },
    {
     "name": "stderr",
     "output_type": "stream",
     "text": [
      "C:\\Users\\Arnold Mauricio\\AppData\\Local\\Temp\\ipykernel_11652\\1497402205.py:2: SettingWithCopyWarning: \n",
      "A value is trying to be set on a copy of a slice from a DataFrame.\n",
      "Try using .loc[row_indexer,col_indexer] = value instead\n",
      "\n",
      "See the caveats in the documentation: https://pandas.pydata.org/pandas-docs/stable/user_guide/indexing.html#returning-a-view-versus-a-copy\n",
      "  result_df['Concepto'] = result_df['Concepto'].str.replace(r'N.C[ -]*', 'N.C', regex=True)\n"
     ]
    }
   ],
   "source": [
    "# elimina espacios o guiones que van despues de FCE\n",
    "result_df['Concepto'] = result_df['Concepto'].str.replace(r'N.C[ -]*', 'N.C', regex=True)\n",
    "print(result_df)"
   ],
   "metadata": {
    "collapsed": false,
    "ExecuteTime": {
     "end_time": "2024-02-07T20:14:13.276216500Z",
     "start_time": "2024-02-07T20:14:13.204216100Z"
    }
   },
   "id": "53bfa68aef511bcb",
   "execution_count": 3
  },
  {
   "cell_type": "code",
   "outputs": [
    {
     "data": {
      "text/plain": "         Cuenta Tipo  Prefijo  Número     Fecha  \\\n8065   13302003   NC      L19      48  20231001   \n8066   13302003   NC      L19      48  20231001   \n8067   13302003   NC      L19      48  20231001   \n8068   13302003   NC      L19      48  20231001   \n8069   13302003   NC      L19      48  20231001   \n...         ...   ...     ...     ...       ...   \n52994  52402001   NCP     NCP     848  20230815   \n52995  52402001   NCP     NCP     849  20230815   \n57101  61350101   NCP     NCP     497  20230401   \n57103  61350101   NCP     NCP     854  20230831   \n58944    733516   NC      L14      96  20230731   \n\n                                                Concepto        Nit   DV  \\\n8065                  N.C7491 APLICA A FCE4016 IMPORT 43  800084048  5.0   \n8066                  N.C7492 APLICA A FCE4010 IMPORT 38  800084048  5.0   \n8067                  N.C7486 APLICA A FCE4036 IMPORT 48  800084048  5.0   \n8068                  N.C7487 APLICA A FCE4006 IMPORT 40  800084048  5.0   \n8069                  N.C7488 APLICA A FCE4013 IMPORT 39  800084048  5.0   \n...                                                  ...        ...  ...   \n52994  N.C869 APLI FCE 9702                          ...  900191610  6.0   \n52995  N.C870 APL FCE 9703 COBRO  VALOR DE MAS       ...  900191610  6.0   \n57101        N.C4601 APLICA FCE 9387 IMPORT No. 23 20203  830110689  7.0   \n57103  N.C8401 CRUCE D ECUENTA POR SINIESTRO APLI FCE...  830110689  7.0   \n58944  N.C4071- FCE 5309 JUNGHEINCH  DE MAQUINARIA JU...  800249678  5.0   \n\n      Proyecto Centro  ...    Crédito  SALDO   SALDOFIN  SALDOCTA  \\\n8065      ADMI   ADMI  ...        0.0    0.0  1145018.0       0.0   \n8066      ADMI   ADMI  ...        0.0    0.0  1283136.0       0.0   \n8067      ADMI   ADMI  ...        0.0    0.0  1421254.0       0.0   \n8068      ADMI   ADMI  ...        0.0    0.0  1559372.0       0.0   \n8069      ADMI   ADMI  ...        0.0    0.0  1697490.0       0.0   \n...        ...    ...  ...        ...    ...        ...       ...   \n52994     ADMI   ADMI  ...  5523535.0    0.0  5193016.0       0.0   \n52995     ADMI   ADMI  ...  5193016.0    0.0        0.0       0.0   \n57101     ADMI   ADMI  ...  8220758.0    0.0 -8220758.0       0.0   \n57103     ADMI   ADMI  ...  1402019.0    0.0 -1402019.0       0.0   \n58944     ADMI   ADMI  ...  3378517.0    0.0        0.0       0.0   \n\n                                       Cuenta.1  \\\n8065                 NAVIERAS NC POR REINTEGRAR   \n8066                 NAVIERAS NC POR REINTEGRAR   \n8067                 NAVIERAS NC POR REINTEGRAR   \n8068                 NAVIERAS NC POR REINTEGRAR   \n8069                 NAVIERAS NC POR REINTEGRAR   \n...                                         ...   \n52994                     ADUANEROS IMPORTACION   \n52995                     ADUANEROS IMPORTACION   \n57101      COMERCIO AL POR MAYOR Y AL POR MENOR   \n57103      COMERCIO AL POR MAYOR Y AL POR MENOR   \n58944  SERVICIOS APOYO LOGISTICO Y ALMACENAMIEN   \n\n                                                 Tercero     ID  \\\n8065   SOCIEDAD PORTUARIA TERMINAL DE CONTENEDORES DE...  75622   \n8066   SOCIEDAD PORTUARIA TERMINAL DE CONTENEDORES DE...  75622   \n8067   SOCIEDAD PORTUARIA TERMINAL DE CONTENEDORES DE...  75622   \n8068   SOCIEDAD PORTUARIA TERMINAL DE CONTENEDORES DE...  75622   \n8069   SOCIEDAD PORTUARIA TERMINAL DE CONTENEDORES DE...  75622   \n...                                                  ...    ...   \n52994                 AGENCIA DE ADUANAS BMA SAS NIVEL 2  71935   \n52995                 AGENCIA DE ADUANAS BMA SAS NIVEL 2  71945   \n57101                                    LOGISTICA 3T SA  65937   \n57103                                    LOGISTICA 3T SA  72747   \n58944                          JUNGHEINRICH COLOMBIA SAS  71236   \n\n       Tipo Referencia IDREF             Nombre  \n8065                 0     0  13302003800084048  \n8066                 0     0  13302003800084048  \n8067                 0     0  13302003800084048  \n8068                 0     0  13302003800084048  \n8069                 0     0  13302003800084048  \n...                ...   ...                ...  \n52994               52  2722  52402001900191610  \n52995               52  2723  52402001900191610  \n57101                0     0  61350101830110689  \n57103               52  2732  61350101830110689  \n58944                0     0    733516800249678  \n\n[185 rows x 24 columns]",
      "text/html": "<div>\n<style scoped>\n    .dataframe tbody tr th:only-of-type {\n        vertical-align: middle;\n    }\n\n    .dataframe tbody tr th {\n        vertical-align: top;\n    }\n\n    .dataframe thead th {\n        text-align: right;\n    }\n</style>\n<table border=\"1\" class=\"dataframe\">\n  <thead>\n    <tr style=\"text-align: right;\">\n      <th></th>\n      <th>Cuenta</th>\n      <th>Tipo</th>\n      <th>Prefijo</th>\n      <th>Número</th>\n      <th>Fecha</th>\n      <th>Concepto</th>\n      <th>Nit</th>\n      <th>DV</th>\n      <th>Proyecto</th>\n      <th>Centro</th>\n      <th>...</th>\n      <th>Crédito</th>\n      <th>SALDO</th>\n      <th>SALDOFIN</th>\n      <th>SALDOCTA</th>\n      <th>Cuenta.1</th>\n      <th>Tercero</th>\n      <th>ID</th>\n      <th>Tipo Referencia</th>\n      <th>IDREF</th>\n      <th>Nombre</th>\n    </tr>\n  </thead>\n  <tbody>\n    <tr>\n      <th>8065</th>\n      <td>13302003</td>\n      <td>NC</td>\n      <td>L19</td>\n      <td>48</td>\n      <td>20231001</td>\n      <td>N.C7491 APLICA A FCE4016 IMPORT 43</td>\n      <td>800084048</td>\n      <td>5.0</td>\n      <td>ADMI</td>\n      <td>ADMI</td>\n      <td>...</td>\n      <td>0.0</td>\n      <td>0.0</td>\n      <td>1145018.0</td>\n      <td>0.0</td>\n      <td>NAVIERAS NC POR REINTEGRAR</td>\n      <td>SOCIEDAD PORTUARIA TERMINAL DE CONTENEDORES DE...</td>\n      <td>75622</td>\n      <td>0</td>\n      <td>0</td>\n      <td>13302003800084048</td>\n    </tr>\n    <tr>\n      <th>8066</th>\n      <td>13302003</td>\n      <td>NC</td>\n      <td>L19</td>\n      <td>48</td>\n      <td>20231001</td>\n      <td>N.C7492 APLICA A FCE4010 IMPORT 38</td>\n      <td>800084048</td>\n      <td>5.0</td>\n      <td>ADMI</td>\n      <td>ADMI</td>\n      <td>...</td>\n      <td>0.0</td>\n      <td>0.0</td>\n      <td>1283136.0</td>\n      <td>0.0</td>\n      <td>NAVIERAS NC POR REINTEGRAR</td>\n      <td>SOCIEDAD PORTUARIA TERMINAL DE CONTENEDORES DE...</td>\n      <td>75622</td>\n      <td>0</td>\n      <td>0</td>\n      <td>13302003800084048</td>\n    </tr>\n    <tr>\n      <th>8067</th>\n      <td>13302003</td>\n      <td>NC</td>\n      <td>L19</td>\n      <td>48</td>\n      <td>20231001</td>\n      <td>N.C7486 APLICA A FCE4036 IMPORT 48</td>\n      <td>800084048</td>\n      <td>5.0</td>\n      <td>ADMI</td>\n      <td>ADMI</td>\n      <td>...</td>\n      <td>0.0</td>\n      <td>0.0</td>\n      <td>1421254.0</td>\n      <td>0.0</td>\n      <td>NAVIERAS NC POR REINTEGRAR</td>\n      <td>SOCIEDAD PORTUARIA TERMINAL DE CONTENEDORES DE...</td>\n      <td>75622</td>\n      <td>0</td>\n      <td>0</td>\n      <td>13302003800084048</td>\n    </tr>\n    <tr>\n      <th>8068</th>\n      <td>13302003</td>\n      <td>NC</td>\n      <td>L19</td>\n      <td>48</td>\n      <td>20231001</td>\n      <td>N.C7487 APLICA A FCE4006 IMPORT 40</td>\n      <td>800084048</td>\n      <td>5.0</td>\n      <td>ADMI</td>\n      <td>ADMI</td>\n      <td>...</td>\n      <td>0.0</td>\n      <td>0.0</td>\n      <td>1559372.0</td>\n      <td>0.0</td>\n      <td>NAVIERAS NC POR REINTEGRAR</td>\n      <td>SOCIEDAD PORTUARIA TERMINAL DE CONTENEDORES DE...</td>\n      <td>75622</td>\n      <td>0</td>\n      <td>0</td>\n      <td>13302003800084048</td>\n    </tr>\n    <tr>\n      <th>8069</th>\n      <td>13302003</td>\n      <td>NC</td>\n      <td>L19</td>\n      <td>48</td>\n      <td>20231001</td>\n      <td>N.C7488 APLICA A FCE4013 IMPORT 39</td>\n      <td>800084048</td>\n      <td>5.0</td>\n      <td>ADMI</td>\n      <td>ADMI</td>\n      <td>...</td>\n      <td>0.0</td>\n      <td>0.0</td>\n      <td>1697490.0</td>\n      <td>0.0</td>\n      <td>NAVIERAS NC POR REINTEGRAR</td>\n      <td>SOCIEDAD PORTUARIA TERMINAL DE CONTENEDORES DE...</td>\n      <td>75622</td>\n      <td>0</td>\n      <td>0</td>\n      <td>13302003800084048</td>\n    </tr>\n    <tr>\n      <th>...</th>\n      <td>...</td>\n      <td>...</td>\n      <td>...</td>\n      <td>...</td>\n      <td>...</td>\n      <td>...</td>\n      <td>...</td>\n      <td>...</td>\n      <td>...</td>\n      <td>...</td>\n      <td>...</td>\n      <td>...</td>\n      <td>...</td>\n      <td>...</td>\n      <td>...</td>\n      <td>...</td>\n      <td>...</td>\n      <td>...</td>\n      <td>...</td>\n      <td>...</td>\n      <td>...</td>\n    </tr>\n    <tr>\n      <th>52994</th>\n      <td>52402001</td>\n      <td>NCP</td>\n      <td>NCP</td>\n      <td>848</td>\n      <td>20230815</td>\n      <td>N.C869 APLI FCE 9702                          ...</td>\n      <td>900191610</td>\n      <td>6.0</td>\n      <td>ADMI</td>\n      <td>ADMI</td>\n      <td>...</td>\n      <td>5523535.0</td>\n      <td>0.0</td>\n      <td>5193016.0</td>\n      <td>0.0</td>\n      <td>ADUANEROS IMPORTACION</td>\n      <td>AGENCIA DE ADUANAS BMA SAS NIVEL 2</td>\n      <td>71935</td>\n      <td>52</td>\n      <td>2722</td>\n      <td>52402001900191610</td>\n    </tr>\n    <tr>\n      <th>52995</th>\n      <td>52402001</td>\n      <td>NCP</td>\n      <td>NCP</td>\n      <td>849</td>\n      <td>20230815</td>\n      <td>N.C870 APL FCE 9703 COBRO  VALOR DE MAS       ...</td>\n      <td>900191610</td>\n      <td>6.0</td>\n      <td>ADMI</td>\n      <td>ADMI</td>\n      <td>...</td>\n      <td>5193016.0</td>\n      <td>0.0</td>\n      <td>0.0</td>\n      <td>0.0</td>\n      <td>ADUANEROS IMPORTACION</td>\n      <td>AGENCIA DE ADUANAS BMA SAS NIVEL 2</td>\n      <td>71945</td>\n      <td>52</td>\n      <td>2723</td>\n      <td>52402001900191610</td>\n    </tr>\n    <tr>\n      <th>57101</th>\n      <td>61350101</td>\n      <td>NCP</td>\n      <td>NCP</td>\n      <td>497</td>\n      <td>20230401</td>\n      <td>N.C4601 APLICA FCE 9387 IMPORT No. 23 20203</td>\n      <td>830110689</td>\n      <td>7.0</td>\n      <td>ADMI</td>\n      <td>ADMI</td>\n      <td>...</td>\n      <td>8220758.0</td>\n      <td>0.0</td>\n      <td>-8220758.0</td>\n      <td>0.0</td>\n      <td>COMERCIO AL POR MAYOR Y AL POR MENOR</td>\n      <td>LOGISTICA 3T SA</td>\n      <td>65937</td>\n      <td>0</td>\n      <td>0</td>\n      <td>61350101830110689</td>\n    </tr>\n    <tr>\n      <th>57103</th>\n      <td>61350101</td>\n      <td>NCP</td>\n      <td>NCP</td>\n      <td>854</td>\n      <td>20230831</td>\n      <td>N.C8401 CRUCE D ECUENTA POR SINIESTRO APLI FCE...</td>\n      <td>830110689</td>\n      <td>7.0</td>\n      <td>ADMI</td>\n      <td>ADMI</td>\n      <td>...</td>\n      <td>1402019.0</td>\n      <td>0.0</td>\n      <td>-1402019.0</td>\n      <td>0.0</td>\n      <td>COMERCIO AL POR MAYOR Y AL POR MENOR</td>\n      <td>LOGISTICA 3T SA</td>\n      <td>72747</td>\n      <td>52</td>\n      <td>2732</td>\n      <td>61350101830110689</td>\n    </tr>\n    <tr>\n      <th>58944</th>\n      <td>733516</td>\n      <td>NC</td>\n      <td>L14</td>\n      <td>96</td>\n      <td>20230731</td>\n      <td>N.C4071- FCE 5309 JUNGHEINCH  DE MAQUINARIA JU...</td>\n      <td>800249678</td>\n      <td>5.0</td>\n      <td>ADMI</td>\n      <td>ADMI</td>\n      <td>...</td>\n      <td>3378517.0</td>\n      <td>0.0</td>\n      <td>0.0</td>\n      <td>0.0</td>\n      <td>SERVICIOS APOYO LOGISTICO Y ALMACENAMIEN</td>\n      <td>JUNGHEINRICH COLOMBIA SAS</td>\n      <td>71236</td>\n      <td>0</td>\n      <td>0</td>\n      <td>733516800249678</td>\n    </tr>\n  </tbody>\n</table>\n<p>185 rows × 24 columns</p>\n</div>"
     },
     "execution_count": 4,
     "metadata": {},
     "output_type": "execute_result"
    }
   ],
   "source": [
    "result_df"
   ],
   "metadata": {
    "collapsed": false,
    "ExecuteTime": {
     "end_time": "2024-02-07T20:14:31.493557800Z",
     "start_time": "2024-02-07T20:14:31.447566500Z"
    }
   },
   "id": "faae7b00a83d486f",
   "execution_count": 4
  },
  {
   "cell_type": "code",
   "outputs": [
    {
     "name": "stderr",
     "output_type": "stream",
     "text": [
      "C:\\Users\\Arnold Mauricio\\AppData\\Local\\Temp\\ipykernel_11652\\132634873.py:3: SettingWithCopyWarning: \n",
      "A value is trying to be set on a copy of a slice from a DataFrame.\n",
      "Try using .loc[row_indexer,col_indexer] = value instead\n",
      "\n",
      "See the caveats in the documentation: https://pandas.pydata.org/pandas-docs/stable/user_guide/indexing.html#returning-a-view-versus-a-copy\n",
      "  result_df.loc[:, 'Extraido'] = result_df['Concepto'].str.extract(r'N.C(\\d+)', expand=False)\n"
     ]
    }
   ],
   "source": [
    "# selecciona los ultimos cuatro digitos despues de FCE\n",
    "\n",
    "result_df.loc[:, 'Extraido'] = result_df['Concepto'].str.extract(r'N.C(\\d+)', expand=False)\n",
    "result_df.loc[:, 'Extraido'] = result_df['Extraido'].apply(lambda x: x.zfill(4) if pd.notna(x) else x)"
   ],
   "metadata": {
    "collapsed": false,
    "ExecuteTime": {
     "end_time": "2024-02-07T20:14:53.083179600Z",
     "start_time": "2024-02-07T20:14:53.057180200Z"
    }
   },
   "id": "137eb645550ab32",
   "execution_count": 5
  },
  {
   "cell_type": "code",
   "outputs": [
    {
     "data": {
      "text/plain": "         Cuenta Tipo  Prefijo  Número     Fecha  \\\n8065   13302003   NC      L19      48  20231001   \n8066   13302003   NC      L19      48  20231001   \n8067   13302003   NC      L19      48  20231001   \n8068   13302003   NC      L19      48  20231001   \n8069   13302003   NC      L19      48  20231001   \n...         ...   ...     ...     ...       ...   \n52994  52402001   NCP     NCP     848  20230815   \n52995  52402001   NCP     NCP     849  20230815   \n57101  61350101   NCP     NCP     497  20230401   \n57103  61350101   NCP     NCP     854  20230831   \n58944    733516   NC      L14      96  20230731   \n\n                                                Concepto        Nit   DV  \\\n8065                  N.C7491 APLICA A FCE4016 IMPORT 43  800084048  5.0   \n8066                  N.C7492 APLICA A FCE4010 IMPORT 38  800084048  5.0   \n8067                  N.C7486 APLICA A FCE4036 IMPORT 48  800084048  5.0   \n8068                  N.C7487 APLICA A FCE4006 IMPORT 40  800084048  5.0   \n8069                  N.C7488 APLICA A FCE4013 IMPORT 39  800084048  5.0   \n...                                                  ...        ...  ...   \n52994  N.C869 APLI FCE 9702                          ...  900191610  6.0   \n52995  N.C870 APL FCE 9703 COBRO  VALOR DE MAS       ...  900191610  6.0   \n57101        N.C4601 APLICA FCE 9387 IMPORT No. 23 20203  830110689  7.0   \n57103  N.C8401 CRUCE D ECUENTA POR SINIESTRO APLI FCE...  830110689  7.0   \n58944  N.C4071- FCE 5309 JUNGHEINCH  DE MAQUINARIA JU...  800249678  5.0   \n\n      Proyecto Centro  ...  SALDO   SALDOFIN  SALDOCTA  \\\n8065      ADMI   ADMI  ...    0.0  1145018.0       0.0   \n8066      ADMI   ADMI  ...    0.0  1283136.0       0.0   \n8067      ADMI   ADMI  ...    0.0  1421254.0       0.0   \n8068      ADMI   ADMI  ...    0.0  1559372.0       0.0   \n8069      ADMI   ADMI  ...    0.0  1697490.0       0.0   \n...        ...    ...  ...    ...        ...       ...   \n52994     ADMI   ADMI  ...    0.0  5193016.0       0.0   \n52995     ADMI   ADMI  ...    0.0        0.0       0.0   \n57101     ADMI   ADMI  ...    0.0 -8220758.0       0.0   \n57103     ADMI   ADMI  ...    0.0 -1402019.0       0.0   \n58944     ADMI   ADMI  ...    0.0        0.0       0.0   \n\n                                       Cuenta.1  \\\n8065                 NAVIERAS NC POR REINTEGRAR   \n8066                 NAVIERAS NC POR REINTEGRAR   \n8067                 NAVIERAS NC POR REINTEGRAR   \n8068                 NAVIERAS NC POR REINTEGRAR   \n8069                 NAVIERAS NC POR REINTEGRAR   \n...                                         ...   \n52994                     ADUANEROS IMPORTACION   \n52995                     ADUANEROS IMPORTACION   \n57101      COMERCIO AL POR MAYOR Y AL POR MENOR   \n57103      COMERCIO AL POR MAYOR Y AL POR MENOR   \n58944  SERVICIOS APOYO LOGISTICO Y ALMACENAMIEN   \n\n                                                 Tercero     ID  \\\n8065   SOCIEDAD PORTUARIA TERMINAL DE CONTENEDORES DE...  75622   \n8066   SOCIEDAD PORTUARIA TERMINAL DE CONTENEDORES DE...  75622   \n8067   SOCIEDAD PORTUARIA TERMINAL DE CONTENEDORES DE...  75622   \n8068   SOCIEDAD PORTUARIA TERMINAL DE CONTENEDORES DE...  75622   \n8069   SOCIEDAD PORTUARIA TERMINAL DE CONTENEDORES DE...  75622   \n...                                                  ...    ...   \n52994                 AGENCIA DE ADUANAS BMA SAS NIVEL 2  71935   \n52995                 AGENCIA DE ADUANAS BMA SAS NIVEL 2  71945   \n57101                                    LOGISTICA 3T SA  65937   \n57103                                    LOGISTICA 3T SA  72747   \n58944                          JUNGHEINRICH COLOMBIA SAS  71236   \n\n       Tipo Referencia  IDREF             Nombre Extraido  \n8065                 0      0  13302003800084048     7491  \n8066                 0      0  13302003800084048     7492  \n8067                 0      0  13302003800084048     7486  \n8068                 0      0  13302003800084048     7487  \n8069                 0      0  13302003800084048     7488  \n...                ...    ...                ...      ...  \n52994               52   2722  52402001900191610     0869  \n52995               52   2723  52402001900191610     0870  \n57101                0      0  61350101830110689     4601  \n57103               52   2732  61350101830110689     8401  \n58944                0      0    733516800249678     4071  \n\n[185 rows x 25 columns]",
      "text/html": "<div>\n<style scoped>\n    .dataframe tbody tr th:only-of-type {\n        vertical-align: middle;\n    }\n\n    .dataframe tbody tr th {\n        vertical-align: top;\n    }\n\n    .dataframe thead th {\n        text-align: right;\n    }\n</style>\n<table border=\"1\" class=\"dataframe\">\n  <thead>\n    <tr style=\"text-align: right;\">\n      <th></th>\n      <th>Cuenta</th>\n      <th>Tipo</th>\n      <th>Prefijo</th>\n      <th>Número</th>\n      <th>Fecha</th>\n      <th>Concepto</th>\n      <th>Nit</th>\n      <th>DV</th>\n      <th>Proyecto</th>\n      <th>Centro</th>\n      <th>...</th>\n      <th>SALDO</th>\n      <th>SALDOFIN</th>\n      <th>SALDOCTA</th>\n      <th>Cuenta.1</th>\n      <th>Tercero</th>\n      <th>ID</th>\n      <th>Tipo Referencia</th>\n      <th>IDREF</th>\n      <th>Nombre</th>\n      <th>Extraido</th>\n    </tr>\n  </thead>\n  <tbody>\n    <tr>\n      <th>8065</th>\n      <td>13302003</td>\n      <td>NC</td>\n      <td>L19</td>\n      <td>48</td>\n      <td>20231001</td>\n      <td>N.C7491 APLICA A FCE4016 IMPORT 43</td>\n      <td>800084048</td>\n      <td>5.0</td>\n      <td>ADMI</td>\n      <td>ADMI</td>\n      <td>...</td>\n      <td>0.0</td>\n      <td>1145018.0</td>\n      <td>0.0</td>\n      <td>NAVIERAS NC POR REINTEGRAR</td>\n      <td>SOCIEDAD PORTUARIA TERMINAL DE CONTENEDORES DE...</td>\n      <td>75622</td>\n      <td>0</td>\n      <td>0</td>\n      <td>13302003800084048</td>\n      <td>7491</td>\n    </tr>\n    <tr>\n      <th>8066</th>\n      <td>13302003</td>\n      <td>NC</td>\n      <td>L19</td>\n      <td>48</td>\n      <td>20231001</td>\n      <td>N.C7492 APLICA A FCE4010 IMPORT 38</td>\n      <td>800084048</td>\n      <td>5.0</td>\n      <td>ADMI</td>\n      <td>ADMI</td>\n      <td>...</td>\n      <td>0.0</td>\n      <td>1283136.0</td>\n      <td>0.0</td>\n      <td>NAVIERAS NC POR REINTEGRAR</td>\n      <td>SOCIEDAD PORTUARIA TERMINAL DE CONTENEDORES DE...</td>\n      <td>75622</td>\n      <td>0</td>\n      <td>0</td>\n      <td>13302003800084048</td>\n      <td>7492</td>\n    </tr>\n    <tr>\n      <th>8067</th>\n      <td>13302003</td>\n      <td>NC</td>\n      <td>L19</td>\n      <td>48</td>\n      <td>20231001</td>\n      <td>N.C7486 APLICA A FCE4036 IMPORT 48</td>\n      <td>800084048</td>\n      <td>5.0</td>\n      <td>ADMI</td>\n      <td>ADMI</td>\n      <td>...</td>\n      <td>0.0</td>\n      <td>1421254.0</td>\n      <td>0.0</td>\n      <td>NAVIERAS NC POR REINTEGRAR</td>\n      <td>SOCIEDAD PORTUARIA TERMINAL DE CONTENEDORES DE...</td>\n      <td>75622</td>\n      <td>0</td>\n      <td>0</td>\n      <td>13302003800084048</td>\n      <td>7486</td>\n    </tr>\n    <tr>\n      <th>8068</th>\n      <td>13302003</td>\n      <td>NC</td>\n      <td>L19</td>\n      <td>48</td>\n      <td>20231001</td>\n      <td>N.C7487 APLICA A FCE4006 IMPORT 40</td>\n      <td>800084048</td>\n      <td>5.0</td>\n      <td>ADMI</td>\n      <td>ADMI</td>\n      <td>...</td>\n      <td>0.0</td>\n      <td>1559372.0</td>\n      <td>0.0</td>\n      <td>NAVIERAS NC POR REINTEGRAR</td>\n      <td>SOCIEDAD PORTUARIA TERMINAL DE CONTENEDORES DE...</td>\n      <td>75622</td>\n      <td>0</td>\n      <td>0</td>\n      <td>13302003800084048</td>\n      <td>7487</td>\n    </tr>\n    <tr>\n      <th>8069</th>\n      <td>13302003</td>\n      <td>NC</td>\n      <td>L19</td>\n      <td>48</td>\n      <td>20231001</td>\n      <td>N.C7488 APLICA A FCE4013 IMPORT 39</td>\n      <td>800084048</td>\n      <td>5.0</td>\n      <td>ADMI</td>\n      <td>ADMI</td>\n      <td>...</td>\n      <td>0.0</td>\n      <td>1697490.0</td>\n      <td>0.0</td>\n      <td>NAVIERAS NC POR REINTEGRAR</td>\n      <td>SOCIEDAD PORTUARIA TERMINAL DE CONTENEDORES DE...</td>\n      <td>75622</td>\n      <td>0</td>\n      <td>0</td>\n      <td>13302003800084048</td>\n      <td>7488</td>\n    </tr>\n    <tr>\n      <th>...</th>\n      <td>...</td>\n      <td>...</td>\n      <td>...</td>\n      <td>...</td>\n      <td>...</td>\n      <td>...</td>\n      <td>...</td>\n      <td>...</td>\n      <td>...</td>\n      <td>...</td>\n      <td>...</td>\n      <td>...</td>\n      <td>...</td>\n      <td>...</td>\n      <td>...</td>\n      <td>...</td>\n      <td>...</td>\n      <td>...</td>\n      <td>...</td>\n      <td>...</td>\n      <td>...</td>\n    </tr>\n    <tr>\n      <th>52994</th>\n      <td>52402001</td>\n      <td>NCP</td>\n      <td>NCP</td>\n      <td>848</td>\n      <td>20230815</td>\n      <td>N.C869 APLI FCE 9702                          ...</td>\n      <td>900191610</td>\n      <td>6.0</td>\n      <td>ADMI</td>\n      <td>ADMI</td>\n      <td>...</td>\n      <td>0.0</td>\n      <td>5193016.0</td>\n      <td>0.0</td>\n      <td>ADUANEROS IMPORTACION</td>\n      <td>AGENCIA DE ADUANAS BMA SAS NIVEL 2</td>\n      <td>71935</td>\n      <td>52</td>\n      <td>2722</td>\n      <td>52402001900191610</td>\n      <td>0869</td>\n    </tr>\n    <tr>\n      <th>52995</th>\n      <td>52402001</td>\n      <td>NCP</td>\n      <td>NCP</td>\n      <td>849</td>\n      <td>20230815</td>\n      <td>N.C870 APL FCE 9703 COBRO  VALOR DE MAS       ...</td>\n      <td>900191610</td>\n      <td>6.0</td>\n      <td>ADMI</td>\n      <td>ADMI</td>\n      <td>...</td>\n      <td>0.0</td>\n      <td>0.0</td>\n      <td>0.0</td>\n      <td>ADUANEROS IMPORTACION</td>\n      <td>AGENCIA DE ADUANAS BMA SAS NIVEL 2</td>\n      <td>71945</td>\n      <td>52</td>\n      <td>2723</td>\n      <td>52402001900191610</td>\n      <td>0870</td>\n    </tr>\n    <tr>\n      <th>57101</th>\n      <td>61350101</td>\n      <td>NCP</td>\n      <td>NCP</td>\n      <td>497</td>\n      <td>20230401</td>\n      <td>N.C4601 APLICA FCE 9387 IMPORT No. 23 20203</td>\n      <td>830110689</td>\n      <td>7.0</td>\n      <td>ADMI</td>\n      <td>ADMI</td>\n      <td>...</td>\n      <td>0.0</td>\n      <td>-8220758.0</td>\n      <td>0.0</td>\n      <td>COMERCIO AL POR MAYOR Y AL POR MENOR</td>\n      <td>LOGISTICA 3T SA</td>\n      <td>65937</td>\n      <td>0</td>\n      <td>0</td>\n      <td>61350101830110689</td>\n      <td>4601</td>\n    </tr>\n    <tr>\n      <th>57103</th>\n      <td>61350101</td>\n      <td>NCP</td>\n      <td>NCP</td>\n      <td>854</td>\n      <td>20230831</td>\n      <td>N.C8401 CRUCE D ECUENTA POR SINIESTRO APLI FCE...</td>\n      <td>830110689</td>\n      <td>7.0</td>\n      <td>ADMI</td>\n      <td>ADMI</td>\n      <td>...</td>\n      <td>0.0</td>\n      <td>-1402019.0</td>\n      <td>0.0</td>\n      <td>COMERCIO AL POR MAYOR Y AL POR MENOR</td>\n      <td>LOGISTICA 3T SA</td>\n      <td>72747</td>\n      <td>52</td>\n      <td>2732</td>\n      <td>61350101830110689</td>\n      <td>8401</td>\n    </tr>\n    <tr>\n      <th>58944</th>\n      <td>733516</td>\n      <td>NC</td>\n      <td>L14</td>\n      <td>96</td>\n      <td>20230731</td>\n      <td>N.C4071- FCE 5309 JUNGHEINCH  DE MAQUINARIA JU...</td>\n      <td>800249678</td>\n      <td>5.0</td>\n      <td>ADMI</td>\n      <td>ADMI</td>\n      <td>...</td>\n      <td>0.0</td>\n      <td>0.0</td>\n      <td>0.0</td>\n      <td>SERVICIOS APOYO LOGISTICO Y ALMACENAMIEN</td>\n      <td>JUNGHEINRICH COLOMBIA SAS</td>\n      <td>71236</td>\n      <td>0</td>\n      <td>0</td>\n      <td>733516800249678</td>\n      <td>4071</td>\n    </tr>\n  </tbody>\n</table>\n<p>185 rows × 25 columns</p>\n</div>"
     },
     "execution_count": 6,
     "metadata": {},
     "output_type": "execute_result"
    }
   ],
   "source": [
    "# Concepto con solo los cuatro numeros \n",
    "result_df"
   ],
   "metadata": {
    "collapsed": false,
    "ExecuteTime": {
     "end_time": "2024-02-07T20:15:00.679675900Z",
     "start_time": "2024-02-07T20:15:00.636677400Z"
    }
   },
   "id": "b527d602b9b1649",
   "execution_count": 6
  },
  {
   "cell_type": "code",
   "outputs": [
    {
     "name": "stderr",
     "output_type": "stream",
     "text": [
      "C:\\Users\\Arnold Mauricio\\AppData\\Local\\Temp\\ipykernel_3448\\2014238660.py:3: SettingWithCopyWarning: \n",
      "A value is trying to be set on a copy of a slice from a DataFrame.\n",
      "Try using .loc[row_indexer,col_indexer] = value instead\n",
      "\n",
      "See the caveats in the documentation: https://pandas.pydata.org/pandas-docs/stable/user_guide/indexing.html#returning-a-view-versus-a-copy\n",
      "  result_df['Extraido_last'] = result_df['Extraido'].str[-4:]\n"
     ]
    }
   ],
   "source": [
    "# selecciona los 4 ultimos digitos de la columna Extraido\n",
    "\n",
    "result_df['Extraido_last'] = result_df['Extraido'].str[-4:]"
   ],
   "metadata": {
    "collapsed": false,
    "ExecuteTime": {
     "end_time": "2024-02-05T13:38:41.532758800Z",
     "start_time": "2024-02-05T13:38:41.489738Z"
    }
   },
   "id": "62dedc57f628e983",
   "execution_count": 74
  },
  {
   "cell_type": "code",
   "outputs": [
    {
     "data": {
      "text/plain": "         Cuenta Tipo  Prefijo  Número     Fecha  \\\n8065   13302003   NC      L19      48  20231001   \n8066   13302003   NC      L19      48  20231001   \n8067   13302003   NC      L19      48  20231001   \n8068   13302003   NC      L19      48  20231001   \n8069   13302003   NC      L19      48  20231001   \n...         ...   ...     ...     ...       ...   \n52994  52402001   NCP     NCP     848  20230815   \n52995  52402001   NCP     NCP     849  20230815   \n57101  61350101   NCP     NCP     497  20230401   \n57103  61350101   NCP     NCP     854  20230831   \n58944    733516   NC      L14      96  20230731   \n\n                                                Concepto        Nit   DV  \\\n8065                  N.C7491 APLICA A FCE4016 IMPORT 43  800084048  5.0   \n8066                  N.C7492 APLICA A FCE4010 IMPORT 38  800084048  5.0   \n8067                  N.C7486 APLICA A FCE4036 IMPORT 48  800084048  5.0   \n8068                  N.C7487 APLICA A FCE4006 IMPORT 40  800084048  5.0   \n8069                  N.C7488 APLICA A FCE4013 IMPORT 39  800084048  5.0   \n...                                                  ...        ...  ...   \n52994  N.C869 APLI FCE 9702                          ...  900191610  6.0   \n52995  N.C870 APL FCE 9703 COBRO  VALOR DE MAS       ...  900191610  6.0   \n57101        N.C4601 APLICA FCE 9387 IMPORT No. 23 20203  830110689  7.0   \n57103  N.C8401 CRUCE D ECUENTA POR SINIESTRO APLI FCE...  830110689  7.0   \n58944  N.C4071- FCE 5309 JUNGHEINCH  DE MAQUINARIA JU...  800249678  5.0   \n\n      Proyecto Centro  ...  SALDO   SALDOFIN  SALDOCTA  \\\n8065      ADMI   ADMI  ...    0.0  1145018.0       0.0   \n8066      ADMI   ADMI  ...    0.0  1283136.0       0.0   \n8067      ADMI   ADMI  ...    0.0  1421254.0       0.0   \n8068      ADMI   ADMI  ...    0.0  1559372.0       0.0   \n8069      ADMI   ADMI  ...    0.0  1697490.0       0.0   \n...        ...    ...  ...    ...        ...       ...   \n52994     ADMI   ADMI  ...    0.0  5193016.0       0.0   \n52995     ADMI   ADMI  ...    0.0        0.0       0.0   \n57101     ADMI   ADMI  ...    0.0 -8220758.0       0.0   \n57103     ADMI   ADMI  ...    0.0 -1402019.0       0.0   \n58944     ADMI   ADMI  ...    0.0        0.0       0.0   \n\n                                       Cuenta.1  \\\n8065                 NAVIERAS NC POR REINTEGRAR   \n8066                 NAVIERAS NC POR REINTEGRAR   \n8067                 NAVIERAS NC POR REINTEGRAR   \n8068                 NAVIERAS NC POR REINTEGRAR   \n8069                 NAVIERAS NC POR REINTEGRAR   \n...                                         ...   \n52994                     ADUANEROS IMPORTACION   \n52995                     ADUANEROS IMPORTACION   \n57101      COMERCIO AL POR MAYOR Y AL POR MENOR   \n57103      COMERCIO AL POR MAYOR Y AL POR MENOR   \n58944  SERVICIOS APOYO LOGISTICO Y ALMACENAMIEN   \n\n                                                 Tercero     ID  \\\n8065   SOCIEDAD PORTUARIA TERMINAL DE CONTENEDORES DE...  75622   \n8066   SOCIEDAD PORTUARIA TERMINAL DE CONTENEDORES DE...  75622   \n8067   SOCIEDAD PORTUARIA TERMINAL DE CONTENEDORES DE...  75622   \n8068   SOCIEDAD PORTUARIA TERMINAL DE CONTENEDORES DE...  75622   \n8069   SOCIEDAD PORTUARIA TERMINAL DE CONTENEDORES DE...  75622   \n...                                                  ...    ...   \n52994                 AGENCIA DE ADUANAS BMA SAS NIVEL 2  71935   \n52995                 AGENCIA DE ADUANAS BMA SAS NIVEL 2  71945   \n57101                                    LOGISTICA 3T SA  65937   \n57103                                    LOGISTICA 3T SA  72747   \n58944                          JUNGHEINRICH COLOMBIA SAS  71236   \n\n       Tipo Referencia  IDREF             Nombre Extraido  \n8065                 0      0  13302003800084048     7491  \n8066                 0      0  13302003800084048     7492  \n8067                 0      0  13302003800084048     7486  \n8068                 0      0  13302003800084048     7487  \n8069                 0      0  13302003800084048     7488  \n...                ...    ...                ...      ...  \n52994               52   2722  52402001900191610     0869  \n52995               52   2723  52402001900191610     0870  \n57101                0      0  61350101830110689     4601  \n57103               52   2732  61350101830110689     8401  \n58944                0      0    733516800249678     4071  \n\n[185 rows x 25 columns]",
      "text/html": "<div>\n<style scoped>\n    .dataframe tbody tr th:only-of-type {\n        vertical-align: middle;\n    }\n\n    .dataframe tbody tr th {\n        vertical-align: top;\n    }\n\n    .dataframe thead th {\n        text-align: right;\n    }\n</style>\n<table border=\"1\" class=\"dataframe\">\n  <thead>\n    <tr style=\"text-align: right;\">\n      <th></th>\n      <th>Cuenta</th>\n      <th>Tipo</th>\n      <th>Prefijo</th>\n      <th>Número</th>\n      <th>Fecha</th>\n      <th>Concepto</th>\n      <th>Nit</th>\n      <th>DV</th>\n      <th>Proyecto</th>\n      <th>Centro</th>\n      <th>...</th>\n      <th>SALDO</th>\n      <th>SALDOFIN</th>\n      <th>SALDOCTA</th>\n      <th>Cuenta.1</th>\n      <th>Tercero</th>\n      <th>ID</th>\n      <th>Tipo Referencia</th>\n      <th>IDREF</th>\n      <th>Nombre</th>\n      <th>Extraido</th>\n    </tr>\n  </thead>\n  <tbody>\n    <tr>\n      <th>8065</th>\n      <td>13302003</td>\n      <td>NC</td>\n      <td>L19</td>\n      <td>48</td>\n      <td>20231001</td>\n      <td>N.C7491 APLICA A FCE4016 IMPORT 43</td>\n      <td>800084048</td>\n      <td>5.0</td>\n      <td>ADMI</td>\n      <td>ADMI</td>\n      <td>...</td>\n      <td>0.0</td>\n      <td>1145018.0</td>\n      <td>0.0</td>\n      <td>NAVIERAS NC POR REINTEGRAR</td>\n      <td>SOCIEDAD PORTUARIA TERMINAL DE CONTENEDORES DE...</td>\n      <td>75622</td>\n      <td>0</td>\n      <td>0</td>\n      <td>13302003800084048</td>\n      <td>7491</td>\n    </tr>\n    <tr>\n      <th>8066</th>\n      <td>13302003</td>\n      <td>NC</td>\n      <td>L19</td>\n      <td>48</td>\n      <td>20231001</td>\n      <td>N.C7492 APLICA A FCE4010 IMPORT 38</td>\n      <td>800084048</td>\n      <td>5.0</td>\n      <td>ADMI</td>\n      <td>ADMI</td>\n      <td>...</td>\n      <td>0.0</td>\n      <td>1283136.0</td>\n      <td>0.0</td>\n      <td>NAVIERAS NC POR REINTEGRAR</td>\n      <td>SOCIEDAD PORTUARIA TERMINAL DE CONTENEDORES DE...</td>\n      <td>75622</td>\n      <td>0</td>\n      <td>0</td>\n      <td>13302003800084048</td>\n      <td>7492</td>\n    </tr>\n    <tr>\n      <th>8067</th>\n      <td>13302003</td>\n      <td>NC</td>\n      <td>L19</td>\n      <td>48</td>\n      <td>20231001</td>\n      <td>N.C7486 APLICA A FCE4036 IMPORT 48</td>\n      <td>800084048</td>\n      <td>5.0</td>\n      <td>ADMI</td>\n      <td>ADMI</td>\n      <td>...</td>\n      <td>0.0</td>\n      <td>1421254.0</td>\n      <td>0.0</td>\n      <td>NAVIERAS NC POR REINTEGRAR</td>\n      <td>SOCIEDAD PORTUARIA TERMINAL DE CONTENEDORES DE...</td>\n      <td>75622</td>\n      <td>0</td>\n      <td>0</td>\n      <td>13302003800084048</td>\n      <td>7486</td>\n    </tr>\n    <tr>\n      <th>8068</th>\n      <td>13302003</td>\n      <td>NC</td>\n      <td>L19</td>\n      <td>48</td>\n      <td>20231001</td>\n      <td>N.C7487 APLICA A FCE4006 IMPORT 40</td>\n      <td>800084048</td>\n      <td>5.0</td>\n      <td>ADMI</td>\n      <td>ADMI</td>\n      <td>...</td>\n      <td>0.0</td>\n      <td>1559372.0</td>\n      <td>0.0</td>\n      <td>NAVIERAS NC POR REINTEGRAR</td>\n      <td>SOCIEDAD PORTUARIA TERMINAL DE CONTENEDORES DE...</td>\n      <td>75622</td>\n      <td>0</td>\n      <td>0</td>\n      <td>13302003800084048</td>\n      <td>7487</td>\n    </tr>\n    <tr>\n      <th>8069</th>\n      <td>13302003</td>\n      <td>NC</td>\n      <td>L19</td>\n      <td>48</td>\n      <td>20231001</td>\n      <td>N.C7488 APLICA A FCE4013 IMPORT 39</td>\n      <td>800084048</td>\n      <td>5.0</td>\n      <td>ADMI</td>\n      <td>ADMI</td>\n      <td>...</td>\n      <td>0.0</td>\n      <td>1697490.0</td>\n      <td>0.0</td>\n      <td>NAVIERAS NC POR REINTEGRAR</td>\n      <td>SOCIEDAD PORTUARIA TERMINAL DE CONTENEDORES DE...</td>\n      <td>75622</td>\n      <td>0</td>\n      <td>0</td>\n      <td>13302003800084048</td>\n      <td>7488</td>\n    </tr>\n    <tr>\n      <th>...</th>\n      <td>...</td>\n      <td>...</td>\n      <td>...</td>\n      <td>...</td>\n      <td>...</td>\n      <td>...</td>\n      <td>...</td>\n      <td>...</td>\n      <td>...</td>\n      <td>...</td>\n      <td>...</td>\n      <td>...</td>\n      <td>...</td>\n      <td>...</td>\n      <td>...</td>\n      <td>...</td>\n      <td>...</td>\n      <td>...</td>\n      <td>...</td>\n      <td>...</td>\n      <td>...</td>\n    </tr>\n    <tr>\n      <th>52994</th>\n      <td>52402001</td>\n      <td>NCP</td>\n      <td>NCP</td>\n      <td>848</td>\n      <td>20230815</td>\n      <td>N.C869 APLI FCE 9702                          ...</td>\n      <td>900191610</td>\n      <td>6.0</td>\n      <td>ADMI</td>\n      <td>ADMI</td>\n      <td>...</td>\n      <td>0.0</td>\n      <td>5193016.0</td>\n      <td>0.0</td>\n      <td>ADUANEROS IMPORTACION</td>\n      <td>AGENCIA DE ADUANAS BMA SAS NIVEL 2</td>\n      <td>71935</td>\n      <td>52</td>\n      <td>2722</td>\n      <td>52402001900191610</td>\n      <td>0869</td>\n    </tr>\n    <tr>\n      <th>52995</th>\n      <td>52402001</td>\n      <td>NCP</td>\n      <td>NCP</td>\n      <td>849</td>\n      <td>20230815</td>\n      <td>N.C870 APL FCE 9703 COBRO  VALOR DE MAS       ...</td>\n      <td>900191610</td>\n      <td>6.0</td>\n      <td>ADMI</td>\n      <td>ADMI</td>\n      <td>...</td>\n      <td>0.0</td>\n      <td>0.0</td>\n      <td>0.0</td>\n      <td>ADUANEROS IMPORTACION</td>\n      <td>AGENCIA DE ADUANAS BMA SAS NIVEL 2</td>\n      <td>71945</td>\n      <td>52</td>\n      <td>2723</td>\n      <td>52402001900191610</td>\n      <td>0870</td>\n    </tr>\n    <tr>\n      <th>57101</th>\n      <td>61350101</td>\n      <td>NCP</td>\n      <td>NCP</td>\n      <td>497</td>\n      <td>20230401</td>\n      <td>N.C4601 APLICA FCE 9387 IMPORT No. 23 20203</td>\n      <td>830110689</td>\n      <td>7.0</td>\n      <td>ADMI</td>\n      <td>ADMI</td>\n      <td>...</td>\n      <td>0.0</td>\n      <td>-8220758.0</td>\n      <td>0.0</td>\n      <td>COMERCIO AL POR MAYOR Y AL POR MENOR</td>\n      <td>LOGISTICA 3T SA</td>\n      <td>65937</td>\n      <td>0</td>\n      <td>0</td>\n      <td>61350101830110689</td>\n      <td>4601</td>\n    </tr>\n    <tr>\n      <th>57103</th>\n      <td>61350101</td>\n      <td>NCP</td>\n      <td>NCP</td>\n      <td>854</td>\n      <td>20230831</td>\n      <td>N.C8401 CRUCE D ECUENTA POR SINIESTRO APLI FCE...</td>\n      <td>830110689</td>\n      <td>7.0</td>\n      <td>ADMI</td>\n      <td>ADMI</td>\n      <td>...</td>\n      <td>0.0</td>\n      <td>-1402019.0</td>\n      <td>0.0</td>\n      <td>COMERCIO AL POR MAYOR Y AL POR MENOR</td>\n      <td>LOGISTICA 3T SA</td>\n      <td>72747</td>\n      <td>52</td>\n      <td>2732</td>\n      <td>61350101830110689</td>\n      <td>8401</td>\n    </tr>\n    <tr>\n      <th>58944</th>\n      <td>733516</td>\n      <td>NC</td>\n      <td>L14</td>\n      <td>96</td>\n      <td>20230731</td>\n      <td>N.C4071- FCE 5309 JUNGHEINCH  DE MAQUINARIA JU...</td>\n      <td>800249678</td>\n      <td>5.0</td>\n      <td>ADMI</td>\n      <td>ADMI</td>\n      <td>...</td>\n      <td>0.0</td>\n      <td>0.0</td>\n      <td>0.0</td>\n      <td>SERVICIOS APOYO LOGISTICO Y ALMACENAMIEN</td>\n      <td>JUNGHEINRICH COLOMBIA SAS</td>\n      <td>71236</td>\n      <td>0</td>\n      <td>0</td>\n      <td>733516800249678</td>\n      <td>4071</td>\n    </tr>\n  </tbody>\n</table>\n<p>185 rows × 25 columns</p>\n</div>"
     },
     "execution_count": 7,
     "metadata": {},
     "output_type": "execute_result"
    }
   ],
   "source": [
    "result_df"
   ],
   "metadata": {
    "collapsed": false,
    "ExecuteTime": {
     "end_time": "2024-02-07T20:15:27.184934600Z",
     "start_time": "2024-02-07T20:15:27.159932200Z"
    }
   },
   "id": "8ac9b659e6a7db40",
   "execution_count": 7
  },
  {
   "cell_type": "markdown",
   "source": [
    "TOKEN DIC"
   ],
   "metadata": {
    "collapsed": false
   },
   "id": "261224e108d0d07a"
  },
  {
   "cell_type": "code",
   "outputs": [
    {
     "name": "stdout",
     "output_type": "stream",
     "text": [
      "     Tipo de documento                                          CUFE/CUDE  \\\n",
      "0  Factura electrónica  e590534bae070548d11ba359d7544f29fa50265d678a66...   \n",
      "1  Factura electrónica  58637fb06a171077d1e07940c0bceec5d97f961a431732...   \n",
      "2  Factura electrónica  5368c8897cabc24d6485638445f4a121fc736c5ef73c1a...   \n",
      "3  Factura electrónica  f05bb1a9e432f976ff138f08dc2698d85b7d8ff75fd751...   \n",
      "4  Factura electrónica  50d2eb38b3ac605ad8d10403489b82dac2b124275385f7...   \n",
      "\n",
      "       Folio Prefijos Fecha Emisión      Fecha Recepción   NIT Emisor  \\\n",
      "0  291057346        3    01-01-2023  08-01-2023 03:04:24  800153993.0   \n",
      "1  291037616        3    01-01-2023  08-01-2023 02:52:55  800153993.0   \n",
      "2  291072551        3    01-02-2023  08-02-2023 19:57:08  800153993.0   \n",
      "3  291096920        3    01-02-2023  08-02-2023 19:40:49  800153993.0   \n",
      "4      21138     B003    01-02-2023  01-02-2023 15:11:43  900606944.0   \n",
      "\n",
      "          Nombre Emisor  NIT Receptor    Nombre Receptor       IVA  ICA  IPC  \\\n",
      "0           COMCEL S.A.   900673912.0  SNF COLOMBIA SAS   19879.25  0.0  0.0   \n",
      "1           COMCEL S.A.   900673912.0  SNF COLOMBIA SAS   27478.94  0.0  0.0   \n",
      "2           COMCEL S.A.   900673912.0  SNF COLOMBIA SAS   18687.45  0.0  0.0   \n",
      "3           COMCEL S.A.   900673912.0  SNF COLOMBIA SAS   27478.94  0.0  0.0   \n",
      "4  ROLCO SHIPPING S.A.S   900673912.0   SNF COLOMBIA SAS      4.75  0.0  0.0   \n",
      "\n",
      "       Total                     Estado     Grupo  \n",
      "0  124543.60  Aprobado con notificación  Recibido  \n",
      "1  172105.00  Aprobado con notificación  Recibido  \n",
      "2  117042.45  Aprobado con notificación  Recibido  \n",
      "3  172105.00  Aprobado con notificación  Recibido  \n",
      "4      29.75  Aprobado con notificación  Recibido  \n"
     ]
    }
   ],
   "source": [
    "import pandas as pd\n",
    "\n",
    "# La siguiente línea lee el archivo csv y lo almacena en un DataFrame\n",
    "Token = pd.read_csv('token-dic.csv', encoding='iso-8859-1')\n",
    "\n",
    "# Imprime las primeras 5 filas del DataFrame\n",
    "print(Token.head())"
   ],
   "metadata": {
    "collapsed": false,
    "ExecuteTime": {
     "end_time": "2024-02-07T20:15:53.220338800Z",
     "start_time": "2024-02-07T20:15:53.171342800Z"
    }
   },
   "id": "18f19a4ca89f5d30",
   "execution_count": 8
  },
  {
   "cell_type": "code",
   "outputs": [
    {
     "name": "stdout",
     "output_type": "stream",
     "text": [
      "0    7346\n",
      "1    7616\n",
      "2    2551\n",
      "3    6920\n",
      "4    1138\n",
      "Name: Folio2, dtype: object\n"
     ]
    }
   ],
   "source": [
    "# toma los valores de folio y extrae los ultimos 1-4 digitos y los almacena en la columna Folio2\n",
    "Token['Folio2'] = Token['Folio'].astype(str).str.extract('(\\d{1,4})\\Z')\n",
    "\n",
    "print(Token['Folio2'].head())"
   ],
   "metadata": {
    "collapsed": false,
    "ExecuteTime": {
     "end_time": "2024-02-07T20:16:10.364196100Z",
     "start_time": "2024-02-07T20:16:10.336175Z"
    }
   },
   "id": "68e668a52138a1a",
   "execution_count": 9
  },
  {
   "cell_type": "code",
   "outputs": [
    {
     "data": {
      "text/plain": "        Tipo de documento                                          CUFE/CUDE  \\\n0     Factura electrónica  e590534bae070548d11ba359d7544f29fa50265d678a66...   \n1     Factura electrónica  58637fb06a171077d1e07940c0bceec5d97f961a431732...   \n2     Factura electrónica  5368c8897cabc24d6485638445f4a121fc736c5ef73c1a...   \n3     Factura electrónica  f05bb1a9e432f976ff138f08dc2698d85b7d8ff75fd751...   \n4     Factura electrónica  50d2eb38b3ac605ad8d10403489b82dac2b124275385f7...   \n...                   ...                                                ...   \n2949  Factura electrónica  b84c0e955edc6501cb84c04259e79a6319b2b92679eb81...   \n2950  Factura electrónica  632744debcd50a67fa752863dd460d4766a2f0d6b47d2c...   \n2951  Factura electrónica  aa50ac4d93b9ba0716b41f5c155ff0a13c8c444a50e27d...   \n2952  Factura electrónica  fe17cfdb368f8f15e71ee11036e2a909a33f53627461a5...   \n2953  Factura electrónica  2aaa86d662bdb7132f0e4ba7b4cfd5c74cb66c6fe9f8cd...   \n\n          Folio Prefijos Fecha Emisión      Fecha Recepción   NIT Emisor  \\\n0     291057346        3    01-01-2023  08-01-2023 03:04:24  800153993.0   \n1     291037616        3    01-01-2023  08-01-2023 02:52:55  800153993.0   \n2     291072551        3    01-02-2023  08-02-2023 19:57:08  800153993.0   \n3     291096920        3    01-02-2023  08-02-2023 19:40:49  800153993.0   \n4         21138     B003    01-02-2023  01-02-2023 15:11:43  900606944.0   \n...         ...      ...           ...                  ...          ...   \n2949        589     RAEX    31-10-2023  31-10-2023 20:53:45  901377533.0   \n2950      37505       FE    31-10-2023  31-10-2023 21:35:56  900977603.0   \n2951      37474       FE    31-10-2023  31-10-2023 16:01:17  900977603.0   \n2952       4476      FEI    31-10-2023  31-10-2023 22:16:36  901187386.0   \n2953       1731      PAA    31-10-2023  31-10-2023 13:05:01  811031936.0   \n\n                                          Nombre Emisor  NIT Receptor  \\\n0                                           COMCEL S.A.   900673912.0   \n1                                           COMCEL S.A.   900673912.0   \n2                                           COMCEL S.A.   900673912.0   \n3                                           COMCEL S.A.   900673912.0   \n4                                  ROLCO SHIPPING S.A.S   900673912.0   \n...                                                 ...           ...   \n2949                             RAKY EXPRESS SAS 01 00   900673912.0   \n2950  CENTRO DE DISTRIBUCION LOGISTICO INTERNACIONAL...   900673912.0   \n2951  CENTRO DE DISTRIBUCION LOGISTICO INTERNACIONAL...   900673912.0   \n2952                                       CAISO S.A.S.   900673912.0   \n2953                                  ALZATE NOREÑA SAS   900673912.0   \n\n          Nombre Receptor       IVA  ICA  IPC      Total  \\\n0       SNF COLOMBIA SAS   19879.25  0.0  0.0  124543.60   \n1       SNF COLOMBIA SAS   27478.94  0.0  0.0  172105.00   \n2       SNF COLOMBIA SAS   18687.45  0.0  0.0  117042.45   \n3       SNF COLOMBIA SAS   27478.94  0.0  0.0  172105.00   \n4        SNF COLOMBIA SAS      4.75  0.0  0.0      29.75   \n...                   ...       ...  ...  ...        ...   \n2949   SNF COLOMBIA S A S      0.00  0.0  0.0  320000.00   \n2950  SNF COLOMBIA S.A.S.  53580.00  0.0  0.0  335580.00   \n2951  SNF COLOMBIA S.A.S.  53580.00  0.0  0.0  335580.00   \n2952   SNF COLOMBIA S A S      0.00  0.0  0.0  100000.00   \n2953         SNF COLOMBIA      0.00  0.0  0.0   72657.00   \n\n                         Estado     Grupo Folio2  \n0     Aprobado con notificación  Recibido   7346  \n1     Aprobado con notificación  Recibido   7616  \n2     Aprobado con notificación  Recibido   2551  \n3     Aprobado con notificación  Recibido   6920  \n4     Aprobado con notificación  Recibido   1138  \n...                         ...       ...    ...  \n2949  Aprobado con notificación  Recibido    589  \n2950  Aprobado con notificación  Recibido   7505  \n2951  Aprobado con notificación  Recibido   7474  \n2952  Aprobado con notificación  Recibido   4476  \n2953  Aprobado con notificación  Recibido   1731  \n\n[2954 rows x 17 columns]",
      "text/html": "<div>\n<style scoped>\n    .dataframe tbody tr th:only-of-type {\n        vertical-align: middle;\n    }\n\n    .dataframe tbody tr th {\n        vertical-align: top;\n    }\n\n    .dataframe thead th {\n        text-align: right;\n    }\n</style>\n<table border=\"1\" class=\"dataframe\">\n  <thead>\n    <tr style=\"text-align: right;\">\n      <th></th>\n      <th>Tipo de documento</th>\n      <th>CUFE/CUDE</th>\n      <th>Folio</th>\n      <th>Prefijos</th>\n      <th>Fecha Emisión</th>\n      <th>Fecha Recepción</th>\n      <th>NIT Emisor</th>\n      <th>Nombre Emisor</th>\n      <th>NIT Receptor</th>\n      <th>Nombre Receptor</th>\n      <th>IVA</th>\n      <th>ICA</th>\n      <th>IPC</th>\n      <th>Total</th>\n      <th>Estado</th>\n      <th>Grupo</th>\n      <th>Folio2</th>\n    </tr>\n  </thead>\n  <tbody>\n    <tr>\n      <th>0</th>\n      <td>Factura electrónica</td>\n      <td>e590534bae070548d11ba359d7544f29fa50265d678a66...</td>\n      <td>291057346</td>\n      <td>3</td>\n      <td>01-01-2023</td>\n      <td>08-01-2023 03:04:24</td>\n      <td>800153993.0</td>\n      <td>COMCEL S.A.</td>\n      <td>900673912.0</td>\n      <td>SNF COLOMBIA SAS</td>\n      <td>19879.25</td>\n      <td>0.0</td>\n      <td>0.0</td>\n      <td>124543.60</td>\n      <td>Aprobado con notificación</td>\n      <td>Recibido</td>\n      <td>7346</td>\n    </tr>\n    <tr>\n      <th>1</th>\n      <td>Factura electrónica</td>\n      <td>58637fb06a171077d1e07940c0bceec5d97f961a431732...</td>\n      <td>291037616</td>\n      <td>3</td>\n      <td>01-01-2023</td>\n      <td>08-01-2023 02:52:55</td>\n      <td>800153993.0</td>\n      <td>COMCEL S.A.</td>\n      <td>900673912.0</td>\n      <td>SNF COLOMBIA SAS</td>\n      <td>27478.94</td>\n      <td>0.0</td>\n      <td>0.0</td>\n      <td>172105.00</td>\n      <td>Aprobado con notificación</td>\n      <td>Recibido</td>\n      <td>7616</td>\n    </tr>\n    <tr>\n      <th>2</th>\n      <td>Factura electrónica</td>\n      <td>5368c8897cabc24d6485638445f4a121fc736c5ef73c1a...</td>\n      <td>291072551</td>\n      <td>3</td>\n      <td>01-02-2023</td>\n      <td>08-02-2023 19:57:08</td>\n      <td>800153993.0</td>\n      <td>COMCEL S.A.</td>\n      <td>900673912.0</td>\n      <td>SNF COLOMBIA SAS</td>\n      <td>18687.45</td>\n      <td>0.0</td>\n      <td>0.0</td>\n      <td>117042.45</td>\n      <td>Aprobado con notificación</td>\n      <td>Recibido</td>\n      <td>2551</td>\n    </tr>\n    <tr>\n      <th>3</th>\n      <td>Factura electrónica</td>\n      <td>f05bb1a9e432f976ff138f08dc2698d85b7d8ff75fd751...</td>\n      <td>291096920</td>\n      <td>3</td>\n      <td>01-02-2023</td>\n      <td>08-02-2023 19:40:49</td>\n      <td>800153993.0</td>\n      <td>COMCEL S.A.</td>\n      <td>900673912.0</td>\n      <td>SNF COLOMBIA SAS</td>\n      <td>27478.94</td>\n      <td>0.0</td>\n      <td>0.0</td>\n      <td>172105.00</td>\n      <td>Aprobado con notificación</td>\n      <td>Recibido</td>\n      <td>6920</td>\n    </tr>\n    <tr>\n      <th>4</th>\n      <td>Factura electrónica</td>\n      <td>50d2eb38b3ac605ad8d10403489b82dac2b124275385f7...</td>\n      <td>21138</td>\n      <td>B003</td>\n      <td>01-02-2023</td>\n      <td>01-02-2023 15:11:43</td>\n      <td>900606944.0</td>\n      <td>ROLCO SHIPPING S.A.S</td>\n      <td>900673912.0</td>\n      <td>SNF COLOMBIA SAS</td>\n      <td>4.75</td>\n      <td>0.0</td>\n      <td>0.0</td>\n      <td>29.75</td>\n      <td>Aprobado con notificación</td>\n      <td>Recibido</td>\n      <td>1138</td>\n    </tr>\n    <tr>\n      <th>...</th>\n      <td>...</td>\n      <td>...</td>\n      <td>...</td>\n      <td>...</td>\n      <td>...</td>\n      <td>...</td>\n      <td>...</td>\n      <td>...</td>\n      <td>...</td>\n      <td>...</td>\n      <td>...</td>\n      <td>...</td>\n      <td>...</td>\n      <td>...</td>\n      <td>...</td>\n      <td>...</td>\n      <td>...</td>\n    </tr>\n    <tr>\n      <th>2949</th>\n      <td>Factura electrónica</td>\n      <td>b84c0e955edc6501cb84c04259e79a6319b2b92679eb81...</td>\n      <td>589</td>\n      <td>RAEX</td>\n      <td>31-10-2023</td>\n      <td>31-10-2023 20:53:45</td>\n      <td>901377533.0</td>\n      <td>RAKY EXPRESS SAS 01 00</td>\n      <td>900673912.0</td>\n      <td>SNF COLOMBIA S A S</td>\n      <td>0.00</td>\n      <td>0.0</td>\n      <td>0.0</td>\n      <td>320000.00</td>\n      <td>Aprobado con notificación</td>\n      <td>Recibido</td>\n      <td>589</td>\n    </tr>\n    <tr>\n      <th>2950</th>\n      <td>Factura electrónica</td>\n      <td>632744debcd50a67fa752863dd460d4766a2f0d6b47d2c...</td>\n      <td>37505</td>\n      <td>FE</td>\n      <td>31-10-2023</td>\n      <td>31-10-2023 21:35:56</td>\n      <td>900977603.0</td>\n      <td>CENTRO DE DISTRIBUCION LOGISTICO INTERNACIONAL...</td>\n      <td>900673912.0</td>\n      <td>SNF COLOMBIA S.A.S.</td>\n      <td>53580.00</td>\n      <td>0.0</td>\n      <td>0.0</td>\n      <td>335580.00</td>\n      <td>Aprobado con notificación</td>\n      <td>Recibido</td>\n      <td>7505</td>\n    </tr>\n    <tr>\n      <th>2951</th>\n      <td>Factura electrónica</td>\n      <td>aa50ac4d93b9ba0716b41f5c155ff0a13c8c444a50e27d...</td>\n      <td>37474</td>\n      <td>FE</td>\n      <td>31-10-2023</td>\n      <td>31-10-2023 16:01:17</td>\n      <td>900977603.0</td>\n      <td>CENTRO DE DISTRIBUCION LOGISTICO INTERNACIONAL...</td>\n      <td>900673912.0</td>\n      <td>SNF COLOMBIA S.A.S.</td>\n      <td>53580.00</td>\n      <td>0.0</td>\n      <td>0.0</td>\n      <td>335580.00</td>\n      <td>Aprobado con notificación</td>\n      <td>Recibido</td>\n      <td>7474</td>\n    </tr>\n    <tr>\n      <th>2952</th>\n      <td>Factura electrónica</td>\n      <td>fe17cfdb368f8f15e71ee11036e2a909a33f53627461a5...</td>\n      <td>4476</td>\n      <td>FEI</td>\n      <td>31-10-2023</td>\n      <td>31-10-2023 22:16:36</td>\n      <td>901187386.0</td>\n      <td>CAISO S.A.S.</td>\n      <td>900673912.0</td>\n      <td>SNF COLOMBIA S A S</td>\n      <td>0.00</td>\n      <td>0.0</td>\n      <td>0.0</td>\n      <td>100000.00</td>\n      <td>Aprobado con notificación</td>\n      <td>Recibido</td>\n      <td>4476</td>\n    </tr>\n    <tr>\n      <th>2953</th>\n      <td>Factura electrónica</td>\n      <td>2aaa86d662bdb7132f0e4ba7b4cfd5c74cb66c6fe9f8cd...</td>\n      <td>1731</td>\n      <td>PAA</td>\n      <td>31-10-2023</td>\n      <td>31-10-2023 13:05:01</td>\n      <td>811031936.0</td>\n      <td>ALZATE NOREÑA SAS</td>\n      <td>900673912.0</td>\n      <td>SNF COLOMBIA</td>\n      <td>0.00</td>\n      <td>0.0</td>\n      <td>0.0</td>\n      <td>72657.00</td>\n      <td>Aprobado con notificación</td>\n      <td>Recibido</td>\n      <td>1731</td>\n    </tr>\n  </tbody>\n</table>\n<p>2954 rows × 17 columns</p>\n</div>"
     },
     "execution_count": 10,
     "metadata": {},
     "output_type": "execute_result"
    }
   ],
   "source": [
    "Token"
   ],
   "metadata": {
    "collapsed": false,
    "ExecuteTime": {
     "end_time": "2024-02-07T20:16:13.926554800Z",
     "start_time": "2024-02-07T20:16:13.886528800Z"
    }
   },
   "id": "f08acee37e541e12",
   "execution_count": 10
  },
  {
   "cell_type": "code",
   "outputs": [
    {
     "data": {
      "text/plain": "        Tipo de documento                                          CUFE/CUDE  \\\n0     Factura electrónica  e590534bae070548d11ba359d7544f29fa50265d678a66...   \n1     Factura electrónica  58637fb06a171077d1e07940c0bceec5d97f961a431732...   \n2     Factura electrónica  5368c8897cabc24d6485638445f4a121fc736c5ef73c1a...   \n3     Factura electrónica  f05bb1a9e432f976ff138f08dc2698d85b7d8ff75fd751...   \n4     Factura electrónica  50d2eb38b3ac605ad8d10403489b82dac2b124275385f7...   \n...                   ...                                                ...   \n2949  Factura electrónica  b84c0e955edc6501cb84c04259e79a6319b2b92679eb81...   \n2950  Factura electrónica  632744debcd50a67fa752863dd460d4766a2f0d6b47d2c...   \n2951  Factura electrónica  aa50ac4d93b9ba0716b41f5c155ff0a13c8c444a50e27d...   \n2952  Factura electrónica  fe17cfdb368f8f15e71ee11036e2a909a33f53627461a5...   \n2953  Factura electrónica  2aaa86d662bdb7132f0e4ba7b4cfd5c74cb66c6fe9f8cd...   \n\n          Folio Prefijos Fecha Emisión      Fecha Recepción   NIT Emisor  \\\n0     291057346        3    01-01-2023  08-01-2023 03:04:24  800153993.0   \n1     291037616        3    01-01-2023  08-01-2023 02:52:55  800153993.0   \n2     291072551        3    01-02-2023  08-02-2023 19:57:08  800153993.0   \n3     291096920        3    01-02-2023  08-02-2023 19:40:49  800153993.0   \n4         21138     B003    01-02-2023  01-02-2023 15:11:43  900606944.0   \n...         ...      ...           ...                  ...          ...   \n2949        589     RAEX    31-10-2023  31-10-2023 20:53:45  901377533.0   \n2950      37505       FE    31-10-2023  31-10-2023 21:35:56  900977603.0   \n2951      37474       FE    31-10-2023  31-10-2023 16:01:17  900977603.0   \n2952       4476      FEI    31-10-2023  31-10-2023 22:16:36  901187386.0   \n2953       1731      PAA    31-10-2023  31-10-2023 13:05:01  811031936.0   \n\n                                          Nombre Emisor  NIT Receptor  \\\n0                                           COMCEL S.A.   900673912.0   \n1                                           COMCEL S.A.   900673912.0   \n2                                           COMCEL S.A.   900673912.0   \n3                                           COMCEL S.A.   900673912.0   \n4                                  ROLCO SHIPPING S.A.S   900673912.0   \n...                                                 ...           ...   \n2949                             RAKY EXPRESS SAS 01 00   900673912.0   \n2950  CENTRO DE DISTRIBUCION LOGISTICO INTERNACIONAL...   900673912.0   \n2951  CENTRO DE DISTRIBUCION LOGISTICO INTERNACIONAL...   900673912.0   \n2952                                       CAISO S.A.S.   900673912.0   \n2953                                  ALZATE NOREÑA SAS   900673912.0   \n\n          Nombre Receptor       IVA  ICA  IPC      Total  \\\n0       SNF COLOMBIA SAS   19879.25  0.0  0.0  124543.60   \n1       SNF COLOMBIA SAS   27478.94  0.0  0.0  172105.00   \n2       SNF COLOMBIA SAS   18687.45  0.0  0.0  117042.45   \n3       SNF COLOMBIA SAS   27478.94  0.0  0.0  172105.00   \n4        SNF COLOMBIA SAS      4.75  0.0  0.0      29.75   \n...                   ...       ...  ...  ...        ...   \n2949   SNF COLOMBIA S A S      0.00  0.0  0.0  320000.00   \n2950  SNF COLOMBIA S.A.S.  53580.00  0.0  0.0  335580.00   \n2951  SNF COLOMBIA S.A.S.  53580.00  0.0  0.0  335580.00   \n2952   SNF COLOMBIA S A S      0.00  0.0  0.0  100000.00   \n2953         SNF COLOMBIA      0.00  0.0  0.0   72657.00   \n\n                         Estado     Grupo Folio2  \n0     Aprobado con notificación  Recibido   7346  \n1     Aprobado con notificación  Recibido   7616  \n2     Aprobado con notificación  Recibido   2551  \n3     Aprobado con notificación  Recibido   6920  \n4     Aprobado con notificación  Recibido   1138  \n...                         ...       ...    ...  \n2949  Aprobado con notificación  Recibido    589  \n2950  Aprobado con notificación  Recibido   7505  \n2951  Aprobado con notificación  Recibido   7474  \n2952  Aprobado con notificación  Recibido   4476  \n2953  Aprobado con notificación  Recibido   1731  \n\n[2954 rows x 17 columns]",
      "text/html": "<div>\n<style scoped>\n    .dataframe tbody tr th:only-of-type {\n        vertical-align: middle;\n    }\n\n    .dataframe tbody tr th {\n        vertical-align: top;\n    }\n\n    .dataframe thead th {\n        text-align: right;\n    }\n</style>\n<table border=\"1\" class=\"dataframe\">\n  <thead>\n    <tr style=\"text-align: right;\">\n      <th></th>\n      <th>Tipo de documento</th>\n      <th>CUFE/CUDE</th>\n      <th>Folio</th>\n      <th>Prefijos</th>\n      <th>Fecha Emisión</th>\n      <th>Fecha Recepción</th>\n      <th>NIT Emisor</th>\n      <th>Nombre Emisor</th>\n      <th>NIT Receptor</th>\n      <th>Nombre Receptor</th>\n      <th>IVA</th>\n      <th>ICA</th>\n      <th>IPC</th>\n      <th>Total</th>\n      <th>Estado</th>\n      <th>Grupo</th>\n      <th>Folio2</th>\n    </tr>\n  </thead>\n  <tbody>\n    <tr>\n      <th>0</th>\n      <td>Factura electrónica</td>\n      <td>e590534bae070548d11ba359d7544f29fa50265d678a66...</td>\n      <td>291057346</td>\n      <td>3</td>\n      <td>01-01-2023</td>\n      <td>08-01-2023 03:04:24</td>\n      <td>800153993.0</td>\n      <td>COMCEL S.A.</td>\n      <td>900673912.0</td>\n      <td>SNF COLOMBIA SAS</td>\n      <td>19879.25</td>\n      <td>0.0</td>\n      <td>0.0</td>\n      <td>124543.60</td>\n      <td>Aprobado con notificación</td>\n      <td>Recibido</td>\n      <td>7346</td>\n    </tr>\n    <tr>\n      <th>1</th>\n      <td>Factura electrónica</td>\n      <td>58637fb06a171077d1e07940c0bceec5d97f961a431732...</td>\n      <td>291037616</td>\n      <td>3</td>\n      <td>01-01-2023</td>\n      <td>08-01-2023 02:52:55</td>\n      <td>800153993.0</td>\n      <td>COMCEL S.A.</td>\n      <td>900673912.0</td>\n      <td>SNF COLOMBIA SAS</td>\n      <td>27478.94</td>\n      <td>0.0</td>\n      <td>0.0</td>\n      <td>172105.00</td>\n      <td>Aprobado con notificación</td>\n      <td>Recibido</td>\n      <td>7616</td>\n    </tr>\n    <tr>\n      <th>2</th>\n      <td>Factura electrónica</td>\n      <td>5368c8897cabc24d6485638445f4a121fc736c5ef73c1a...</td>\n      <td>291072551</td>\n      <td>3</td>\n      <td>01-02-2023</td>\n      <td>08-02-2023 19:57:08</td>\n      <td>800153993.0</td>\n      <td>COMCEL S.A.</td>\n      <td>900673912.0</td>\n      <td>SNF COLOMBIA SAS</td>\n      <td>18687.45</td>\n      <td>0.0</td>\n      <td>0.0</td>\n      <td>117042.45</td>\n      <td>Aprobado con notificación</td>\n      <td>Recibido</td>\n      <td>2551</td>\n    </tr>\n    <tr>\n      <th>3</th>\n      <td>Factura electrónica</td>\n      <td>f05bb1a9e432f976ff138f08dc2698d85b7d8ff75fd751...</td>\n      <td>291096920</td>\n      <td>3</td>\n      <td>01-02-2023</td>\n      <td>08-02-2023 19:40:49</td>\n      <td>800153993.0</td>\n      <td>COMCEL S.A.</td>\n      <td>900673912.0</td>\n      <td>SNF COLOMBIA SAS</td>\n      <td>27478.94</td>\n      <td>0.0</td>\n      <td>0.0</td>\n      <td>172105.00</td>\n      <td>Aprobado con notificación</td>\n      <td>Recibido</td>\n      <td>6920</td>\n    </tr>\n    <tr>\n      <th>4</th>\n      <td>Factura electrónica</td>\n      <td>50d2eb38b3ac605ad8d10403489b82dac2b124275385f7...</td>\n      <td>21138</td>\n      <td>B003</td>\n      <td>01-02-2023</td>\n      <td>01-02-2023 15:11:43</td>\n      <td>900606944.0</td>\n      <td>ROLCO SHIPPING S.A.S</td>\n      <td>900673912.0</td>\n      <td>SNF COLOMBIA SAS</td>\n      <td>4.75</td>\n      <td>0.0</td>\n      <td>0.0</td>\n      <td>29.75</td>\n      <td>Aprobado con notificación</td>\n      <td>Recibido</td>\n      <td>1138</td>\n    </tr>\n    <tr>\n      <th>...</th>\n      <td>...</td>\n      <td>...</td>\n      <td>...</td>\n      <td>...</td>\n      <td>...</td>\n      <td>...</td>\n      <td>...</td>\n      <td>...</td>\n      <td>...</td>\n      <td>...</td>\n      <td>...</td>\n      <td>...</td>\n      <td>...</td>\n      <td>...</td>\n      <td>...</td>\n      <td>...</td>\n      <td>...</td>\n    </tr>\n    <tr>\n      <th>2949</th>\n      <td>Factura electrónica</td>\n      <td>b84c0e955edc6501cb84c04259e79a6319b2b92679eb81...</td>\n      <td>589</td>\n      <td>RAEX</td>\n      <td>31-10-2023</td>\n      <td>31-10-2023 20:53:45</td>\n      <td>901377533.0</td>\n      <td>RAKY EXPRESS SAS 01 00</td>\n      <td>900673912.0</td>\n      <td>SNF COLOMBIA S A S</td>\n      <td>0.00</td>\n      <td>0.0</td>\n      <td>0.0</td>\n      <td>320000.00</td>\n      <td>Aprobado con notificación</td>\n      <td>Recibido</td>\n      <td>589</td>\n    </tr>\n    <tr>\n      <th>2950</th>\n      <td>Factura electrónica</td>\n      <td>632744debcd50a67fa752863dd460d4766a2f0d6b47d2c...</td>\n      <td>37505</td>\n      <td>FE</td>\n      <td>31-10-2023</td>\n      <td>31-10-2023 21:35:56</td>\n      <td>900977603.0</td>\n      <td>CENTRO DE DISTRIBUCION LOGISTICO INTERNACIONAL...</td>\n      <td>900673912.0</td>\n      <td>SNF COLOMBIA S.A.S.</td>\n      <td>53580.00</td>\n      <td>0.0</td>\n      <td>0.0</td>\n      <td>335580.00</td>\n      <td>Aprobado con notificación</td>\n      <td>Recibido</td>\n      <td>7505</td>\n    </tr>\n    <tr>\n      <th>2951</th>\n      <td>Factura electrónica</td>\n      <td>aa50ac4d93b9ba0716b41f5c155ff0a13c8c444a50e27d...</td>\n      <td>37474</td>\n      <td>FE</td>\n      <td>31-10-2023</td>\n      <td>31-10-2023 16:01:17</td>\n      <td>900977603.0</td>\n      <td>CENTRO DE DISTRIBUCION LOGISTICO INTERNACIONAL...</td>\n      <td>900673912.0</td>\n      <td>SNF COLOMBIA S.A.S.</td>\n      <td>53580.00</td>\n      <td>0.0</td>\n      <td>0.0</td>\n      <td>335580.00</td>\n      <td>Aprobado con notificación</td>\n      <td>Recibido</td>\n      <td>7474</td>\n    </tr>\n    <tr>\n      <th>2952</th>\n      <td>Factura electrónica</td>\n      <td>fe17cfdb368f8f15e71ee11036e2a909a33f53627461a5...</td>\n      <td>4476</td>\n      <td>FEI</td>\n      <td>31-10-2023</td>\n      <td>31-10-2023 22:16:36</td>\n      <td>901187386.0</td>\n      <td>CAISO S.A.S.</td>\n      <td>900673912.0</td>\n      <td>SNF COLOMBIA S A S</td>\n      <td>0.00</td>\n      <td>0.0</td>\n      <td>0.0</td>\n      <td>100000.00</td>\n      <td>Aprobado con notificación</td>\n      <td>Recibido</td>\n      <td>4476</td>\n    </tr>\n    <tr>\n      <th>2953</th>\n      <td>Factura electrónica</td>\n      <td>2aaa86d662bdb7132f0e4ba7b4cfd5c74cb66c6fe9f8cd...</td>\n      <td>1731</td>\n      <td>PAA</td>\n      <td>31-10-2023</td>\n      <td>31-10-2023 13:05:01</td>\n      <td>811031936.0</td>\n      <td>ALZATE NOREÑA SAS</td>\n      <td>900673912.0</td>\n      <td>SNF COLOMBIA</td>\n      <td>0.00</td>\n      <td>0.0</td>\n      <td>0.0</td>\n      <td>72657.00</td>\n      <td>Aprobado con notificación</td>\n      <td>Recibido</td>\n      <td>1731</td>\n    </tr>\n  </tbody>\n</table>\n<p>2954 rows × 17 columns</p>\n</div>"
     },
     "execution_count": 11,
     "metadata": {},
     "output_type": "execute_result"
    }
   ],
   "source": [
    "Token"
   ],
   "metadata": {
    "collapsed": false,
    "ExecuteTime": {
     "end_time": "2024-02-07T20:16:23.669272800Z",
     "start_time": "2024-02-07T20:16:23.625273Z"
    }
   },
   "id": "2d0bc1a641e86f9",
   "execution_count": 11
  },
  {
   "cell_type": "code",
   "outputs": [
    {
     "name": "stderr",
     "output_type": "stream",
     "text": [
      "C:\\Users\\Arnold Mauricio\\AppData\\Local\\Temp\\ipykernel_11652\\4280965116.py:5: SettingWithCopyWarning: \n",
      "A value is trying to be set on a copy of a slice from a DataFrame.\n",
      "Try using .loc[row_indexer,col_indexer] = value instead\n",
      "\n",
      "See the caveats in the documentation: https://pandas.pydata.org/pandas-docs/stable/user_guide/indexing.html#returning-a-view-versus-a-copy\n",
      "  result_df['Match'] = result_df[['Nit', 'Extraido']].apply(lambda x: tuple(x) in token_pairs, axis=1)\n"
     ]
    }
   ],
   "source": [
    "# Creamos un set con los pares (NIT Emisor, Folio2) en Token para una búsqueda más rápida\n",
    "token_pairs = set(Token[['NIT Emisor', 'Folio2']].itertuples(index=False))\n",
    "\n",
    "# Luego creamos la columna 'Match' en result_df\n",
    "result_df['Match'] = result_df[['Nit', 'Extraido']].apply(lambda x: tuple(x) in token_pairs, axis=1)"
   ],
   "metadata": {
    "collapsed": false,
    "ExecuteTime": {
     "end_time": "2024-02-07T20:18:06.351336100Z",
     "start_time": "2024-02-07T20:18:06.310333500Z"
    }
   },
   "id": "34deb1427f019bd4",
   "execution_count": 14
  },
  {
   "cell_type": "code",
   "outputs": [
    {
     "data": {
      "text/plain": "         Cuenta Tipo  Prefijo  Número     Fecha  \\\n8065   13302003   NC      L19      48  20231001   \n8066   13302003   NC      L19      48  20231001   \n8067   13302003   NC      L19      48  20231001   \n8068   13302003   NC      L19      48  20231001   \n8069   13302003   NC      L19      48  20231001   \n...         ...   ...     ...     ...       ...   \n52994  52402001   NCP     NCP     848  20230815   \n52995  52402001   NCP     NCP     849  20230815   \n57101  61350101   NCP     NCP     497  20230401   \n57103  61350101   NCP     NCP     854  20230831   \n58944    733516   NC      L14      96  20230731   \n\n                                                Concepto        Nit   DV  \\\n8065                  N.C7491 APLICA A FCE4016 IMPORT 43  800084048  5.0   \n8066                  N.C7492 APLICA A FCE4010 IMPORT 38  800084048  5.0   \n8067                  N.C7486 APLICA A FCE4036 IMPORT 48  800084048  5.0   \n8068                  N.C7487 APLICA A FCE4006 IMPORT 40  800084048  5.0   \n8069                  N.C7488 APLICA A FCE4013 IMPORT 39  800084048  5.0   \n...                                                  ...        ...  ...   \n52994  N.C869 APLI FCE 9702                          ...  900191610  6.0   \n52995  N.C870 APL FCE 9703 COBRO  VALOR DE MAS       ...  900191610  6.0   \n57101        N.C4601 APLICA FCE 9387 IMPORT No. 23 20203  830110689  7.0   \n57103  N.C8401 CRUCE D ECUENTA POR SINIESTRO APLI FCE...  830110689  7.0   \n58944  N.C4071- FCE 5309 JUNGHEINCH  DE MAQUINARIA JU...  800249678  5.0   \n\n      Proyecto Centro  ...   SALDOFIN  SALDOCTA  \\\n8065      ADMI   ADMI  ...  1145018.0       0.0   \n8066      ADMI   ADMI  ...  1283136.0       0.0   \n8067      ADMI   ADMI  ...  1421254.0       0.0   \n8068      ADMI   ADMI  ...  1559372.0       0.0   \n8069      ADMI   ADMI  ...  1697490.0       0.0   \n...        ...    ...  ...        ...       ...   \n52994     ADMI   ADMI  ...  5193016.0       0.0   \n52995     ADMI   ADMI  ...        0.0       0.0   \n57101     ADMI   ADMI  ... -8220758.0       0.0   \n57103     ADMI   ADMI  ... -1402019.0       0.0   \n58944     ADMI   ADMI  ...        0.0       0.0   \n\n                                       Cuenta.1  \\\n8065                 NAVIERAS NC POR REINTEGRAR   \n8066                 NAVIERAS NC POR REINTEGRAR   \n8067                 NAVIERAS NC POR REINTEGRAR   \n8068                 NAVIERAS NC POR REINTEGRAR   \n8069                 NAVIERAS NC POR REINTEGRAR   \n...                                         ...   \n52994                     ADUANEROS IMPORTACION   \n52995                     ADUANEROS IMPORTACION   \n57101      COMERCIO AL POR MAYOR Y AL POR MENOR   \n57103      COMERCIO AL POR MAYOR Y AL POR MENOR   \n58944  SERVICIOS APOYO LOGISTICO Y ALMACENAMIEN   \n\n                                                 Tercero     ID  \\\n8065   SOCIEDAD PORTUARIA TERMINAL DE CONTENEDORES DE...  75622   \n8066   SOCIEDAD PORTUARIA TERMINAL DE CONTENEDORES DE...  75622   \n8067   SOCIEDAD PORTUARIA TERMINAL DE CONTENEDORES DE...  75622   \n8068   SOCIEDAD PORTUARIA TERMINAL DE CONTENEDORES DE...  75622   \n8069   SOCIEDAD PORTUARIA TERMINAL DE CONTENEDORES DE...  75622   \n...                                                  ...    ...   \n52994                 AGENCIA DE ADUANAS BMA SAS NIVEL 2  71935   \n52995                 AGENCIA DE ADUANAS BMA SAS NIVEL 2  71945   \n57101                                    LOGISTICA 3T SA  65937   \n57103                                    LOGISTICA 3T SA  72747   \n58944                          JUNGHEINRICH COLOMBIA SAS  71236   \n\n       Tipo Referencia  IDREF             Nombre Extraido  Match  \n8065                 0      0  13302003800084048     7491   True  \n8066                 0      0  13302003800084048     7492   True  \n8067                 0      0  13302003800084048     7486   True  \n8068                 0      0  13302003800084048     7487   True  \n8069                 0      0  13302003800084048     7488   True  \n...                ...    ...                ...      ...    ...  \n52994               52   2722  52402001900191610     0869  False  \n52995               52   2723  52402001900191610     0870  False  \n57101                0      0  61350101830110689     4601   True  \n57103               52   2732  61350101830110689     8401   True  \n58944                0      0    733516800249678     4071   True  \n\n[185 rows x 26 columns]",
      "text/html": "<div>\n<style scoped>\n    .dataframe tbody tr th:only-of-type {\n        vertical-align: middle;\n    }\n\n    .dataframe tbody tr th {\n        vertical-align: top;\n    }\n\n    .dataframe thead th {\n        text-align: right;\n    }\n</style>\n<table border=\"1\" class=\"dataframe\">\n  <thead>\n    <tr style=\"text-align: right;\">\n      <th></th>\n      <th>Cuenta</th>\n      <th>Tipo</th>\n      <th>Prefijo</th>\n      <th>Número</th>\n      <th>Fecha</th>\n      <th>Concepto</th>\n      <th>Nit</th>\n      <th>DV</th>\n      <th>Proyecto</th>\n      <th>Centro</th>\n      <th>...</th>\n      <th>SALDOFIN</th>\n      <th>SALDOCTA</th>\n      <th>Cuenta.1</th>\n      <th>Tercero</th>\n      <th>ID</th>\n      <th>Tipo Referencia</th>\n      <th>IDREF</th>\n      <th>Nombre</th>\n      <th>Extraido</th>\n      <th>Match</th>\n    </tr>\n  </thead>\n  <tbody>\n    <tr>\n      <th>8065</th>\n      <td>13302003</td>\n      <td>NC</td>\n      <td>L19</td>\n      <td>48</td>\n      <td>20231001</td>\n      <td>N.C7491 APLICA A FCE4016 IMPORT 43</td>\n      <td>800084048</td>\n      <td>5.0</td>\n      <td>ADMI</td>\n      <td>ADMI</td>\n      <td>...</td>\n      <td>1145018.0</td>\n      <td>0.0</td>\n      <td>NAVIERAS NC POR REINTEGRAR</td>\n      <td>SOCIEDAD PORTUARIA TERMINAL DE CONTENEDORES DE...</td>\n      <td>75622</td>\n      <td>0</td>\n      <td>0</td>\n      <td>13302003800084048</td>\n      <td>7491</td>\n      <td>True</td>\n    </tr>\n    <tr>\n      <th>8066</th>\n      <td>13302003</td>\n      <td>NC</td>\n      <td>L19</td>\n      <td>48</td>\n      <td>20231001</td>\n      <td>N.C7492 APLICA A FCE4010 IMPORT 38</td>\n      <td>800084048</td>\n      <td>5.0</td>\n      <td>ADMI</td>\n      <td>ADMI</td>\n      <td>...</td>\n      <td>1283136.0</td>\n      <td>0.0</td>\n      <td>NAVIERAS NC POR REINTEGRAR</td>\n      <td>SOCIEDAD PORTUARIA TERMINAL DE CONTENEDORES DE...</td>\n      <td>75622</td>\n      <td>0</td>\n      <td>0</td>\n      <td>13302003800084048</td>\n      <td>7492</td>\n      <td>True</td>\n    </tr>\n    <tr>\n      <th>8067</th>\n      <td>13302003</td>\n      <td>NC</td>\n      <td>L19</td>\n      <td>48</td>\n      <td>20231001</td>\n      <td>N.C7486 APLICA A FCE4036 IMPORT 48</td>\n      <td>800084048</td>\n      <td>5.0</td>\n      <td>ADMI</td>\n      <td>ADMI</td>\n      <td>...</td>\n      <td>1421254.0</td>\n      <td>0.0</td>\n      <td>NAVIERAS NC POR REINTEGRAR</td>\n      <td>SOCIEDAD PORTUARIA TERMINAL DE CONTENEDORES DE...</td>\n      <td>75622</td>\n      <td>0</td>\n      <td>0</td>\n      <td>13302003800084048</td>\n      <td>7486</td>\n      <td>True</td>\n    </tr>\n    <tr>\n      <th>8068</th>\n      <td>13302003</td>\n      <td>NC</td>\n      <td>L19</td>\n      <td>48</td>\n      <td>20231001</td>\n      <td>N.C7487 APLICA A FCE4006 IMPORT 40</td>\n      <td>800084048</td>\n      <td>5.0</td>\n      <td>ADMI</td>\n      <td>ADMI</td>\n      <td>...</td>\n      <td>1559372.0</td>\n      <td>0.0</td>\n      <td>NAVIERAS NC POR REINTEGRAR</td>\n      <td>SOCIEDAD PORTUARIA TERMINAL DE CONTENEDORES DE...</td>\n      <td>75622</td>\n      <td>0</td>\n      <td>0</td>\n      <td>13302003800084048</td>\n      <td>7487</td>\n      <td>True</td>\n    </tr>\n    <tr>\n      <th>8069</th>\n      <td>13302003</td>\n      <td>NC</td>\n      <td>L19</td>\n      <td>48</td>\n      <td>20231001</td>\n      <td>N.C7488 APLICA A FCE4013 IMPORT 39</td>\n      <td>800084048</td>\n      <td>5.0</td>\n      <td>ADMI</td>\n      <td>ADMI</td>\n      <td>...</td>\n      <td>1697490.0</td>\n      <td>0.0</td>\n      <td>NAVIERAS NC POR REINTEGRAR</td>\n      <td>SOCIEDAD PORTUARIA TERMINAL DE CONTENEDORES DE...</td>\n      <td>75622</td>\n      <td>0</td>\n      <td>0</td>\n      <td>13302003800084048</td>\n      <td>7488</td>\n      <td>True</td>\n    </tr>\n    <tr>\n      <th>...</th>\n      <td>...</td>\n      <td>...</td>\n      <td>...</td>\n      <td>...</td>\n      <td>...</td>\n      <td>...</td>\n      <td>...</td>\n      <td>...</td>\n      <td>...</td>\n      <td>...</td>\n      <td>...</td>\n      <td>...</td>\n      <td>...</td>\n      <td>...</td>\n      <td>...</td>\n      <td>...</td>\n      <td>...</td>\n      <td>...</td>\n      <td>...</td>\n      <td>...</td>\n      <td>...</td>\n    </tr>\n    <tr>\n      <th>52994</th>\n      <td>52402001</td>\n      <td>NCP</td>\n      <td>NCP</td>\n      <td>848</td>\n      <td>20230815</td>\n      <td>N.C869 APLI FCE 9702                          ...</td>\n      <td>900191610</td>\n      <td>6.0</td>\n      <td>ADMI</td>\n      <td>ADMI</td>\n      <td>...</td>\n      <td>5193016.0</td>\n      <td>0.0</td>\n      <td>ADUANEROS IMPORTACION</td>\n      <td>AGENCIA DE ADUANAS BMA SAS NIVEL 2</td>\n      <td>71935</td>\n      <td>52</td>\n      <td>2722</td>\n      <td>52402001900191610</td>\n      <td>0869</td>\n      <td>False</td>\n    </tr>\n    <tr>\n      <th>52995</th>\n      <td>52402001</td>\n      <td>NCP</td>\n      <td>NCP</td>\n      <td>849</td>\n      <td>20230815</td>\n      <td>N.C870 APL FCE 9703 COBRO  VALOR DE MAS       ...</td>\n      <td>900191610</td>\n      <td>6.0</td>\n      <td>ADMI</td>\n      <td>ADMI</td>\n      <td>...</td>\n      <td>0.0</td>\n      <td>0.0</td>\n      <td>ADUANEROS IMPORTACION</td>\n      <td>AGENCIA DE ADUANAS BMA SAS NIVEL 2</td>\n      <td>71945</td>\n      <td>52</td>\n      <td>2723</td>\n      <td>52402001900191610</td>\n      <td>0870</td>\n      <td>False</td>\n    </tr>\n    <tr>\n      <th>57101</th>\n      <td>61350101</td>\n      <td>NCP</td>\n      <td>NCP</td>\n      <td>497</td>\n      <td>20230401</td>\n      <td>N.C4601 APLICA FCE 9387 IMPORT No. 23 20203</td>\n      <td>830110689</td>\n      <td>7.0</td>\n      <td>ADMI</td>\n      <td>ADMI</td>\n      <td>...</td>\n      <td>-8220758.0</td>\n      <td>0.0</td>\n      <td>COMERCIO AL POR MAYOR Y AL POR MENOR</td>\n      <td>LOGISTICA 3T SA</td>\n      <td>65937</td>\n      <td>0</td>\n      <td>0</td>\n      <td>61350101830110689</td>\n      <td>4601</td>\n      <td>True</td>\n    </tr>\n    <tr>\n      <th>57103</th>\n      <td>61350101</td>\n      <td>NCP</td>\n      <td>NCP</td>\n      <td>854</td>\n      <td>20230831</td>\n      <td>N.C8401 CRUCE D ECUENTA POR SINIESTRO APLI FCE...</td>\n      <td>830110689</td>\n      <td>7.0</td>\n      <td>ADMI</td>\n      <td>ADMI</td>\n      <td>...</td>\n      <td>-1402019.0</td>\n      <td>0.0</td>\n      <td>COMERCIO AL POR MAYOR Y AL POR MENOR</td>\n      <td>LOGISTICA 3T SA</td>\n      <td>72747</td>\n      <td>52</td>\n      <td>2732</td>\n      <td>61350101830110689</td>\n      <td>8401</td>\n      <td>True</td>\n    </tr>\n    <tr>\n      <th>58944</th>\n      <td>733516</td>\n      <td>NC</td>\n      <td>L14</td>\n      <td>96</td>\n      <td>20230731</td>\n      <td>N.C4071- FCE 5309 JUNGHEINCH  DE MAQUINARIA JU...</td>\n      <td>800249678</td>\n      <td>5.0</td>\n      <td>ADMI</td>\n      <td>ADMI</td>\n      <td>...</td>\n      <td>0.0</td>\n      <td>0.0</td>\n      <td>SERVICIOS APOYO LOGISTICO Y ALMACENAMIEN</td>\n      <td>JUNGHEINRICH COLOMBIA SAS</td>\n      <td>71236</td>\n      <td>0</td>\n      <td>0</td>\n      <td>733516800249678</td>\n      <td>4071</td>\n      <td>True</td>\n    </tr>\n  </tbody>\n</table>\n<p>185 rows × 26 columns</p>\n</div>"
     },
     "execution_count": 15,
     "metadata": {},
     "output_type": "execute_result"
    }
   ],
   "source": [
    "result_df"
   ],
   "metadata": {
    "collapsed": false,
    "ExecuteTime": {
     "end_time": "2024-02-07T20:18:09.451718800Z",
     "start_time": "2024-02-07T20:18:09.371719200Z"
    }
   },
   "id": "e877033a68ab44e5",
   "execution_count": 15
  },
  {
   "cell_type": "code",
   "outputs": [],
   "source": [
    "result_df.to_excel('NC_df.xlsx', index=False)"
   ],
   "metadata": {
    "collapsed": false,
    "ExecuteTime": {
     "end_time": "2024-02-07T20:19:57.399621700Z",
     "start_time": "2024-02-07T20:19:56.721623800Z"
    }
   },
   "id": "1a9eebf02df1e3f7",
   "execution_count": 16
  },
  {
   "cell_type": "code",
   "outputs": [],
   "source": [],
   "metadata": {
    "collapsed": false
   },
   "id": "7f2ec23da15808ed"
  }
 ],
 "metadata": {
  "kernelspec": {
   "display_name": "Python 3",
   "language": "python",
   "name": "python3"
  },
  "language_info": {
   "codemirror_mode": {
    "name": "ipython",
    "version": 2
   },
   "file_extension": ".py",
   "mimetype": "text/x-python",
   "name": "python",
   "nbconvert_exporter": "python",
   "pygments_lexer": "ipython2",
   "version": "2.7.6"
  }
 },
 "nbformat": 4,
 "nbformat_minor": 5
}
