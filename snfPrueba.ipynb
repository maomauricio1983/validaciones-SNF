{
 "cells": [
  {
   "cell_type": "code",
   "execution_count": 68,
   "id": "initial_id",
   "metadata": {
    "collapsed": true,
    "ExecuteTime": {
     "end_time": "2024-02-05T13:38:41.381735300Z",
     "start_time": "2024-02-05T13:38:41.030734300Z"
    }
   },
   "outputs": [
    {
     "name": "stdout",
     "output_type": "stream",
     "text": [
      "   Cuenta Tipo  Prefijo  Número     Fecha  \\\n",
      "0  110505   CNS    CNS2    1289  20230102   \n",
      "1  110505   CNS    CNS2    1290  20230102   \n",
      "2  110505   RDC      R2     906  20230102   \n",
      "3  110505   RDC      R2     907  20230102   \n",
      "4  110505   CNS    CNS2    1291  20230103   \n",
      "\n",
      "                                            Concepto        Nit   DV Proyecto  \\\n",
      "0  CONSIGNACION No. CNS2001289-PG OCCIDENTAL DE P...  900673912  4.0     ADMI   \n",
      "1  CONSIGNACION No. CNS2001290-PH BUFFALO BUSINES...  900673912  4.0     ADMI   \n",
      "2  PG OCCIDENTAL DE P. QUIMICOS FACT VENT 3270   ...  900673912  4.0     ADMI   \n",
      "3  PH BUFFALO BUSINESS FACT VENT3183             ...  900673912  4.0     ADMI   \n",
      "4  CONSIGNACION No. CNS2001291-PG SUMISTRO FACT V...  900673912  4.0     ADMI   \n",
      "\n",
      "  Centro  ...     Crédito  SALDO    SALDOFIN  SALDOCTA      Cuenta.1  \\\n",
      "0   ADMI  ...   4815178.0    0.0  -4815178.0       0.0  CAJA GENERAL   \n",
      "1   ADMI  ...  44295630.0    0.0 -49110808.0       0.0  CAJA GENERAL   \n",
      "2   ADMI  ...         0.0    0.0 -44295630.0       0.0  CAJA GENERAL   \n",
      "3   ADMI  ...         0.0    0.0         0.0       0.0  CAJA GENERAL   \n",
      "4   ADMI  ...  11593101.4    0.0 -11593101.4       0.0  CAJA GENERAL   \n",
      "\n",
      "            Tercero     ID  Tipo Referencia IDREF           Nombre  \n",
      "0  SNF COLOMBIA SAS  59748               71  3908  110505900673912  \n",
      "1  SNF COLOMBIA SAS  59750               71  3909  110505900673912  \n",
      "2  SNF COLOMBIA SAS  59749               61  3170  110505900673912  \n",
      "3  SNF COLOMBIA SAS  59751               61  3171  110505900673912  \n",
      "4  SNF COLOMBIA SAS  59752               71  3910  110505900673912  \n",
      "\n",
      "[5 rows x 24 columns]\n"
     ]
    }
   ],
   "source": [
    "import pandas as pd\n",
    "\n",
    "# La siguiente línea lee el archivo csv y lo almacena en un DataFrame\n",
    "df = pd.read_csv('repauxterc2023.csv', encoding='iso-8859-1')\n",
    "\n",
    "# Imprime las primeras 5 filas del DataFrame\n",
    "print(df.head())"
   ]
  },
  {
   "cell_type": "code",
   "outputs": [
    {
     "name": "stdout",
     "output_type": "stream",
     "text": [
      "         Cuenta Tipo  Prefijo  Número     Fecha  \\\n",
      "1745     110505   RDC      R2    1371  20231103   \n",
      "1940     110505   RDC      RI    2210  20231218   \n",
      "4967   13050501   RDC      R2    1371  20231103   \n",
      "6469   13050501   RDC      RI    2210  20231218   \n",
      "7586   13301501   CAR      P1    7037  20230512   \n",
      "...         ...   ...     ...     ...       ...   \n",
      "59062    739530   RMS      P3     153  20230301   \n",
      "59063    739530   RMS      P4     565  20230801   \n",
      "59064    739530   RMS      P4     548  20230605   \n",
      "59065    739530   RMS      P3     175  20230907   \n",
      "59067    739530   RMS      P4     679  20231201   \n",
      "\n",
      "                                                Concepto        Nit   DV  \\\n",
      "1745   FCE QUIMLEC LIMITADA FVE4468,                 ...  900673912  4.0   \n",
      "1940   FCE BCR SUPLLY COLOMBIA SAS FVE 4219, ABONO 42...  900673912  4.0   \n",
      "4967   FCE QUIMLEC LIMITADA FVE4468,                 ...  800001494  1.0   \n",
      "6469   FCE BCR SUPLLY COLOMBIA SAS FVE 4219, ABONO 42...  900418674  4.0   \n",
      "7586   FCE6461-REPARACION SINIESTROS SUSTITUTO FVO360...   16539997  NaN   \n",
      "...                                                  ...        ...  ...   \n",
      "59062  FCE8975-COMPRA DE TEFLON-EVELYN PARRA         ...   72156418  7.0   \n",
      "59063  FCE8549-COMPRA PROBETA-JOHN HERNADEZ          ...  900617515  5.0   \n",
      "59064  FCE1936-COMPRA TEFLOM-EVELYN PARRA            ...  901678974  7.0   \n",
      "59065  FCE5265-COMPRA TEFLON INDUST 15MT GDE         ...  901678974  7.0   \n",
      "59067  FCE8650-COMPRA DE TEFLON INDUST               ...  901678974  7.0   \n",
      "\n",
      "      Proyecto Centro  ...      Crédito        SALDO      SALDOFIN  \\\n",
      "1745      ADMI   ADMI  ...         0.00          0.0 -4.566205e+07   \n",
      "1940      ADMI   ADMI  ...         0.00          0.0 -4.200000e-01   \n",
      "4967      ADMI   ADMI  ...   1544025.00          0.0 -1.544025e+06   \n",
      "6469      ADMI   ADMI  ...  47415141.18  273772574.0  4.593749e+08   \n",
      "7586      ADMI   ADMI  ...         0.00          0.0  7.872550e+05   \n",
      "...        ...    ...  ...          ...          ...           ...   \n",
      "59062     ADMI   ADMI  ...         0.00          0.0  2.521000e+04   \n",
      "59063     PROD   PROD  ...         0.00          0.0  1.220000e+05   \n",
      "59064     PROD   PROD  ...         0.00          0.0  2.521000e+04   \n",
      "59065     3000   3100  ...         0.00          0.0  5.042000e+04   \n",
      "59067     3000   3100  ...         0.00          0.0  1.134450e+05   \n",
      "\n",
      "           SALDOCTA                       Cuenta.1  \\\n",
      "1745   0.000000e+00                   CAJA GENERAL   \n",
      "1940   0.000000e+00                   CAJA GENERAL   \n",
      "4967   7.885808e+09              NACIONALES (USAR)   \n",
      "6469   7.885808e+09              NACIONALES (USAR)   \n",
      "7586   7.255840e+05                 A TRABAJADORES   \n",
      "...             ...                            ...   \n",
      "59062  0.000000e+00  UTILES PAPELERIA Y FOTOCOPIAS   \n",
      "59063  0.000000e+00  UTILES PAPELERIA Y FOTOCOPIAS   \n",
      "59064  0.000000e+00  UTILES PAPELERIA Y FOTOCOPIAS   \n",
      "59065  0.000000e+00  UTILES PAPELERIA Y FOTOCOPIAS   \n",
      "59067  0.000000e+00  UTILES PAPELERIA Y FOTOCOPIAS   \n",
      "\n",
      "                                     Tercero     ID  Tipo Referencia  IDREF  \\\n",
      "1745                        SNF COLOMBIA SAS  76481               61   4148   \n",
      "1940                        SNF COLOMBIA SAS  79247               61   4274   \n",
      "4967                        QUIMLEC LIMITADA  76481               61   4148   \n",
      "6469               BCR SUPPLY COLOMBIA S.A.S  79247               61   4274   \n",
      "7586             AYALA DIAZ MARCOS ALEXANDER  67601               51  16403   \n",
      "...                                      ...    ...              ...    ...   \n",
      "59062                BARRERA CALDERON ALVARO  64830               51  15660   \n",
      "59063  DISTRIBUCIONES J & E LABORATORIOS SAS  72910               51  18099   \n",
      "59064        INVERSIONES BARRERA RUEDA S.A.S  70027               51  17195   \n",
      "59065        INVERSIONES BARRERA RUEDA S.A.S  74011               51  18525   \n",
      "59067        INVERSIONES BARRERA RUEDA S.A.S  79603               51  20464   \n",
      "\n",
      "                  Nombre  \n",
      "1745     110505900673912  \n",
      "1940     110505900673912  \n",
      "4967   13050501800001494  \n",
      "6469   13050501900418674  \n",
      "7586    1330150116539997  \n",
      "...                  ...  \n",
      "59062     73953072156418  \n",
      "59063    739530900617515  \n",
      "59064    739530901678974  \n",
      "59065    739530901678974  \n",
      "59067    739530901678974  \n",
      "\n",
      "[11003 rows x 24 columns]\n"
     ]
    }
   ],
   "source": [
    "# filtra por los campos que empiezan por FCE en la columna Concepto\n",
    "mask = df['Concepto'].str.startswith('FCE', na=False)\n",
    "result_df = df[mask]\n",
    "print(result_df)"
   ],
   "metadata": {
    "collapsed": false,
    "ExecuteTime": {
     "end_time": "2024-02-05T13:38:41.416761800Z",
     "start_time": "2024-02-05T13:38:41.283762300Z"
    }
   },
   "id": "20e8480c1fc18dac",
   "execution_count": 69
  },
  {
   "cell_type": "markdown",
   "source": [],
   "metadata": {
    "collapsed": false
   },
   "id": "325a7c41030c1b5"
  },
  {
   "cell_type": "code",
   "outputs": [
    {
     "name": "stdout",
     "output_type": "stream",
     "text": [
      "         Cuenta Tipo  Prefijo  Número     Fecha  \\\n",
      "1745     110505   RDC      R2    1371  20231103   \n",
      "1940     110505   RDC      RI    2210  20231218   \n",
      "4967   13050501   RDC      R2    1371  20231103   \n",
      "6469   13050501   RDC      RI    2210  20231218   \n",
      "7586   13301501   CAR      P1    7037  20230512   \n",
      "...         ...   ...     ...     ...       ...   \n",
      "59062    739530   RMS      P3     153  20230301   \n",
      "59063    739530   RMS      P4     565  20230801   \n",
      "59064    739530   RMS      P4     548  20230605   \n",
      "59065    739530   RMS      P3     175  20230907   \n",
      "59067    739530   RMS      P4     679  20231201   \n",
      "\n",
      "                                                Concepto        Nit   DV  \\\n",
      "1745   FCEQUIMLEC LIMITADA FVE4468,                  ...  900673912  4.0   \n",
      "1940   FCEBCR SUPLLY COLOMBIA SAS FVE 4219, ABONO 423...  900673912  4.0   \n",
      "4967   FCEQUIMLEC LIMITADA FVE4468,                  ...  800001494  1.0   \n",
      "6469   FCEBCR SUPLLY COLOMBIA SAS FVE 4219, ABONO 423...  900418674  4.0   \n",
      "7586   FCE6461-REPARACION SINIESTROS SUSTITUTO FVO360...   16539997  NaN   \n",
      "...                                                  ...        ...  ...   \n",
      "59062  FCE8975-COMPRA DE TEFLON-EVELYN PARRA         ...   72156418  7.0   \n",
      "59063  FCE8549-COMPRA PROBETA-JOHN HERNADEZ          ...  900617515  5.0   \n",
      "59064  FCE1936-COMPRA TEFLOM-EVELYN PARRA            ...  901678974  7.0   \n",
      "59065  FCE5265-COMPRA TEFLON INDUST 15MT GDE         ...  901678974  7.0   \n",
      "59067  FCE8650-COMPRA DE TEFLON INDUST               ...  901678974  7.0   \n",
      "\n",
      "      Proyecto Centro  ...      Crédito        SALDO      SALDOFIN  \\\n",
      "1745      ADMI   ADMI  ...         0.00          0.0 -4.566205e+07   \n",
      "1940      ADMI   ADMI  ...         0.00          0.0 -4.200000e-01   \n",
      "4967      ADMI   ADMI  ...   1544025.00          0.0 -1.544025e+06   \n",
      "6469      ADMI   ADMI  ...  47415141.18  273772574.0  4.593749e+08   \n",
      "7586      ADMI   ADMI  ...         0.00          0.0  7.872550e+05   \n",
      "...        ...    ...  ...          ...          ...           ...   \n",
      "59062     ADMI   ADMI  ...         0.00          0.0  2.521000e+04   \n",
      "59063     PROD   PROD  ...         0.00          0.0  1.220000e+05   \n",
      "59064     PROD   PROD  ...         0.00          0.0  2.521000e+04   \n",
      "59065     3000   3100  ...         0.00          0.0  5.042000e+04   \n",
      "59067     3000   3100  ...         0.00          0.0  1.134450e+05   \n",
      "\n",
      "           SALDOCTA                       Cuenta.1  \\\n",
      "1745   0.000000e+00                   CAJA GENERAL   \n",
      "1940   0.000000e+00                   CAJA GENERAL   \n",
      "4967   7.885808e+09              NACIONALES (USAR)   \n",
      "6469   7.885808e+09              NACIONALES (USAR)   \n",
      "7586   7.255840e+05                 A TRABAJADORES   \n",
      "...             ...                            ...   \n",
      "59062  0.000000e+00  UTILES PAPELERIA Y FOTOCOPIAS   \n",
      "59063  0.000000e+00  UTILES PAPELERIA Y FOTOCOPIAS   \n",
      "59064  0.000000e+00  UTILES PAPELERIA Y FOTOCOPIAS   \n",
      "59065  0.000000e+00  UTILES PAPELERIA Y FOTOCOPIAS   \n",
      "59067  0.000000e+00  UTILES PAPELERIA Y FOTOCOPIAS   \n",
      "\n",
      "                                     Tercero     ID  Tipo Referencia  IDREF  \\\n",
      "1745                        SNF COLOMBIA SAS  76481               61   4148   \n",
      "1940                        SNF COLOMBIA SAS  79247               61   4274   \n",
      "4967                        QUIMLEC LIMITADA  76481               61   4148   \n",
      "6469               BCR SUPPLY COLOMBIA S.A.S  79247               61   4274   \n",
      "7586             AYALA DIAZ MARCOS ALEXANDER  67601               51  16403   \n",
      "...                                      ...    ...              ...    ...   \n",
      "59062                BARRERA CALDERON ALVARO  64830               51  15660   \n",
      "59063  DISTRIBUCIONES J & E LABORATORIOS SAS  72910               51  18099   \n",
      "59064        INVERSIONES BARRERA RUEDA S.A.S  70027               51  17195   \n",
      "59065        INVERSIONES BARRERA RUEDA S.A.S  74011               51  18525   \n",
      "59067        INVERSIONES BARRERA RUEDA S.A.S  79603               51  20464   \n",
      "\n",
      "                  Nombre  \n",
      "1745     110505900673912  \n",
      "1940     110505900673912  \n",
      "4967   13050501800001494  \n",
      "6469   13050501900418674  \n",
      "7586    1330150116539997  \n",
      "...                  ...  \n",
      "59062     73953072156418  \n",
      "59063    739530900617515  \n",
      "59064    739530901678974  \n",
      "59065    739530901678974  \n",
      "59067    739530901678974  \n",
      "\n",
      "[11003 rows x 24 columns]\n"
     ]
    },
    {
     "name": "stderr",
     "output_type": "stream",
     "text": [
      "C:\\Users\\Arnold Mauricio\\AppData\\Local\\Temp\\ipykernel_3448\\3452572531.py:2: SettingWithCopyWarning: \n",
      "A value is trying to be set on a copy of a slice from a DataFrame.\n",
      "Try using .loc[row_indexer,col_indexer] = value instead\n",
      "\n",
      "See the caveats in the documentation: https://pandas.pydata.org/pandas-docs/stable/user_guide/indexing.html#returning-a-view-versus-a-copy\n",
      "  result_df['Concepto'] = result_df['Concepto'].str.replace(r'FCE[ -]*', 'FCE', regex=True)\n"
     ]
    }
   ],
   "source": [
    "# elimina espacios o guiones que van despues de FCE\n",
    "result_df['Concepto'] = result_df['Concepto'].str.replace(r'FCE[ -]*', 'FCE', regex=True)\n",
    "print(result_df)"
   ],
   "metadata": {
    "collapsed": false,
    "ExecuteTime": {
     "end_time": "2024-02-05T13:38:41.417736200Z",
     "start_time": "2024-02-05T13:38:41.326763400Z"
    }
   },
   "id": "53bfa68aef511bcb",
   "execution_count": 70
  },
  {
   "cell_type": "code",
   "outputs": [
    {
     "data": {
      "text/plain": "         Cuenta Tipo  Prefijo  Número     Fecha  \\\n1745     110505   RDC      R2    1371  20231103   \n1940     110505   RDC      RI    2210  20231218   \n4967   13050501   RDC      R2    1371  20231103   \n6469   13050501   RDC      RI    2210  20231218   \n7586   13301501   CAR      P1    7037  20230512   \n...         ...   ...     ...     ...       ...   \n59062    739530   RMS      P3     153  20230301   \n59063    739530   RMS      P4     565  20230801   \n59064    739530   RMS      P4     548  20230605   \n59065    739530   RMS      P3     175  20230907   \n59067    739530   RMS      P4     679  20231201   \n\n                                                Concepto        Nit   DV  \\\n1745   FCEQUIMLEC LIMITADA FVE4468,                  ...  900673912  4.0   \n1940   FCEBCR SUPLLY COLOMBIA SAS FVE 4219, ABONO 423...  900673912  4.0   \n4967   FCEQUIMLEC LIMITADA FVE4468,                  ...  800001494  1.0   \n6469   FCEBCR SUPLLY COLOMBIA SAS FVE 4219, ABONO 423...  900418674  4.0   \n7586   FCE6461-REPARACION SINIESTROS SUSTITUTO FVO360...   16539997  NaN   \n...                                                  ...        ...  ...   \n59062  FCE8975-COMPRA DE TEFLON-EVELYN PARRA         ...   72156418  7.0   \n59063  FCE8549-COMPRA PROBETA-JOHN HERNADEZ          ...  900617515  5.0   \n59064  FCE1936-COMPRA TEFLOM-EVELYN PARRA            ...  901678974  7.0   \n59065  FCE5265-COMPRA TEFLON INDUST 15MT GDE         ...  901678974  7.0   \n59067  FCE8650-COMPRA DE TEFLON INDUST               ...  901678974  7.0   \n\n      Proyecto Centro  ...      Crédito        SALDO      SALDOFIN  \\\n1745      ADMI   ADMI  ...         0.00          0.0 -4.566205e+07   \n1940      ADMI   ADMI  ...         0.00          0.0 -4.200000e-01   \n4967      ADMI   ADMI  ...   1544025.00          0.0 -1.544025e+06   \n6469      ADMI   ADMI  ...  47415141.18  273772574.0  4.593749e+08   \n7586      ADMI   ADMI  ...         0.00          0.0  7.872550e+05   \n...        ...    ...  ...          ...          ...           ...   \n59062     ADMI   ADMI  ...         0.00          0.0  2.521000e+04   \n59063     PROD   PROD  ...         0.00          0.0  1.220000e+05   \n59064     PROD   PROD  ...         0.00          0.0  2.521000e+04   \n59065     3000   3100  ...         0.00          0.0  5.042000e+04   \n59067     3000   3100  ...         0.00          0.0  1.134450e+05   \n\n           SALDOCTA                       Cuenta.1  \\\n1745   0.000000e+00                   CAJA GENERAL   \n1940   0.000000e+00                   CAJA GENERAL   \n4967   7.885808e+09              NACIONALES (USAR)   \n6469   7.885808e+09              NACIONALES (USAR)   \n7586   7.255840e+05                 A TRABAJADORES   \n...             ...                            ...   \n59062  0.000000e+00  UTILES PAPELERIA Y FOTOCOPIAS   \n59063  0.000000e+00  UTILES PAPELERIA Y FOTOCOPIAS   \n59064  0.000000e+00  UTILES PAPELERIA Y FOTOCOPIAS   \n59065  0.000000e+00  UTILES PAPELERIA Y FOTOCOPIAS   \n59067  0.000000e+00  UTILES PAPELERIA Y FOTOCOPIAS   \n\n                                     Tercero     ID  Tipo Referencia  IDREF  \\\n1745                        SNF COLOMBIA SAS  76481               61   4148   \n1940                        SNF COLOMBIA SAS  79247               61   4274   \n4967                        QUIMLEC LIMITADA  76481               61   4148   \n6469               BCR SUPPLY COLOMBIA S.A.S  79247               61   4274   \n7586             AYALA DIAZ MARCOS ALEXANDER  67601               51  16403   \n...                                      ...    ...              ...    ...   \n59062                BARRERA CALDERON ALVARO  64830               51  15660   \n59063  DISTRIBUCIONES J & E LABORATORIOS SAS  72910               51  18099   \n59064        INVERSIONES BARRERA RUEDA S.A.S  70027               51  17195   \n59065        INVERSIONES BARRERA RUEDA S.A.S  74011               51  18525   \n59067        INVERSIONES BARRERA RUEDA S.A.S  79603               51  20464   \n\n                  Nombre  \n1745     110505900673912  \n1940     110505900673912  \n4967   13050501800001494  \n6469   13050501900418674  \n7586    1330150116539997  \n...                  ...  \n59062     73953072156418  \n59063    739530900617515  \n59064    739530901678974  \n59065    739530901678974  \n59067    739530901678974  \n\n[11003 rows x 24 columns]",
      "text/html": "<div>\n<style scoped>\n    .dataframe tbody tr th:only-of-type {\n        vertical-align: middle;\n    }\n\n    .dataframe tbody tr th {\n        vertical-align: top;\n    }\n\n    .dataframe thead th {\n        text-align: right;\n    }\n</style>\n<table border=\"1\" class=\"dataframe\">\n  <thead>\n    <tr style=\"text-align: right;\">\n      <th></th>\n      <th>Cuenta</th>\n      <th>Tipo</th>\n      <th>Prefijo</th>\n      <th>Número</th>\n      <th>Fecha</th>\n      <th>Concepto</th>\n      <th>Nit</th>\n      <th>DV</th>\n      <th>Proyecto</th>\n      <th>Centro</th>\n      <th>...</th>\n      <th>Crédito</th>\n      <th>SALDO</th>\n      <th>SALDOFIN</th>\n      <th>SALDOCTA</th>\n      <th>Cuenta.1</th>\n      <th>Tercero</th>\n      <th>ID</th>\n      <th>Tipo Referencia</th>\n      <th>IDREF</th>\n      <th>Nombre</th>\n    </tr>\n  </thead>\n  <tbody>\n    <tr>\n      <th>1745</th>\n      <td>110505</td>\n      <td>RDC</td>\n      <td>R2</td>\n      <td>1371</td>\n      <td>20231103</td>\n      <td>FCEQUIMLEC LIMITADA FVE4468,                  ...</td>\n      <td>900673912</td>\n      <td>4.0</td>\n      <td>ADMI</td>\n      <td>ADMI</td>\n      <td>...</td>\n      <td>0.00</td>\n      <td>0.0</td>\n      <td>-4.566205e+07</td>\n      <td>0.000000e+00</td>\n      <td>CAJA GENERAL</td>\n      <td>SNF COLOMBIA SAS</td>\n      <td>76481</td>\n      <td>61</td>\n      <td>4148</td>\n      <td>110505900673912</td>\n    </tr>\n    <tr>\n      <th>1940</th>\n      <td>110505</td>\n      <td>RDC</td>\n      <td>RI</td>\n      <td>2210</td>\n      <td>20231218</td>\n      <td>FCEBCR SUPLLY COLOMBIA SAS FVE 4219, ABONO 423...</td>\n      <td>900673912</td>\n      <td>4.0</td>\n      <td>ADMI</td>\n      <td>ADMI</td>\n      <td>...</td>\n      <td>0.00</td>\n      <td>0.0</td>\n      <td>-4.200000e-01</td>\n      <td>0.000000e+00</td>\n      <td>CAJA GENERAL</td>\n      <td>SNF COLOMBIA SAS</td>\n      <td>79247</td>\n      <td>61</td>\n      <td>4274</td>\n      <td>110505900673912</td>\n    </tr>\n    <tr>\n      <th>4967</th>\n      <td>13050501</td>\n      <td>RDC</td>\n      <td>R2</td>\n      <td>1371</td>\n      <td>20231103</td>\n      <td>FCEQUIMLEC LIMITADA FVE4468,                  ...</td>\n      <td>800001494</td>\n      <td>1.0</td>\n      <td>ADMI</td>\n      <td>ADMI</td>\n      <td>...</td>\n      <td>1544025.00</td>\n      <td>0.0</td>\n      <td>-1.544025e+06</td>\n      <td>7.885808e+09</td>\n      <td>NACIONALES (USAR)</td>\n      <td>QUIMLEC LIMITADA</td>\n      <td>76481</td>\n      <td>61</td>\n      <td>4148</td>\n      <td>13050501800001494</td>\n    </tr>\n    <tr>\n      <th>6469</th>\n      <td>13050501</td>\n      <td>RDC</td>\n      <td>RI</td>\n      <td>2210</td>\n      <td>20231218</td>\n      <td>FCEBCR SUPLLY COLOMBIA SAS FVE 4219, ABONO 423...</td>\n      <td>900418674</td>\n      <td>4.0</td>\n      <td>ADMI</td>\n      <td>ADMI</td>\n      <td>...</td>\n      <td>47415141.18</td>\n      <td>273772574.0</td>\n      <td>4.593749e+08</td>\n      <td>7.885808e+09</td>\n      <td>NACIONALES (USAR)</td>\n      <td>BCR SUPPLY COLOMBIA S.A.S</td>\n      <td>79247</td>\n      <td>61</td>\n      <td>4274</td>\n      <td>13050501900418674</td>\n    </tr>\n    <tr>\n      <th>7586</th>\n      <td>13301501</td>\n      <td>CAR</td>\n      <td>P1</td>\n      <td>7037</td>\n      <td>20230512</td>\n      <td>FCE6461-REPARACION SINIESTROS SUSTITUTO FVO360...</td>\n      <td>16539997</td>\n      <td>NaN</td>\n      <td>ADMI</td>\n      <td>ADMI</td>\n      <td>...</td>\n      <td>0.00</td>\n      <td>0.0</td>\n      <td>7.872550e+05</td>\n      <td>7.255840e+05</td>\n      <td>A TRABAJADORES</td>\n      <td>AYALA DIAZ MARCOS ALEXANDER</td>\n      <td>67601</td>\n      <td>51</td>\n      <td>16403</td>\n      <td>1330150116539997</td>\n    </tr>\n    <tr>\n      <th>...</th>\n      <td>...</td>\n      <td>...</td>\n      <td>...</td>\n      <td>...</td>\n      <td>...</td>\n      <td>...</td>\n      <td>...</td>\n      <td>...</td>\n      <td>...</td>\n      <td>...</td>\n      <td>...</td>\n      <td>...</td>\n      <td>...</td>\n      <td>...</td>\n      <td>...</td>\n      <td>...</td>\n      <td>...</td>\n      <td>...</td>\n      <td>...</td>\n      <td>...</td>\n      <td>...</td>\n    </tr>\n    <tr>\n      <th>59062</th>\n      <td>739530</td>\n      <td>RMS</td>\n      <td>P3</td>\n      <td>153</td>\n      <td>20230301</td>\n      <td>FCE8975-COMPRA DE TEFLON-EVELYN PARRA         ...</td>\n      <td>72156418</td>\n      <td>7.0</td>\n      <td>ADMI</td>\n      <td>ADMI</td>\n      <td>...</td>\n      <td>0.00</td>\n      <td>0.0</td>\n      <td>2.521000e+04</td>\n      <td>0.000000e+00</td>\n      <td>UTILES PAPELERIA Y FOTOCOPIAS</td>\n      <td>BARRERA CALDERON ALVARO</td>\n      <td>64830</td>\n      <td>51</td>\n      <td>15660</td>\n      <td>73953072156418</td>\n    </tr>\n    <tr>\n      <th>59063</th>\n      <td>739530</td>\n      <td>RMS</td>\n      <td>P4</td>\n      <td>565</td>\n      <td>20230801</td>\n      <td>FCE8549-COMPRA PROBETA-JOHN HERNADEZ          ...</td>\n      <td>900617515</td>\n      <td>5.0</td>\n      <td>PROD</td>\n      <td>PROD</td>\n      <td>...</td>\n      <td>0.00</td>\n      <td>0.0</td>\n      <td>1.220000e+05</td>\n      <td>0.000000e+00</td>\n      <td>UTILES PAPELERIA Y FOTOCOPIAS</td>\n      <td>DISTRIBUCIONES J &amp; E LABORATORIOS SAS</td>\n      <td>72910</td>\n      <td>51</td>\n      <td>18099</td>\n      <td>739530900617515</td>\n    </tr>\n    <tr>\n      <th>59064</th>\n      <td>739530</td>\n      <td>RMS</td>\n      <td>P4</td>\n      <td>548</td>\n      <td>20230605</td>\n      <td>FCE1936-COMPRA TEFLOM-EVELYN PARRA            ...</td>\n      <td>901678974</td>\n      <td>7.0</td>\n      <td>PROD</td>\n      <td>PROD</td>\n      <td>...</td>\n      <td>0.00</td>\n      <td>0.0</td>\n      <td>2.521000e+04</td>\n      <td>0.000000e+00</td>\n      <td>UTILES PAPELERIA Y FOTOCOPIAS</td>\n      <td>INVERSIONES BARRERA RUEDA S.A.S</td>\n      <td>70027</td>\n      <td>51</td>\n      <td>17195</td>\n      <td>739530901678974</td>\n    </tr>\n    <tr>\n      <th>59065</th>\n      <td>739530</td>\n      <td>RMS</td>\n      <td>P3</td>\n      <td>175</td>\n      <td>20230907</td>\n      <td>FCE5265-COMPRA TEFLON INDUST 15MT GDE         ...</td>\n      <td>901678974</td>\n      <td>7.0</td>\n      <td>3000</td>\n      <td>3100</td>\n      <td>...</td>\n      <td>0.00</td>\n      <td>0.0</td>\n      <td>5.042000e+04</td>\n      <td>0.000000e+00</td>\n      <td>UTILES PAPELERIA Y FOTOCOPIAS</td>\n      <td>INVERSIONES BARRERA RUEDA S.A.S</td>\n      <td>74011</td>\n      <td>51</td>\n      <td>18525</td>\n      <td>739530901678974</td>\n    </tr>\n    <tr>\n      <th>59067</th>\n      <td>739530</td>\n      <td>RMS</td>\n      <td>P4</td>\n      <td>679</td>\n      <td>20231201</td>\n      <td>FCE8650-COMPRA DE TEFLON INDUST               ...</td>\n      <td>901678974</td>\n      <td>7.0</td>\n      <td>3000</td>\n      <td>3100</td>\n      <td>...</td>\n      <td>0.00</td>\n      <td>0.0</td>\n      <td>1.134450e+05</td>\n      <td>0.000000e+00</td>\n      <td>UTILES PAPELERIA Y FOTOCOPIAS</td>\n      <td>INVERSIONES BARRERA RUEDA S.A.S</td>\n      <td>79603</td>\n      <td>51</td>\n      <td>20464</td>\n      <td>739530901678974</td>\n    </tr>\n  </tbody>\n</table>\n<p>11003 rows × 24 columns</p>\n</div>"
     },
     "execution_count": 71,
     "metadata": {},
     "output_type": "execute_result"
    }
   ],
   "source": [
    "result_df"
   ],
   "metadata": {
    "collapsed": false,
    "ExecuteTime": {
     "end_time": "2024-02-05T13:38:41.430734100Z",
     "start_time": "2024-02-05T13:38:41.358739900Z"
    }
   },
   "id": "faae7b00a83d486f",
   "execution_count": 71
  },
  {
   "cell_type": "code",
   "outputs": [
    {
     "name": "stderr",
     "output_type": "stream",
     "text": [
      "C:\\Users\\Arnold Mauricio\\AppData\\Local\\Temp\\ipykernel_3448\\1872433009.py:3: SettingWithCopyWarning: \n",
      "A value is trying to be set on a copy of a slice from a DataFrame.\n",
      "Try using .loc[row_indexer,col_indexer] = value instead\n",
      "\n",
      "See the caveats in the documentation: https://pandas.pydata.org/pandas-docs/stable/user_guide/indexing.html#returning-a-view-versus-a-copy\n",
      "  result_df.loc[:, 'Extraido'] = result_df['Concepto'].str.extract(r'FCE(\\d+)', expand=False)\n"
     ]
    }
   ],
   "source": [
    "# selecciona los ultimos cuatro digitos despues de FCE\n",
    "\n",
    "result_df.loc[:, 'Extraido'] = result_df['Concepto'].str.extract(r'FCE(\\d+)', expand=False)\n",
    "result_df.loc[:, 'Extraido'] = result_df['Extraido'].apply(lambda x: x.zfill(4) if pd.notna(x) else x)"
   ],
   "metadata": {
    "collapsed": false,
    "ExecuteTime": {
     "end_time": "2024-02-05T13:38:41.528735500Z",
     "start_time": "2024-02-05T13:38:41.409739300Z"
    }
   },
   "id": "137eb645550ab32",
   "execution_count": 72
  },
  {
   "cell_type": "code",
   "outputs": [
    {
     "data": {
      "text/plain": "         Cuenta Tipo  Prefijo  Número     Fecha  \\\n1745     110505   RDC      R2    1371  20231103   \n1940     110505   RDC      RI    2210  20231218   \n4967   13050501   RDC      R2    1371  20231103   \n6469   13050501   RDC      RI    2210  20231218   \n7586   13301501   CAR      P1    7037  20230512   \n...         ...   ...     ...     ...       ...   \n59062    739530   RMS      P3     153  20230301   \n59063    739530   RMS      P4     565  20230801   \n59064    739530   RMS      P4     548  20230605   \n59065    739530   RMS      P3     175  20230907   \n59067    739530   RMS      P4     679  20231201   \n\n                                                Concepto        Nit   DV  \\\n1745   FCEQUIMLEC LIMITADA FVE4468,                  ...  900673912  4.0   \n1940   FCEBCR SUPLLY COLOMBIA SAS FVE 4219, ABONO 423...  900673912  4.0   \n4967   FCEQUIMLEC LIMITADA FVE4468,                  ...  800001494  1.0   \n6469   FCEBCR SUPLLY COLOMBIA SAS FVE 4219, ABONO 423...  900418674  4.0   \n7586   FCE6461-REPARACION SINIESTROS SUSTITUTO FVO360...   16539997  NaN   \n...                                                  ...        ...  ...   \n59062  FCE8975-COMPRA DE TEFLON-EVELYN PARRA         ...   72156418  7.0   \n59063  FCE8549-COMPRA PROBETA-JOHN HERNADEZ          ...  900617515  5.0   \n59064  FCE1936-COMPRA TEFLOM-EVELYN PARRA            ...  901678974  7.0   \n59065  FCE5265-COMPRA TEFLON INDUST 15MT GDE         ...  901678974  7.0   \n59067  FCE8650-COMPRA DE TEFLON INDUST               ...  901678974  7.0   \n\n      Proyecto Centro  ...        SALDO      SALDOFIN      SALDOCTA  \\\n1745      ADMI   ADMI  ...          0.0 -4.566205e+07  0.000000e+00   \n1940      ADMI   ADMI  ...          0.0 -4.200000e-01  0.000000e+00   \n4967      ADMI   ADMI  ...          0.0 -1.544025e+06  7.885808e+09   \n6469      ADMI   ADMI  ...  273772574.0  4.593749e+08  7.885808e+09   \n7586      ADMI   ADMI  ...          0.0  7.872550e+05  7.255840e+05   \n...        ...    ...  ...          ...           ...           ...   \n59062     ADMI   ADMI  ...          0.0  2.521000e+04  0.000000e+00   \n59063     PROD   PROD  ...          0.0  1.220000e+05  0.000000e+00   \n59064     PROD   PROD  ...          0.0  2.521000e+04  0.000000e+00   \n59065     3000   3100  ...          0.0  5.042000e+04  0.000000e+00   \n59067     3000   3100  ...          0.0  1.134450e+05  0.000000e+00   \n\n                            Cuenta.1                                Tercero  \\\n1745                    CAJA GENERAL                       SNF COLOMBIA SAS   \n1940                    CAJA GENERAL                       SNF COLOMBIA SAS   \n4967               NACIONALES (USAR)                       QUIMLEC LIMITADA   \n6469               NACIONALES (USAR)              BCR SUPPLY COLOMBIA S.A.S   \n7586                  A TRABAJADORES            AYALA DIAZ MARCOS ALEXANDER   \n...                              ...                                    ...   \n59062  UTILES PAPELERIA Y FOTOCOPIAS                BARRERA CALDERON ALVARO   \n59063  UTILES PAPELERIA Y FOTOCOPIAS  DISTRIBUCIONES J & E LABORATORIOS SAS   \n59064  UTILES PAPELERIA Y FOTOCOPIAS        INVERSIONES BARRERA RUEDA S.A.S   \n59065  UTILES PAPELERIA Y FOTOCOPIAS        INVERSIONES BARRERA RUEDA S.A.S   \n59067  UTILES PAPELERIA Y FOTOCOPIAS        INVERSIONES BARRERA RUEDA S.A.S   \n\n          ID  Tipo Referencia  IDREF             Nombre Extraido  \n1745   76481               61   4148    110505900673912      NaN  \n1940   79247               61   4274    110505900673912      NaN  \n4967   76481               61   4148  13050501800001494      NaN  \n6469   79247               61   4274  13050501900418674      NaN  \n7586   67601               51  16403   1330150116539997     6461  \n...      ...              ...    ...                ...      ...  \n59062  64830               51  15660     73953072156418     8975  \n59063  72910               51  18099    739530900617515     8549  \n59064  70027               51  17195    739530901678974     1936  \n59065  74011               51  18525    739530901678974     5265  \n59067  79603               51  20464    739530901678974     8650  \n\n[11003 rows x 25 columns]",
      "text/html": "<div>\n<style scoped>\n    .dataframe tbody tr th:only-of-type {\n        vertical-align: middle;\n    }\n\n    .dataframe tbody tr th {\n        vertical-align: top;\n    }\n\n    .dataframe thead th {\n        text-align: right;\n    }\n</style>\n<table border=\"1\" class=\"dataframe\">\n  <thead>\n    <tr style=\"text-align: right;\">\n      <th></th>\n      <th>Cuenta</th>\n      <th>Tipo</th>\n      <th>Prefijo</th>\n      <th>Número</th>\n      <th>Fecha</th>\n      <th>Concepto</th>\n      <th>Nit</th>\n      <th>DV</th>\n      <th>Proyecto</th>\n      <th>Centro</th>\n      <th>...</th>\n      <th>SALDO</th>\n      <th>SALDOFIN</th>\n      <th>SALDOCTA</th>\n      <th>Cuenta.1</th>\n      <th>Tercero</th>\n      <th>ID</th>\n      <th>Tipo Referencia</th>\n      <th>IDREF</th>\n      <th>Nombre</th>\n      <th>Extraido</th>\n    </tr>\n  </thead>\n  <tbody>\n    <tr>\n      <th>1745</th>\n      <td>110505</td>\n      <td>RDC</td>\n      <td>R2</td>\n      <td>1371</td>\n      <td>20231103</td>\n      <td>FCEQUIMLEC LIMITADA FVE4468,                  ...</td>\n      <td>900673912</td>\n      <td>4.0</td>\n      <td>ADMI</td>\n      <td>ADMI</td>\n      <td>...</td>\n      <td>0.0</td>\n      <td>-4.566205e+07</td>\n      <td>0.000000e+00</td>\n      <td>CAJA GENERAL</td>\n      <td>SNF COLOMBIA SAS</td>\n      <td>76481</td>\n      <td>61</td>\n      <td>4148</td>\n      <td>110505900673912</td>\n      <td>NaN</td>\n    </tr>\n    <tr>\n      <th>1940</th>\n      <td>110505</td>\n      <td>RDC</td>\n      <td>RI</td>\n      <td>2210</td>\n      <td>20231218</td>\n      <td>FCEBCR SUPLLY COLOMBIA SAS FVE 4219, ABONO 423...</td>\n      <td>900673912</td>\n      <td>4.0</td>\n      <td>ADMI</td>\n      <td>ADMI</td>\n      <td>...</td>\n      <td>0.0</td>\n      <td>-4.200000e-01</td>\n      <td>0.000000e+00</td>\n      <td>CAJA GENERAL</td>\n      <td>SNF COLOMBIA SAS</td>\n      <td>79247</td>\n      <td>61</td>\n      <td>4274</td>\n      <td>110505900673912</td>\n      <td>NaN</td>\n    </tr>\n    <tr>\n      <th>4967</th>\n      <td>13050501</td>\n      <td>RDC</td>\n      <td>R2</td>\n      <td>1371</td>\n      <td>20231103</td>\n      <td>FCEQUIMLEC LIMITADA FVE4468,                  ...</td>\n      <td>800001494</td>\n      <td>1.0</td>\n      <td>ADMI</td>\n      <td>ADMI</td>\n      <td>...</td>\n      <td>0.0</td>\n      <td>-1.544025e+06</td>\n      <td>7.885808e+09</td>\n      <td>NACIONALES (USAR)</td>\n      <td>QUIMLEC LIMITADA</td>\n      <td>76481</td>\n      <td>61</td>\n      <td>4148</td>\n      <td>13050501800001494</td>\n      <td>NaN</td>\n    </tr>\n    <tr>\n      <th>6469</th>\n      <td>13050501</td>\n      <td>RDC</td>\n      <td>RI</td>\n      <td>2210</td>\n      <td>20231218</td>\n      <td>FCEBCR SUPLLY COLOMBIA SAS FVE 4219, ABONO 423...</td>\n      <td>900418674</td>\n      <td>4.0</td>\n      <td>ADMI</td>\n      <td>ADMI</td>\n      <td>...</td>\n      <td>273772574.0</td>\n      <td>4.593749e+08</td>\n      <td>7.885808e+09</td>\n      <td>NACIONALES (USAR)</td>\n      <td>BCR SUPPLY COLOMBIA S.A.S</td>\n      <td>79247</td>\n      <td>61</td>\n      <td>4274</td>\n      <td>13050501900418674</td>\n      <td>NaN</td>\n    </tr>\n    <tr>\n      <th>7586</th>\n      <td>13301501</td>\n      <td>CAR</td>\n      <td>P1</td>\n      <td>7037</td>\n      <td>20230512</td>\n      <td>FCE6461-REPARACION SINIESTROS SUSTITUTO FVO360...</td>\n      <td>16539997</td>\n      <td>NaN</td>\n      <td>ADMI</td>\n      <td>ADMI</td>\n      <td>...</td>\n      <td>0.0</td>\n      <td>7.872550e+05</td>\n      <td>7.255840e+05</td>\n      <td>A TRABAJADORES</td>\n      <td>AYALA DIAZ MARCOS ALEXANDER</td>\n      <td>67601</td>\n      <td>51</td>\n      <td>16403</td>\n      <td>1330150116539997</td>\n      <td>6461</td>\n    </tr>\n    <tr>\n      <th>...</th>\n      <td>...</td>\n      <td>...</td>\n      <td>...</td>\n      <td>...</td>\n      <td>...</td>\n      <td>...</td>\n      <td>...</td>\n      <td>...</td>\n      <td>...</td>\n      <td>...</td>\n      <td>...</td>\n      <td>...</td>\n      <td>...</td>\n      <td>...</td>\n      <td>...</td>\n      <td>...</td>\n      <td>...</td>\n      <td>...</td>\n      <td>...</td>\n      <td>...</td>\n      <td>...</td>\n    </tr>\n    <tr>\n      <th>59062</th>\n      <td>739530</td>\n      <td>RMS</td>\n      <td>P3</td>\n      <td>153</td>\n      <td>20230301</td>\n      <td>FCE8975-COMPRA DE TEFLON-EVELYN PARRA         ...</td>\n      <td>72156418</td>\n      <td>7.0</td>\n      <td>ADMI</td>\n      <td>ADMI</td>\n      <td>...</td>\n      <td>0.0</td>\n      <td>2.521000e+04</td>\n      <td>0.000000e+00</td>\n      <td>UTILES PAPELERIA Y FOTOCOPIAS</td>\n      <td>BARRERA CALDERON ALVARO</td>\n      <td>64830</td>\n      <td>51</td>\n      <td>15660</td>\n      <td>73953072156418</td>\n      <td>8975</td>\n    </tr>\n    <tr>\n      <th>59063</th>\n      <td>739530</td>\n      <td>RMS</td>\n      <td>P4</td>\n      <td>565</td>\n      <td>20230801</td>\n      <td>FCE8549-COMPRA PROBETA-JOHN HERNADEZ          ...</td>\n      <td>900617515</td>\n      <td>5.0</td>\n      <td>PROD</td>\n      <td>PROD</td>\n      <td>...</td>\n      <td>0.0</td>\n      <td>1.220000e+05</td>\n      <td>0.000000e+00</td>\n      <td>UTILES PAPELERIA Y FOTOCOPIAS</td>\n      <td>DISTRIBUCIONES J &amp; E LABORATORIOS SAS</td>\n      <td>72910</td>\n      <td>51</td>\n      <td>18099</td>\n      <td>739530900617515</td>\n      <td>8549</td>\n    </tr>\n    <tr>\n      <th>59064</th>\n      <td>739530</td>\n      <td>RMS</td>\n      <td>P4</td>\n      <td>548</td>\n      <td>20230605</td>\n      <td>FCE1936-COMPRA TEFLOM-EVELYN PARRA            ...</td>\n      <td>901678974</td>\n      <td>7.0</td>\n      <td>PROD</td>\n      <td>PROD</td>\n      <td>...</td>\n      <td>0.0</td>\n      <td>2.521000e+04</td>\n      <td>0.000000e+00</td>\n      <td>UTILES PAPELERIA Y FOTOCOPIAS</td>\n      <td>INVERSIONES BARRERA RUEDA S.A.S</td>\n      <td>70027</td>\n      <td>51</td>\n      <td>17195</td>\n      <td>739530901678974</td>\n      <td>1936</td>\n    </tr>\n    <tr>\n      <th>59065</th>\n      <td>739530</td>\n      <td>RMS</td>\n      <td>P3</td>\n      <td>175</td>\n      <td>20230907</td>\n      <td>FCE5265-COMPRA TEFLON INDUST 15MT GDE         ...</td>\n      <td>901678974</td>\n      <td>7.0</td>\n      <td>3000</td>\n      <td>3100</td>\n      <td>...</td>\n      <td>0.0</td>\n      <td>5.042000e+04</td>\n      <td>0.000000e+00</td>\n      <td>UTILES PAPELERIA Y FOTOCOPIAS</td>\n      <td>INVERSIONES BARRERA RUEDA S.A.S</td>\n      <td>74011</td>\n      <td>51</td>\n      <td>18525</td>\n      <td>739530901678974</td>\n      <td>5265</td>\n    </tr>\n    <tr>\n      <th>59067</th>\n      <td>739530</td>\n      <td>RMS</td>\n      <td>P4</td>\n      <td>679</td>\n      <td>20231201</td>\n      <td>FCE8650-COMPRA DE TEFLON INDUST               ...</td>\n      <td>901678974</td>\n      <td>7.0</td>\n      <td>3000</td>\n      <td>3100</td>\n      <td>...</td>\n      <td>0.0</td>\n      <td>1.134450e+05</td>\n      <td>0.000000e+00</td>\n      <td>UTILES PAPELERIA Y FOTOCOPIAS</td>\n      <td>INVERSIONES BARRERA RUEDA S.A.S</td>\n      <td>79603</td>\n      <td>51</td>\n      <td>20464</td>\n      <td>739530901678974</td>\n      <td>8650</td>\n    </tr>\n  </tbody>\n</table>\n<p>11003 rows × 25 columns</p>\n</div>"
     },
     "execution_count": 73,
     "metadata": {},
     "output_type": "execute_result"
    }
   ],
   "source": [
    "# Concepto con solo los cuatro numeros \n",
    "result_df"
   ],
   "metadata": {
    "collapsed": false,
    "ExecuteTime": {
     "end_time": "2024-02-05T13:38:41.531758500Z",
     "start_time": "2024-02-05T13:38:41.439743900Z"
    }
   },
   "id": "b527d602b9b1649",
   "execution_count": 73
  },
  {
   "cell_type": "code",
   "outputs": [
    {
     "name": "stderr",
     "output_type": "stream",
     "text": [
      "C:\\Users\\Arnold Mauricio\\AppData\\Local\\Temp\\ipykernel_3448\\2014238660.py:3: SettingWithCopyWarning: \n",
      "A value is trying to be set on a copy of a slice from a DataFrame.\n",
      "Try using .loc[row_indexer,col_indexer] = value instead\n",
      "\n",
      "See the caveats in the documentation: https://pandas.pydata.org/pandas-docs/stable/user_guide/indexing.html#returning-a-view-versus-a-copy\n",
      "  result_df['Extraido_last'] = result_df['Extraido'].str[-4:]\n"
     ]
    }
   ],
   "source": [
    "# selecciona los 4 ultimos digitos de la columna Extraido\n",
    "\n",
    "result_df['Extraido_last'] = result_df['Extraido'].str[-4:]"
   ],
   "metadata": {
    "collapsed": false,
    "ExecuteTime": {
     "end_time": "2024-02-05T13:38:41.532758800Z",
     "start_time": "2024-02-05T13:38:41.489738Z"
    }
   },
   "id": "62dedc57f628e983",
   "execution_count": 74
  },
  {
   "cell_type": "code",
   "outputs": [
    {
     "data": {
      "text/plain": "         Cuenta Tipo  Prefijo  Número     Fecha  \\\n1745     110505   RDC      R2    1371  20231103   \n1940     110505   RDC      RI    2210  20231218   \n4967   13050501   RDC      R2    1371  20231103   \n6469   13050501   RDC      RI    2210  20231218   \n7586   13301501   CAR      P1    7037  20230512   \n...         ...   ...     ...     ...       ...   \n59062    739530   RMS      P3     153  20230301   \n59063    739530   RMS      P4     565  20230801   \n59064    739530   RMS      P4     548  20230605   \n59065    739530   RMS      P3     175  20230907   \n59067    739530   RMS      P4     679  20231201   \n\n                                                Concepto        Nit   DV  \\\n1745   FCEQUIMLEC LIMITADA FVE4468,                  ...  900673912  4.0   \n1940   FCEBCR SUPLLY COLOMBIA SAS FVE 4219, ABONO 423...  900673912  4.0   \n4967   FCEQUIMLEC LIMITADA FVE4468,                  ...  800001494  1.0   \n6469   FCEBCR SUPLLY COLOMBIA SAS FVE 4219, ABONO 423...  900418674  4.0   \n7586   FCE6461-REPARACION SINIESTROS SUSTITUTO FVO360...   16539997  NaN   \n...                                                  ...        ...  ...   \n59062  FCE8975-COMPRA DE TEFLON-EVELYN PARRA         ...   72156418  7.0   \n59063  FCE8549-COMPRA PROBETA-JOHN HERNADEZ          ...  900617515  5.0   \n59064  FCE1936-COMPRA TEFLOM-EVELYN PARRA            ...  901678974  7.0   \n59065  FCE5265-COMPRA TEFLON INDUST 15MT GDE         ...  901678974  7.0   \n59067  FCE8650-COMPRA DE TEFLON INDUST               ...  901678974  7.0   \n\n      Proyecto Centro  ...      SALDOFIN      SALDOCTA  \\\n1745      ADMI   ADMI  ... -4.566205e+07  0.000000e+00   \n1940      ADMI   ADMI  ... -4.200000e-01  0.000000e+00   \n4967      ADMI   ADMI  ... -1.544025e+06  7.885808e+09   \n6469      ADMI   ADMI  ...  4.593749e+08  7.885808e+09   \n7586      ADMI   ADMI  ...  7.872550e+05  7.255840e+05   \n...        ...    ...  ...           ...           ...   \n59062     ADMI   ADMI  ...  2.521000e+04  0.000000e+00   \n59063     PROD   PROD  ...  1.220000e+05  0.000000e+00   \n59064     PROD   PROD  ...  2.521000e+04  0.000000e+00   \n59065     3000   3100  ...  5.042000e+04  0.000000e+00   \n59067     3000   3100  ...  1.134450e+05  0.000000e+00   \n\n                            Cuenta.1                                Tercero  \\\n1745                    CAJA GENERAL                       SNF COLOMBIA SAS   \n1940                    CAJA GENERAL                       SNF COLOMBIA SAS   \n4967               NACIONALES (USAR)                       QUIMLEC LIMITADA   \n6469               NACIONALES (USAR)              BCR SUPPLY COLOMBIA S.A.S   \n7586                  A TRABAJADORES            AYALA DIAZ MARCOS ALEXANDER   \n...                              ...                                    ...   \n59062  UTILES PAPELERIA Y FOTOCOPIAS                BARRERA CALDERON ALVARO   \n59063  UTILES PAPELERIA Y FOTOCOPIAS  DISTRIBUCIONES J & E LABORATORIOS SAS   \n59064  UTILES PAPELERIA Y FOTOCOPIAS        INVERSIONES BARRERA RUEDA S.A.S   \n59065  UTILES PAPELERIA Y FOTOCOPIAS        INVERSIONES BARRERA RUEDA S.A.S   \n59067  UTILES PAPELERIA Y FOTOCOPIAS        INVERSIONES BARRERA RUEDA S.A.S   \n\n          ID  Tipo Referencia  IDREF             Nombre Extraido Extraido_last  \n1745   76481               61   4148    110505900673912      NaN           NaN  \n1940   79247               61   4274    110505900673912      NaN           NaN  \n4967   76481               61   4148  13050501800001494      NaN           NaN  \n6469   79247               61   4274  13050501900418674      NaN           NaN  \n7586   67601               51  16403   1330150116539997     6461          6461  \n...      ...              ...    ...                ...      ...           ...  \n59062  64830               51  15660     73953072156418     8975          8975  \n59063  72910               51  18099    739530900617515     8549          8549  \n59064  70027               51  17195    739530901678974     1936          1936  \n59065  74011               51  18525    739530901678974     5265          5265  \n59067  79603               51  20464    739530901678974     8650          8650  \n\n[11003 rows x 26 columns]",
      "text/html": "<div>\n<style scoped>\n    .dataframe tbody tr th:only-of-type {\n        vertical-align: middle;\n    }\n\n    .dataframe tbody tr th {\n        vertical-align: top;\n    }\n\n    .dataframe thead th {\n        text-align: right;\n    }\n</style>\n<table border=\"1\" class=\"dataframe\">\n  <thead>\n    <tr style=\"text-align: right;\">\n      <th></th>\n      <th>Cuenta</th>\n      <th>Tipo</th>\n      <th>Prefijo</th>\n      <th>Número</th>\n      <th>Fecha</th>\n      <th>Concepto</th>\n      <th>Nit</th>\n      <th>DV</th>\n      <th>Proyecto</th>\n      <th>Centro</th>\n      <th>...</th>\n      <th>SALDOFIN</th>\n      <th>SALDOCTA</th>\n      <th>Cuenta.1</th>\n      <th>Tercero</th>\n      <th>ID</th>\n      <th>Tipo Referencia</th>\n      <th>IDREF</th>\n      <th>Nombre</th>\n      <th>Extraido</th>\n      <th>Extraido_last</th>\n    </tr>\n  </thead>\n  <tbody>\n    <tr>\n      <th>1745</th>\n      <td>110505</td>\n      <td>RDC</td>\n      <td>R2</td>\n      <td>1371</td>\n      <td>20231103</td>\n      <td>FCEQUIMLEC LIMITADA FVE4468,                  ...</td>\n      <td>900673912</td>\n      <td>4.0</td>\n      <td>ADMI</td>\n      <td>ADMI</td>\n      <td>...</td>\n      <td>-4.566205e+07</td>\n      <td>0.000000e+00</td>\n      <td>CAJA GENERAL</td>\n      <td>SNF COLOMBIA SAS</td>\n      <td>76481</td>\n      <td>61</td>\n      <td>4148</td>\n      <td>110505900673912</td>\n      <td>NaN</td>\n      <td>NaN</td>\n    </tr>\n    <tr>\n      <th>1940</th>\n      <td>110505</td>\n      <td>RDC</td>\n      <td>RI</td>\n      <td>2210</td>\n      <td>20231218</td>\n      <td>FCEBCR SUPLLY COLOMBIA SAS FVE 4219, ABONO 423...</td>\n      <td>900673912</td>\n      <td>4.0</td>\n      <td>ADMI</td>\n      <td>ADMI</td>\n      <td>...</td>\n      <td>-4.200000e-01</td>\n      <td>0.000000e+00</td>\n      <td>CAJA GENERAL</td>\n      <td>SNF COLOMBIA SAS</td>\n      <td>79247</td>\n      <td>61</td>\n      <td>4274</td>\n      <td>110505900673912</td>\n      <td>NaN</td>\n      <td>NaN</td>\n    </tr>\n    <tr>\n      <th>4967</th>\n      <td>13050501</td>\n      <td>RDC</td>\n      <td>R2</td>\n      <td>1371</td>\n      <td>20231103</td>\n      <td>FCEQUIMLEC LIMITADA FVE4468,                  ...</td>\n      <td>800001494</td>\n      <td>1.0</td>\n      <td>ADMI</td>\n      <td>ADMI</td>\n      <td>...</td>\n      <td>-1.544025e+06</td>\n      <td>7.885808e+09</td>\n      <td>NACIONALES (USAR)</td>\n      <td>QUIMLEC LIMITADA</td>\n      <td>76481</td>\n      <td>61</td>\n      <td>4148</td>\n      <td>13050501800001494</td>\n      <td>NaN</td>\n      <td>NaN</td>\n    </tr>\n    <tr>\n      <th>6469</th>\n      <td>13050501</td>\n      <td>RDC</td>\n      <td>RI</td>\n      <td>2210</td>\n      <td>20231218</td>\n      <td>FCEBCR SUPLLY COLOMBIA SAS FVE 4219, ABONO 423...</td>\n      <td>900418674</td>\n      <td>4.0</td>\n      <td>ADMI</td>\n      <td>ADMI</td>\n      <td>...</td>\n      <td>4.593749e+08</td>\n      <td>7.885808e+09</td>\n      <td>NACIONALES (USAR)</td>\n      <td>BCR SUPPLY COLOMBIA S.A.S</td>\n      <td>79247</td>\n      <td>61</td>\n      <td>4274</td>\n      <td>13050501900418674</td>\n      <td>NaN</td>\n      <td>NaN</td>\n    </tr>\n    <tr>\n      <th>7586</th>\n      <td>13301501</td>\n      <td>CAR</td>\n      <td>P1</td>\n      <td>7037</td>\n      <td>20230512</td>\n      <td>FCE6461-REPARACION SINIESTROS SUSTITUTO FVO360...</td>\n      <td>16539997</td>\n      <td>NaN</td>\n      <td>ADMI</td>\n      <td>ADMI</td>\n      <td>...</td>\n      <td>7.872550e+05</td>\n      <td>7.255840e+05</td>\n      <td>A TRABAJADORES</td>\n      <td>AYALA DIAZ MARCOS ALEXANDER</td>\n      <td>67601</td>\n      <td>51</td>\n      <td>16403</td>\n      <td>1330150116539997</td>\n      <td>6461</td>\n      <td>6461</td>\n    </tr>\n    <tr>\n      <th>...</th>\n      <td>...</td>\n      <td>...</td>\n      <td>...</td>\n      <td>...</td>\n      <td>...</td>\n      <td>...</td>\n      <td>...</td>\n      <td>...</td>\n      <td>...</td>\n      <td>...</td>\n      <td>...</td>\n      <td>...</td>\n      <td>...</td>\n      <td>...</td>\n      <td>...</td>\n      <td>...</td>\n      <td>...</td>\n      <td>...</td>\n      <td>...</td>\n      <td>...</td>\n      <td>...</td>\n    </tr>\n    <tr>\n      <th>59062</th>\n      <td>739530</td>\n      <td>RMS</td>\n      <td>P3</td>\n      <td>153</td>\n      <td>20230301</td>\n      <td>FCE8975-COMPRA DE TEFLON-EVELYN PARRA         ...</td>\n      <td>72156418</td>\n      <td>7.0</td>\n      <td>ADMI</td>\n      <td>ADMI</td>\n      <td>...</td>\n      <td>2.521000e+04</td>\n      <td>0.000000e+00</td>\n      <td>UTILES PAPELERIA Y FOTOCOPIAS</td>\n      <td>BARRERA CALDERON ALVARO</td>\n      <td>64830</td>\n      <td>51</td>\n      <td>15660</td>\n      <td>73953072156418</td>\n      <td>8975</td>\n      <td>8975</td>\n    </tr>\n    <tr>\n      <th>59063</th>\n      <td>739530</td>\n      <td>RMS</td>\n      <td>P4</td>\n      <td>565</td>\n      <td>20230801</td>\n      <td>FCE8549-COMPRA PROBETA-JOHN HERNADEZ          ...</td>\n      <td>900617515</td>\n      <td>5.0</td>\n      <td>PROD</td>\n      <td>PROD</td>\n      <td>...</td>\n      <td>1.220000e+05</td>\n      <td>0.000000e+00</td>\n      <td>UTILES PAPELERIA Y FOTOCOPIAS</td>\n      <td>DISTRIBUCIONES J &amp; E LABORATORIOS SAS</td>\n      <td>72910</td>\n      <td>51</td>\n      <td>18099</td>\n      <td>739530900617515</td>\n      <td>8549</td>\n      <td>8549</td>\n    </tr>\n    <tr>\n      <th>59064</th>\n      <td>739530</td>\n      <td>RMS</td>\n      <td>P4</td>\n      <td>548</td>\n      <td>20230605</td>\n      <td>FCE1936-COMPRA TEFLOM-EVELYN PARRA            ...</td>\n      <td>901678974</td>\n      <td>7.0</td>\n      <td>PROD</td>\n      <td>PROD</td>\n      <td>...</td>\n      <td>2.521000e+04</td>\n      <td>0.000000e+00</td>\n      <td>UTILES PAPELERIA Y FOTOCOPIAS</td>\n      <td>INVERSIONES BARRERA RUEDA S.A.S</td>\n      <td>70027</td>\n      <td>51</td>\n      <td>17195</td>\n      <td>739530901678974</td>\n      <td>1936</td>\n      <td>1936</td>\n    </tr>\n    <tr>\n      <th>59065</th>\n      <td>739530</td>\n      <td>RMS</td>\n      <td>P3</td>\n      <td>175</td>\n      <td>20230907</td>\n      <td>FCE5265-COMPRA TEFLON INDUST 15MT GDE         ...</td>\n      <td>901678974</td>\n      <td>7.0</td>\n      <td>3000</td>\n      <td>3100</td>\n      <td>...</td>\n      <td>5.042000e+04</td>\n      <td>0.000000e+00</td>\n      <td>UTILES PAPELERIA Y FOTOCOPIAS</td>\n      <td>INVERSIONES BARRERA RUEDA S.A.S</td>\n      <td>74011</td>\n      <td>51</td>\n      <td>18525</td>\n      <td>739530901678974</td>\n      <td>5265</td>\n      <td>5265</td>\n    </tr>\n    <tr>\n      <th>59067</th>\n      <td>739530</td>\n      <td>RMS</td>\n      <td>P4</td>\n      <td>679</td>\n      <td>20231201</td>\n      <td>FCE8650-COMPRA DE TEFLON INDUST               ...</td>\n      <td>901678974</td>\n      <td>7.0</td>\n      <td>3000</td>\n      <td>3100</td>\n      <td>...</td>\n      <td>1.134450e+05</td>\n      <td>0.000000e+00</td>\n      <td>UTILES PAPELERIA Y FOTOCOPIAS</td>\n      <td>INVERSIONES BARRERA RUEDA S.A.S</td>\n      <td>79603</td>\n      <td>51</td>\n      <td>20464</td>\n      <td>739530901678974</td>\n      <td>8650</td>\n      <td>8650</td>\n    </tr>\n  </tbody>\n</table>\n<p>11003 rows × 26 columns</p>\n</div>"
     },
     "execution_count": 75,
     "metadata": {},
     "output_type": "execute_result"
    }
   ],
   "source": [
    "result_df"
   ],
   "metadata": {
    "collapsed": false,
    "ExecuteTime": {
     "end_time": "2024-02-05T13:38:41.638757700Z",
     "start_time": "2024-02-05T13:38:41.501735500Z"
    }
   },
   "id": "8ac9b659e6a7db40",
   "execution_count": 75
  },
  {
   "cell_type": "markdown",
   "source": [
    "TOKEN DIC"
   ],
   "metadata": {
    "collapsed": false
   },
   "id": "261224e108d0d07a"
  },
  {
   "cell_type": "code",
   "outputs": [
    {
     "name": "stdout",
     "output_type": "stream",
     "text": [
      "     Tipo de documento                                          CUFE/CUDE  \\\n",
      "0  Factura electrónica  e590534bae070548d11ba359d7544f29fa50265d678a66...   \n",
      "1  Factura electrónica  58637fb06a171077d1e07940c0bceec5d97f961a431732...   \n",
      "2  Factura electrónica  5368c8897cabc24d6485638445f4a121fc736c5ef73c1a...   \n",
      "3  Factura electrónica  f05bb1a9e432f976ff138f08dc2698d85b7d8ff75fd751...   \n",
      "4  Factura electrónica  50d2eb38b3ac605ad8d10403489b82dac2b124275385f7...   \n",
      "\n",
      "       Folio Prefijos Fecha Emisión      Fecha Recepción   NIT Emisor  \\\n",
      "0  291057346        3    01-01-2023  08-01-2023 03:04:24  800153993.0   \n",
      "1  291037616        3    01-01-2023  08-01-2023 02:52:55  800153993.0   \n",
      "2  291072551        3    01-02-2023  08-02-2023 19:57:08  800153993.0   \n",
      "3  291096920        3    01-02-2023  08-02-2023 19:40:49  800153993.0   \n",
      "4      21138     B003    01-02-2023  01-02-2023 15:11:43  900606944.0   \n",
      "\n",
      "          Nombre Emisor  NIT Receptor    Nombre Receptor       IVA  ICA  IPC  \\\n",
      "0           COMCEL S.A.   900673912.0  SNF COLOMBIA SAS   19879.25  0.0  0.0   \n",
      "1           COMCEL S.A.   900673912.0  SNF COLOMBIA SAS   27478.94  0.0  0.0   \n",
      "2           COMCEL S.A.   900673912.0  SNF COLOMBIA SAS   18687.45  0.0  0.0   \n",
      "3           COMCEL S.A.   900673912.0  SNF COLOMBIA SAS   27478.94  0.0  0.0   \n",
      "4  ROLCO SHIPPING S.A.S   900673912.0   SNF COLOMBIA SAS      4.75  0.0  0.0   \n",
      "\n",
      "       Total                     Estado     Grupo  \n",
      "0  124543.60  Aprobado con notificación  Recibido  \n",
      "1  172105.00  Aprobado con notificación  Recibido  \n",
      "2  117042.45  Aprobado con notificación  Recibido  \n",
      "3  172105.00  Aprobado con notificación  Recibido  \n",
      "4      29.75  Aprobado con notificación  Recibido  \n"
     ]
    }
   ],
   "source": [
    "import pandas as pd\n",
    "\n",
    "# La siguiente línea lee el archivo csv y lo almacena en un DataFrame\n",
    "Token = pd.read_csv('token-dic.csv', encoding='iso-8859-1')\n",
    "\n",
    "# Imprime las primeras 5 filas del DataFrame\n",
    "print(Token.head())"
   ],
   "metadata": {
    "collapsed": false,
    "ExecuteTime": {
     "end_time": "2024-02-05T13:38:41.659734800Z",
     "start_time": "2024-02-05T13:38:41.549735Z"
    }
   },
   "id": "18f19a4ca89f5d30",
   "execution_count": 76
  },
  {
   "cell_type": "code",
   "outputs": [
    {
     "name": "stdout",
     "output_type": "stream",
     "text": [
      "0    7346\n",
      "1    7616\n",
      "2    2551\n",
      "3    6920\n",
      "4    1138\n",
      "Name: Folio2, dtype: object\n"
     ]
    }
   ],
   "source": [
    "# toma los valores de folio y extrae los ultimos 1-4 digitos y los almacena en la columna Folio2\n",
    "Token['Folio2'] = Token['Folio'].astype(str).str.extract('(\\d{1,4})\\Z')\n",
    "\n",
    "print(Token['Folio2'].head())"
   ],
   "metadata": {
    "collapsed": false,
    "ExecuteTime": {
     "end_time": "2024-02-05T13:38:41.683733200Z",
     "start_time": "2024-02-05T13:38:41.580753600Z"
    }
   },
   "id": "68e668a52138a1a",
   "execution_count": 77
  },
  {
   "cell_type": "code",
   "outputs": [
    {
     "data": {
      "text/plain": "        Tipo de documento                                          CUFE/CUDE  \\\n0     Factura electrónica  e590534bae070548d11ba359d7544f29fa50265d678a66...   \n1     Factura electrónica  58637fb06a171077d1e07940c0bceec5d97f961a431732...   \n2     Factura electrónica  5368c8897cabc24d6485638445f4a121fc736c5ef73c1a...   \n3     Factura electrónica  f05bb1a9e432f976ff138f08dc2698d85b7d8ff75fd751...   \n4     Factura electrónica  50d2eb38b3ac605ad8d10403489b82dac2b124275385f7...   \n...                   ...                                                ...   \n2949  Factura electrónica  b84c0e955edc6501cb84c04259e79a6319b2b92679eb81...   \n2950  Factura electrónica  632744debcd50a67fa752863dd460d4766a2f0d6b47d2c...   \n2951  Factura electrónica  aa50ac4d93b9ba0716b41f5c155ff0a13c8c444a50e27d...   \n2952  Factura electrónica  fe17cfdb368f8f15e71ee11036e2a909a33f53627461a5...   \n2953  Factura electrónica  2aaa86d662bdb7132f0e4ba7b4cfd5c74cb66c6fe9f8cd...   \n\n          Folio Prefijos Fecha Emisión      Fecha Recepción   NIT Emisor  \\\n0     291057346        3    01-01-2023  08-01-2023 03:04:24  800153993.0   \n1     291037616        3    01-01-2023  08-01-2023 02:52:55  800153993.0   \n2     291072551        3    01-02-2023  08-02-2023 19:57:08  800153993.0   \n3     291096920        3    01-02-2023  08-02-2023 19:40:49  800153993.0   \n4         21138     B003    01-02-2023  01-02-2023 15:11:43  900606944.0   \n...         ...      ...           ...                  ...          ...   \n2949        589     RAEX    31-10-2023  31-10-2023 20:53:45  901377533.0   \n2950      37505       FE    31-10-2023  31-10-2023 21:35:56  900977603.0   \n2951      37474       FE    31-10-2023  31-10-2023 16:01:17  900977603.0   \n2952       4476      FEI    31-10-2023  31-10-2023 22:16:36  901187386.0   \n2953       1731      PAA    31-10-2023  31-10-2023 13:05:01  811031936.0   \n\n                                          Nombre Emisor  NIT Receptor  \\\n0                                           COMCEL S.A.   900673912.0   \n1                                           COMCEL S.A.   900673912.0   \n2                                           COMCEL S.A.   900673912.0   \n3                                           COMCEL S.A.   900673912.0   \n4                                  ROLCO SHIPPING S.A.S   900673912.0   \n...                                                 ...           ...   \n2949                             RAKY EXPRESS SAS 01 00   900673912.0   \n2950  CENTRO DE DISTRIBUCION LOGISTICO INTERNACIONAL...   900673912.0   \n2951  CENTRO DE DISTRIBUCION LOGISTICO INTERNACIONAL...   900673912.0   \n2952                                       CAISO S.A.S.   900673912.0   \n2953                                  ALZATE NOREÑA SAS   900673912.0   \n\n          Nombre Receptor       IVA  ICA  IPC      Total  \\\n0       SNF COLOMBIA SAS   19879.25  0.0  0.0  124543.60   \n1       SNF COLOMBIA SAS   27478.94  0.0  0.0  172105.00   \n2       SNF COLOMBIA SAS   18687.45  0.0  0.0  117042.45   \n3       SNF COLOMBIA SAS   27478.94  0.0  0.0  172105.00   \n4        SNF COLOMBIA SAS      4.75  0.0  0.0      29.75   \n...                   ...       ...  ...  ...        ...   \n2949   SNF COLOMBIA S A S      0.00  0.0  0.0  320000.00   \n2950  SNF COLOMBIA S.A.S.  53580.00  0.0  0.0  335580.00   \n2951  SNF COLOMBIA S.A.S.  53580.00  0.0  0.0  335580.00   \n2952   SNF COLOMBIA S A S      0.00  0.0  0.0  100000.00   \n2953         SNF COLOMBIA      0.00  0.0  0.0   72657.00   \n\n                         Estado     Grupo Folio2  \n0     Aprobado con notificación  Recibido   7346  \n1     Aprobado con notificación  Recibido   7616  \n2     Aprobado con notificación  Recibido   2551  \n3     Aprobado con notificación  Recibido   6920  \n4     Aprobado con notificación  Recibido   1138  \n...                         ...       ...    ...  \n2949  Aprobado con notificación  Recibido    589  \n2950  Aprobado con notificación  Recibido   7505  \n2951  Aprobado con notificación  Recibido   7474  \n2952  Aprobado con notificación  Recibido   4476  \n2953  Aprobado con notificación  Recibido   1731  \n\n[2954 rows x 17 columns]",
      "text/html": "<div>\n<style scoped>\n    .dataframe tbody tr th:only-of-type {\n        vertical-align: middle;\n    }\n\n    .dataframe tbody tr th {\n        vertical-align: top;\n    }\n\n    .dataframe thead th {\n        text-align: right;\n    }\n</style>\n<table border=\"1\" class=\"dataframe\">\n  <thead>\n    <tr style=\"text-align: right;\">\n      <th></th>\n      <th>Tipo de documento</th>\n      <th>CUFE/CUDE</th>\n      <th>Folio</th>\n      <th>Prefijos</th>\n      <th>Fecha Emisión</th>\n      <th>Fecha Recepción</th>\n      <th>NIT Emisor</th>\n      <th>Nombre Emisor</th>\n      <th>NIT Receptor</th>\n      <th>Nombre Receptor</th>\n      <th>IVA</th>\n      <th>ICA</th>\n      <th>IPC</th>\n      <th>Total</th>\n      <th>Estado</th>\n      <th>Grupo</th>\n      <th>Folio2</th>\n    </tr>\n  </thead>\n  <tbody>\n    <tr>\n      <th>0</th>\n      <td>Factura electrónica</td>\n      <td>e590534bae070548d11ba359d7544f29fa50265d678a66...</td>\n      <td>291057346</td>\n      <td>3</td>\n      <td>01-01-2023</td>\n      <td>08-01-2023 03:04:24</td>\n      <td>800153993.0</td>\n      <td>COMCEL S.A.</td>\n      <td>900673912.0</td>\n      <td>SNF COLOMBIA SAS</td>\n      <td>19879.25</td>\n      <td>0.0</td>\n      <td>0.0</td>\n      <td>124543.60</td>\n      <td>Aprobado con notificación</td>\n      <td>Recibido</td>\n      <td>7346</td>\n    </tr>\n    <tr>\n      <th>1</th>\n      <td>Factura electrónica</td>\n      <td>58637fb06a171077d1e07940c0bceec5d97f961a431732...</td>\n      <td>291037616</td>\n      <td>3</td>\n      <td>01-01-2023</td>\n      <td>08-01-2023 02:52:55</td>\n      <td>800153993.0</td>\n      <td>COMCEL S.A.</td>\n      <td>900673912.0</td>\n      <td>SNF COLOMBIA SAS</td>\n      <td>27478.94</td>\n      <td>0.0</td>\n      <td>0.0</td>\n      <td>172105.00</td>\n      <td>Aprobado con notificación</td>\n      <td>Recibido</td>\n      <td>7616</td>\n    </tr>\n    <tr>\n      <th>2</th>\n      <td>Factura electrónica</td>\n      <td>5368c8897cabc24d6485638445f4a121fc736c5ef73c1a...</td>\n      <td>291072551</td>\n      <td>3</td>\n      <td>01-02-2023</td>\n      <td>08-02-2023 19:57:08</td>\n      <td>800153993.0</td>\n      <td>COMCEL S.A.</td>\n      <td>900673912.0</td>\n      <td>SNF COLOMBIA SAS</td>\n      <td>18687.45</td>\n      <td>0.0</td>\n      <td>0.0</td>\n      <td>117042.45</td>\n      <td>Aprobado con notificación</td>\n      <td>Recibido</td>\n      <td>2551</td>\n    </tr>\n    <tr>\n      <th>3</th>\n      <td>Factura electrónica</td>\n      <td>f05bb1a9e432f976ff138f08dc2698d85b7d8ff75fd751...</td>\n      <td>291096920</td>\n      <td>3</td>\n      <td>01-02-2023</td>\n      <td>08-02-2023 19:40:49</td>\n      <td>800153993.0</td>\n      <td>COMCEL S.A.</td>\n      <td>900673912.0</td>\n      <td>SNF COLOMBIA SAS</td>\n      <td>27478.94</td>\n      <td>0.0</td>\n      <td>0.0</td>\n      <td>172105.00</td>\n      <td>Aprobado con notificación</td>\n      <td>Recibido</td>\n      <td>6920</td>\n    </tr>\n    <tr>\n      <th>4</th>\n      <td>Factura electrónica</td>\n      <td>50d2eb38b3ac605ad8d10403489b82dac2b124275385f7...</td>\n      <td>21138</td>\n      <td>B003</td>\n      <td>01-02-2023</td>\n      <td>01-02-2023 15:11:43</td>\n      <td>900606944.0</td>\n      <td>ROLCO SHIPPING S.A.S</td>\n      <td>900673912.0</td>\n      <td>SNF COLOMBIA SAS</td>\n      <td>4.75</td>\n      <td>0.0</td>\n      <td>0.0</td>\n      <td>29.75</td>\n      <td>Aprobado con notificación</td>\n      <td>Recibido</td>\n      <td>1138</td>\n    </tr>\n    <tr>\n      <th>...</th>\n      <td>...</td>\n      <td>...</td>\n      <td>...</td>\n      <td>...</td>\n      <td>...</td>\n      <td>...</td>\n      <td>...</td>\n      <td>...</td>\n      <td>...</td>\n      <td>...</td>\n      <td>...</td>\n      <td>...</td>\n      <td>...</td>\n      <td>...</td>\n      <td>...</td>\n      <td>...</td>\n      <td>...</td>\n    </tr>\n    <tr>\n      <th>2949</th>\n      <td>Factura electrónica</td>\n      <td>b84c0e955edc6501cb84c04259e79a6319b2b92679eb81...</td>\n      <td>589</td>\n      <td>RAEX</td>\n      <td>31-10-2023</td>\n      <td>31-10-2023 20:53:45</td>\n      <td>901377533.0</td>\n      <td>RAKY EXPRESS SAS 01 00</td>\n      <td>900673912.0</td>\n      <td>SNF COLOMBIA S A S</td>\n      <td>0.00</td>\n      <td>0.0</td>\n      <td>0.0</td>\n      <td>320000.00</td>\n      <td>Aprobado con notificación</td>\n      <td>Recibido</td>\n      <td>589</td>\n    </tr>\n    <tr>\n      <th>2950</th>\n      <td>Factura electrónica</td>\n      <td>632744debcd50a67fa752863dd460d4766a2f0d6b47d2c...</td>\n      <td>37505</td>\n      <td>FE</td>\n      <td>31-10-2023</td>\n      <td>31-10-2023 21:35:56</td>\n      <td>900977603.0</td>\n      <td>CENTRO DE DISTRIBUCION LOGISTICO INTERNACIONAL...</td>\n      <td>900673912.0</td>\n      <td>SNF COLOMBIA S.A.S.</td>\n      <td>53580.00</td>\n      <td>0.0</td>\n      <td>0.0</td>\n      <td>335580.00</td>\n      <td>Aprobado con notificación</td>\n      <td>Recibido</td>\n      <td>7505</td>\n    </tr>\n    <tr>\n      <th>2951</th>\n      <td>Factura electrónica</td>\n      <td>aa50ac4d93b9ba0716b41f5c155ff0a13c8c444a50e27d...</td>\n      <td>37474</td>\n      <td>FE</td>\n      <td>31-10-2023</td>\n      <td>31-10-2023 16:01:17</td>\n      <td>900977603.0</td>\n      <td>CENTRO DE DISTRIBUCION LOGISTICO INTERNACIONAL...</td>\n      <td>900673912.0</td>\n      <td>SNF COLOMBIA S.A.S.</td>\n      <td>53580.00</td>\n      <td>0.0</td>\n      <td>0.0</td>\n      <td>335580.00</td>\n      <td>Aprobado con notificación</td>\n      <td>Recibido</td>\n      <td>7474</td>\n    </tr>\n    <tr>\n      <th>2952</th>\n      <td>Factura electrónica</td>\n      <td>fe17cfdb368f8f15e71ee11036e2a909a33f53627461a5...</td>\n      <td>4476</td>\n      <td>FEI</td>\n      <td>31-10-2023</td>\n      <td>31-10-2023 22:16:36</td>\n      <td>901187386.0</td>\n      <td>CAISO S.A.S.</td>\n      <td>900673912.0</td>\n      <td>SNF COLOMBIA S A S</td>\n      <td>0.00</td>\n      <td>0.0</td>\n      <td>0.0</td>\n      <td>100000.00</td>\n      <td>Aprobado con notificación</td>\n      <td>Recibido</td>\n      <td>4476</td>\n    </tr>\n    <tr>\n      <th>2953</th>\n      <td>Factura electrónica</td>\n      <td>2aaa86d662bdb7132f0e4ba7b4cfd5c74cb66c6fe9f8cd...</td>\n      <td>1731</td>\n      <td>PAA</td>\n      <td>31-10-2023</td>\n      <td>31-10-2023 13:05:01</td>\n      <td>811031936.0</td>\n      <td>ALZATE NOREÑA SAS</td>\n      <td>900673912.0</td>\n      <td>SNF COLOMBIA</td>\n      <td>0.00</td>\n      <td>0.0</td>\n      <td>0.0</td>\n      <td>72657.00</td>\n      <td>Aprobado con notificación</td>\n      <td>Recibido</td>\n      <td>1731</td>\n    </tr>\n  </tbody>\n</table>\n<p>2954 rows × 17 columns</p>\n</div>"
     },
     "execution_count": 78,
     "metadata": {},
     "output_type": "execute_result"
    }
   ],
   "source": [
    "Token"
   ],
   "metadata": {
    "collapsed": false,
    "ExecuteTime": {
     "end_time": "2024-02-05T13:38:41.745758600Z",
     "start_time": "2024-02-05T13:38:41.596735800Z"
    }
   },
   "id": "f08acee37e541e12",
   "execution_count": 78
  },
  {
   "cell_type": "code",
   "outputs": [
    {
     "data": {
      "text/plain": "        Tipo de documento                                          CUFE/CUDE  \\\n0     Factura electrónica  e590534bae070548d11ba359d7544f29fa50265d678a66...   \n1     Factura electrónica  58637fb06a171077d1e07940c0bceec5d97f961a431732...   \n2     Factura electrónica  5368c8897cabc24d6485638445f4a121fc736c5ef73c1a...   \n3     Factura electrónica  f05bb1a9e432f976ff138f08dc2698d85b7d8ff75fd751...   \n4     Factura electrónica  50d2eb38b3ac605ad8d10403489b82dac2b124275385f7...   \n...                   ...                                                ...   \n2949  Factura electrónica  b84c0e955edc6501cb84c04259e79a6319b2b92679eb81...   \n2950  Factura electrónica  632744debcd50a67fa752863dd460d4766a2f0d6b47d2c...   \n2951  Factura electrónica  aa50ac4d93b9ba0716b41f5c155ff0a13c8c444a50e27d...   \n2952  Factura electrónica  fe17cfdb368f8f15e71ee11036e2a909a33f53627461a5...   \n2953  Factura electrónica  2aaa86d662bdb7132f0e4ba7b4cfd5c74cb66c6fe9f8cd...   \n\n          Folio Prefijos Fecha Emisión      Fecha Recepción   NIT Emisor  \\\n0     291057346        3    01-01-2023  08-01-2023 03:04:24  800153993.0   \n1     291037616        3    01-01-2023  08-01-2023 02:52:55  800153993.0   \n2     291072551        3    01-02-2023  08-02-2023 19:57:08  800153993.0   \n3     291096920        3    01-02-2023  08-02-2023 19:40:49  800153993.0   \n4         21138     B003    01-02-2023  01-02-2023 15:11:43  900606944.0   \n...         ...      ...           ...                  ...          ...   \n2949        589     RAEX    31-10-2023  31-10-2023 20:53:45  901377533.0   \n2950      37505       FE    31-10-2023  31-10-2023 21:35:56  900977603.0   \n2951      37474       FE    31-10-2023  31-10-2023 16:01:17  900977603.0   \n2952       4476      FEI    31-10-2023  31-10-2023 22:16:36  901187386.0   \n2953       1731      PAA    31-10-2023  31-10-2023 13:05:01  811031936.0   \n\n                                          Nombre Emisor  NIT Receptor  \\\n0                                           COMCEL S.A.   900673912.0   \n1                                           COMCEL S.A.   900673912.0   \n2                                           COMCEL S.A.   900673912.0   \n3                                           COMCEL S.A.   900673912.0   \n4                                  ROLCO SHIPPING S.A.S   900673912.0   \n...                                                 ...           ...   \n2949                             RAKY EXPRESS SAS 01 00   900673912.0   \n2950  CENTRO DE DISTRIBUCION LOGISTICO INTERNACIONAL...   900673912.0   \n2951  CENTRO DE DISTRIBUCION LOGISTICO INTERNACIONAL...   900673912.0   \n2952                                       CAISO S.A.S.   900673912.0   \n2953                                  ALZATE NOREÑA SAS   900673912.0   \n\n          Nombre Receptor       IVA  ICA  IPC      Total  \\\n0       SNF COLOMBIA SAS   19879.25  0.0  0.0  124543.60   \n1       SNF COLOMBIA SAS   27478.94  0.0  0.0  172105.00   \n2       SNF COLOMBIA SAS   18687.45  0.0  0.0  117042.45   \n3       SNF COLOMBIA SAS   27478.94  0.0  0.0  172105.00   \n4        SNF COLOMBIA SAS      4.75  0.0  0.0      29.75   \n...                   ...       ...  ...  ...        ...   \n2949   SNF COLOMBIA S A S      0.00  0.0  0.0  320000.00   \n2950  SNF COLOMBIA S.A.S.  53580.00  0.0  0.0  335580.00   \n2951  SNF COLOMBIA S.A.S.  53580.00  0.0  0.0  335580.00   \n2952   SNF COLOMBIA S A S      0.00  0.0  0.0  100000.00   \n2953         SNF COLOMBIA      0.00  0.0  0.0   72657.00   \n\n                         Estado     Grupo Folio2  \n0     Aprobado con notificación  Recibido   7346  \n1     Aprobado con notificación  Recibido   7616  \n2     Aprobado con notificación  Recibido   2551  \n3     Aprobado con notificación  Recibido   6920  \n4     Aprobado con notificación  Recibido   1138  \n...                         ...       ...    ...  \n2949  Aprobado con notificación  Recibido    589  \n2950  Aprobado con notificación  Recibido   7505  \n2951  Aprobado con notificación  Recibido   7474  \n2952  Aprobado con notificación  Recibido   4476  \n2953  Aprobado con notificación  Recibido   1731  \n\n[2954 rows x 17 columns]",
      "text/html": "<div>\n<style scoped>\n    .dataframe tbody tr th:only-of-type {\n        vertical-align: middle;\n    }\n\n    .dataframe tbody tr th {\n        vertical-align: top;\n    }\n\n    .dataframe thead th {\n        text-align: right;\n    }\n</style>\n<table border=\"1\" class=\"dataframe\">\n  <thead>\n    <tr style=\"text-align: right;\">\n      <th></th>\n      <th>Tipo de documento</th>\n      <th>CUFE/CUDE</th>\n      <th>Folio</th>\n      <th>Prefijos</th>\n      <th>Fecha Emisión</th>\n      <th>Fecha Recepción</th>\n      <th>NIT Emisor</th>\n      <th>Nombre Emisor</th>\n      <th>NIT Receptor</th>\n      <th>Nombre Receptor</th>\n      <th>IVA</th>\n      <th>ICA</th>\n      <th>IPC</th>\n      <th>Total</th>\n      <th>Estado</th>\n      <th>Grupo</th>\n      <th>Folio2</th>\n    </tr>\n  </thead>\n  <tbody>\n    <tr>\n      <th>0</th>\n      <td>Factura electrónica</td>\n      <td>e590534bae070548d11ba359d7544f29fa50265d678a66...</td>\n      <td>291057346</td>\n      <td>3</td>\n      <td>01-01-2023</td>\n      <td>08-01-2023 03:04:24</td>\n      <td>800153993.0</td>\n      <td>COMCEL S.A.</td>\n      <td>900673912.0</td>\n      <td>SNF COLOMBIA SAS</td>\n      <td>19879.25</td>\n      <td>0.0</td>\n      <td>0.0</td>\n      <td>124543.60</td>\n      <td>Aprobado con notificación</td>\n      <td>Recibido</td>\n      <td>7346</td>\n    </tr>\n    <tr>\n      <th>1</th>\n      <td>Factura electrónica</td>\n      <td>58637fb06a171077d1e07940c0bceec5d97f961a431732...</td>\n      <td>291037616</td>\n      <td>3</td>\n      <td>01-01-2023</td>\n      <td>08-01-2023 02:52:55</td>\n      <td>800153993.0</td>\n      <td>COMCEL S.A.</td>\n      <td>900673912.0</td>\n      <td>SNF COLOMBIA SAS</td>\n      <td>27478.94</td>\n      <td>0.0</td>\n      <td>0.0</td>\n      <td>172105.00</td>\n      <td>Aprobado con notificación</td>\n      <td>Recibido</td>\n      <td>7616</td>\n    </tr>\n    <tr>\n      <th>2</th>\n      <td>Factura electrónica</td>\n      <td>5368c8897cabc24d6485638445f4a121fc736c5ef73c1a...</td>\n      <td>291072551</td>\n      <td>3</td>\n      <td>01-02-2023</td>\n      <td>08-02-2023 19:57:08</td>\n      <td>800153993.0</td>\n      <td>COMCEL S.A.</td>\n      <td>900673912.0</td>\n      <td>SNF COLOMBIA SAS</td>\n      <td>18687.45</td>\n      <td>0.0</td>\n      <td>0.0</td>\n      <td>117042.45</td>\n      <td>Aprobado con notificación</td>\n      <td>Recibido</td>\n      <td>2551</td>\n    </tr>\n    <tr>\n      <th>3</th>\n      <td>Factura electrónica</td>\n      <td>f05bb1a9e432f976ff138f08dc2698d85b7d8ff75fd751...</td>\n      <td>291096920</td>\n      <td>3</td>\n      <td>01-02-2023</td>\n      <td>08-02-2023 19:40:49</td>\n      <td>800153993.0</td>\n      <td>COMCEL S.A.</td>\n      <td>900673912.0</td>\n      <td>SNF COLOMBIA SAS</td>\n      <td>27478.94</td>\n      <td>0.0</td>\n      <td>0.0</td>\n      <td>172105.00</td>\n      <td>Aprobado con notificación</td>\n      <td>Recibido</td>\n      <td>6920</td>\n    </tr>\n    <tr>\n      <th>4</th>\n      <td>Factura electrónica</td>\n      <td>50d2eb38b3ac605ad8d10403489b82dac2b124275385f7...</td>\n      <td>21138</td>\n      <td>B003</td>\n      <td>01-02-2023</td>\n      <td>01-02-2023 15:11:43</td>\n      <td>900606944.0</td>\n      <td>ROLCO SHIPPING S.A.S</td>\n      <td>900673912.0</td>\n      <td>SNF COLOMBIA SAS</td>\n      <td>4.75</td>\n      <td>0.0</td>\n      <td>0.0</td>\n      <td>29.75</td>\n      <td>Aprobado con notificación</td>\n      <td>Recibido</td>\n      <td>1138</td>\n    </tr>\n    <tr>\n      <th>...</th>\n      <td>...</td>\n      <td>...</td>\n      <td>...</td>\n      <td>...</td>\n      <td>...</td>\n      <td>...</td>\n      <td>...</td>\n      <td>...</td>\n      <td>...</td>\n      <td>...</td>\n      <td>...</td>\n      <td>...</td>\n      <td>...</td>\n      <td>...</td>\n      <td>...</td>\n      <td>...</td>\n      <td>...</td>\n    </tr>\n    <tr>\n      <th>2949</th>\n      <td>Factura electrónica</td>\n      <td>b84c0e955edc6501cb84c04259e79a6319b2b92679eb81...</td>\n      <td>589</td>\n      <td>RAEX</td>\n      <td>31-10-2023</td>\n      <td>31-10-2023 20:53:45</td>\n      <td>901377533.0</td>\n      <td>RAKY EXPRESS SAS 01 00</td>\n      <td>900673912.0</td>\n      <td>SNF COLOMBIA S A S</td>\n      <td>0.00</td>\n      <td>0.0</td>\n      <td>0.0</td>\n      <td>320000.00</td>\n      <td>Aprobado con notificación</td>\n      <td>Recibido</td>\n      <td>589</td>\n    </tr>\n    <tr>\n      <th>2950</th>\n      <td>Factura electrónica</td>\n      <td>632744debcd50a67fa752863dd460d4766a2f0d6b47d2c...</td>\n      <td>37505</td>\n      <td>FE</td>\n      <td>31-10-2023</td>\n      <td>31-10-2023 21:35:56</td>\n      <td>900977603.0</td>\n      <td>CENTRO DE DISTRIBUCION LOGISTICO INTERNACIONAL...</td>\n      <td>900673912.0</td>\n      <td>SNF COLOMBIA S.A.S.</td>\n      <td>53580.00</td>\n      <td>0.0</td>\n      <td>0.0</td>\n      <td>335580.00</td>\n      <td>Aprobado con notificación</td>\n      <td>Recibido</td>\n      <td>7505</td>\n    </tr>\n    <tr>\n      <th>2951</th>\n      <td>Factura electrónica</td>\n      <td>aa50ac4d93b9ba0716b41f5c155ff0a13c8c444a50e27d...</td>\n      <td>37474</td>\n      <td>FE</td>\n      <td>31-10-2023</td>\n      <td>31-10-2023 16:01:17</td>\n      <td>900977603.0</td>\n      <td>CENTRO DE DISTRIBUCION LOGISTICO INTERNACIONAL...</td>\n      <td>900673912.0</td>\n      <td>SNF COLOMBIA S.A.S.</td>\n      <td>53580.00</td>\n      <td>0.0</td>\n      <td>0.0</td>\n      <td>335580.00</td>\n      <td>Aprobado con notificación</td>\n      <td>Recibido</td>\n      <td>7474</td>\n    </tr>\n    <tr>\n      <th>2952</th>\n      <td>Factura electrónica</td>\n      <td>fe17cfdb368f8f15e71ee11036e2a909a33f53627461a5...</td>\n      <td>4476</td>\n      <td>FEI</td>\n      <td>31-10-2023</td>\n      <td>31-10-2023 22:16:36</td>\n      <td>901187386.0</td>\n      <td>CAISO S.A.S.</td>\n      <td>900673912.0</td>\n      <td>SNF COLOMBIA S A S</td>\n      <td>0.00</td>\n      <td>0.0</td>\n      <td>0.0</td>\n      <td>100000.00</td>\n      <td>Aprobado con notificación</td>\n      <td>Recibido</td>\n      <td>4476</td>\n    </tr>\n    <tr>\n      <th>2953</th>\n      <td>Factura electrónica</td>\n      <td>2aaa86d662bdb7132f0e4ba7b4cfd5c74cb66c6fe9f8cd...</td>\n      <td>1731</td>\n      <td>PAA</td>\n      <td>31-10-2023</td>\n      <td>31-10-2023 13:05:01</td>\n      <td>811031936.0</td>\n      <td>ALZATE NOREÑA SAS</td>\n      <td>900673912.0</td>\n      <td>SNF COLOMBIA</td>\n      <td>0.00</td>\n      <td>0.0</td>\n      <td>0.0</td>\n      <td>72657.00</td>\n      <td>Aprobado con notificación</td>\n      <td>Recibido</td>\n      <td>1731</td>\n    </tr>\n  </tbody>\n</table>\n<p>2954 rows × 17 columns</p>\n</div>"
     },
     "execution_count": 79,
     "metadata": {},
     "output_type": "execute_result"
    }
   ],
   "source": [
    "Token"
   ],
   "metadata": {
    "collapsed": false,
    "ExecuteTime": {
     "end_time": "2024-02-05T13:38:41.747733100Z",
     "start_time": "2024-02-05T13:38:41.629736200Z"
    }
   },
   "id": "2d0bc1a641e86f9",
   "execution_count": 79
  },
  {
   "cell_type": "code",
   "outputs": [
    {
     "name": "stderr",
     "output_type": "stream",
     "text": [
      "C:\\Users\\Arnold Mauricio\\AppData\\Local\\Temp\\ipykernel_3448\\1298591269.py:5: SettingWithCopyWarning: \n",
      "A value is trying to be set on a copy of a slice from a DataFrame.\n",
      "Try using .loc[row_indexer,col_indexer] = value instead\n",
      "\n",
      "See the caveats in the documentation: https://pandas.pydata.org/pandas-docs/stable/user_guide/indexing.html#returning-a-view-versus-a-copy\n",
      "  result_df['Match'] = result_df[['Nit', 'Extraido_last']].apply(lambda x: tuple(x) in token_pairs, axis=1)\n"
     ]
    }
   ],
   "source": [
    "# Creamos un set con los pares (NIT Emisor, Folio2) en Token para una búsqueda más rápida\n",
    "token_pairs = set(Token[['NIT Emisor', 'Folio2']].itertuples(index=False))\n",
    "\n",
    "# Luego creamos la columna 'Match' en result_df\n",
    "result_df['Match'] = result_df[['Nit', 'Extraido_last']].apply(lambda x: tuple(x) in token_pairs, axis=1)"
   ],
   "metadata": {
    "collapsed": false,
    "ExecuteTime": {
     "end_time": "2024-02-05T13:56:42.433246900Z",
     "start_time": "2024-02-05T13:56:42.341251100Z"
    }
   },
   "id": "34deb1427f019bd4",
   "execution_count": 88
  },
  {
   "cell_type": "code",
   "outputs": [
    {
     "data": {
      "text/plain": "         Cuenta Tipo  Prefijo  Número     Fecha  \\\n1745     110505   RDC      R2    1371  20231103   \n1940     110505   RDC      RI    2210  20231218   \n4967   13050501   RDC      R2    1371  20231103   \n6469   13050501   RDC      RI    2210  20231218   \n7586   13301501   CAR      P1    7037  20230512   \n...         ...   ...     ...     ...       ...   \n59062    739530   RMS      P3     153  20230301   \n59063    739530   RMS      P4     565  20230801   \n59064    739530   RMS      P4     548  20230605   \n59065    739530   RMS      P3     175  20230907   \n59067    739530   RMS      P4     679  20231201   \n\n                                                Concepto        Nit   DV  \\\n1745   FCEQUIMLEC LIMITADA FVE4468,                  ...  900673912  4.0   \n1940   FCEBCR SUPLLY COLOMBIA SAS FVE 4219, ABONO 423...  900673912  4.0   \n4967   FCEQUIMLEC LIMITADA FVE4468,                  ...  800001494  1.0   \n6469   FCEBCR SUPLLY COLOMBIA SAS FVE 4219, ABONO 423...  900418674  4.0   \n7586   FCE6461-REPARACION SINIESTROS SUSTITUTO FVO360...   16539997  NaN   \n...                                                  ...        ...  ...   \n59062  FCE8975-COMPRA DE TEFLON-EVELYN PARRA         ...   72156418  7.0   \n59063  FCE8549-COMPRA PROBETA-JOHN HERNADEZ          ...  900617515  5.0   \n59064  FCE1936-COMPRA TEFLOM-EVELYN PARRA            ...  901678974  7.0   \n59065  FCE5265-COMPRA TEFLON INDUST 15MT GDE         ...  901678974  7.0   \n59067  FCE8650-COMPRA DE TEFLON INDUST               ...  901678974  7.0   \n\n      Proyecto Centro  ...      SALDOCTA                       Cuenta.1  \\\n1745      ADMI   ADMI  ...  0.000000e+00                   CAJA GENERAL   \n1940      ADMI   ADMI  ...  0.000000e+00                   CAJA GENERAL   \n4967      ADMI   ADMI  ...  7.885808e+09              NACIONALES (USAR)   \n6469      ADMI   ADMI  ...  7.885808e+09              NACIONALES (USAR)   \n7586      ADMI   ADMI  ...  7.255840e+05                 A TRABAJADORES   \n...        ...    ...  ...           ...                            ...   \n59062     ADMI   ADMI  ...  0.000000e+00  UTILES PAPELERIA Y FOTOCOPIAS   \n59063     PROD   PROD  ...  0.000000e+00  UTILES PAPELERIA Y FOTOCOPIAS   \n59064     PROD   PROD  ...  0.000000e+00  UTILES PAPELERIA Y FOTOCOPIAS   \n59065     3000   3100  ...  0.000000e+00  UTILES PAPELERIA Y FOTOCOPIAS   \n59067     3000   3100  ...  0.000000e+00  UTILES PAPELERIA Y FOTOCOPIAS   \n\n                                     Tercero     ID  Tipo Referencia  IDREF  \\\n1745                        SNF COLOMBIA SAS  76481               61   4148   \n1940                        SNF COLOMBIA SAS  79247               61   4274   \n4967                        QUIMLEC LIMITADA  76481               61   4148   \n6469               BCR SUPPLY COLOMBIA S.A.S  79247               61   4274   \n7586             AYALA DIAZ MARCOS ALEXANDER  67601               51  16403   \n...                                      ...    ...              ...    ...   \n59062                BARRERA CALDERON ALVARO  64830               51  15660   \n59063  DISTRIBUCIONES J & E LABORATORIOS SAS  72910               51  18099   \n59064        INVERSIONES BARRERA RUEDA S.A.S  70027               51  17195   \n59065        INVERSIONES BARRERA RUEDA S.A.S  74011               51  18525   \n59067        INVERSIONES BARRERA RUEDA S.A.S  79603               51  20464   \n\n                  Nombre  Extraido Extraido_last  Match  \n1745     110505900673912       NaN           NaN  False  \n1940     110505900673912       NaN           NaN  False  \n4967   13050501800001494       NaN           NaN  False  \n6469   13050501900418674       NaN           NaN  False  \n7586    1330150116539997      6461          6461  False  \n...                  ...       ...           ...    ...  \n59062     73953072156418      8975          8975   True  \n59063    739530900617515      8549          8549   True  \n59064    739530901678974      1936          1936   True  \n59065    739530901678974      5265          5265   True  \n59067    739530901678974      8650          8650   True  \n\n[11003 rows x 27 columns]",
      "text/html": "<div>\n<style scoped>\n    .dataframe tbody tr th:only-of-type {\n        vertical-align: middle;\n    }\n\n    .dataframe tbody tr th {\n        vertical-align: top;\n    }\n\n    .dataframe thead th {\n        text-align: right;\n    }\n</style>\n<table border=\"1\" class=\"dataframe\">\n  <thead>\n    <tr style=\"text-align: right;\">\n      <th></th>\n      <th>Cuenta</th>\n      <th>Tipo</th>\n      <th>Prefijo</th>\n      <th>Número</th>\n      <th>Fecha</th>\n      <th>Concepto</th>\n      <th>Nit</th>\n      <th>DV</th>\n      <th>Proyecto</th>\n      <th>Centro</th>\n      <th>...</th>\n      <th>SALDOCTA</th>\n      <th>Cuenta.1</th>\n      <th>Tercero</th>\n      <th>ID</th>\n      <th>Tipo Referencia</th>\n      <th>IDREF</th>\n      <th>Nombre</th>\n      <th>Extraido</th>\n      <th>Extraido_last</th>\n      <th>Match</th>\n    </tr>\n  </thead>\n  <tbody>\n    <tr>\n      <th>1745</th>\n      <td>110505</td>\n      <td>RDC</td>\n      <td>R2</td>\n      <td>1371</td>\n      <td>20231103</td>\n      <td>FCEQUIMLEC LIMITADA FVE4468,                  ...</td>\n      <td>900673912</td>\n      <td>4.0</td>\n      <td>ADMI</td>\n      <td>ADMI</td>\n      <td>...</td>\n      <td>0.000000e+00</td>\n      <td>CAJA GENERAL</td>\n      <td>SNF COLOMBIA SAS</td>\n      <td>76481</td>\n      <td>61</td>\n      <td>4148</td>\n      <td>110505900673912</td>\n      <td>NaN</td>\n      <td>NaN</td>\n      <td>False</td>\n    </tr>\n    <tr>\n      <th>1940</th>\n      <td>110505</td>\n      <td>RDC</td>\n      <td>RI</td>\n      <td>2210</td>\n      <td>20231218</td>\n      <td>FCEBCR SUPLLY COLOMBIA SAS FVE 4219, ABONO 423...</td>\n      <td>900673912</td>\n      <td>4.0</td>\n      <td>ADMI</td>\n      <td>ADMI</td>\n      <td>...</td>\n      <td>0.000000e+00</td>\n      <td>CAJA GENERAL</td>\n      <td>SNF COLOMBIA SAS</td>\n      <td>79247</td>\n      <td>61</td>\n      <td>4274</td>\n      <td>110505900673912</td>\n      <td>NaN</td>\n      <td>NaN</td>\n      <td>False</td>\n    </tr>\n    <tr>\n      <th>4967</th>\n      <td>13050501</td>\n      <td>RDC</td>\n      <td>R2</td>\n      <td>1371</td>\n      <td>20231103</td>\n      <td>FCEQUIMLEC LIMITADA FVE4468,                  ...</td>\n      <td>800001494</td>\n      <td>1.0</td>\n      <td>ADMI</td>\n      <td>ADMI</td>\n      <td>...</td>\n      <td>7.885808e+09</td>\n      <td>NACIONALES (USAR)</td>\n      <td>QUIMLEC LIMITADA</td>\n      <td>76481</td>\n      <td>61</td>\n      <td>4148</td>\n      <td>13050501800001494</td>\n      <td>NaN</td>\n      <td>NaN</td>\n      <td>False</td>\n    </tr>\n    <tr>\n      <th>6469</th>\n      <td>13050501</td>\n      <td>RDC</td>\n      <td>RI</td>\n      <td>2210</td>\n      <td>20231218</td>\n      <td>FCEBCR SUPLLY COLOMBIA SAS FVE 4219, ABONO 423...</td>\n      <td>900418674</td>\n      <td>4.0</td>\n      <td>ADMI</td>\n      <td>ADMI</td>\n      <td>...</td>\n      <td>7.885808e+09</td>\n      <td>NACIONALES (USAR)</td>\n      <td>BCR SUPPLY COLOMBIA S.A.S</td>\n      <td>79247</td>\n      <td>61</td>\n      <td>4274</td>\n      <td>13050501900418674</td>\n      <td>NaN</td>\n      <td>NaN</td>\n      <td>False</td>\n    </tr>\n    <tr>\n      <th>7586</th>\n      <td>13301501</td>\n      <td>CAR</td>\n      <td>P1</td>\n      <td>7037</td>\n      <td>20230512</td>\n      <td>FCE6461-REPARACION SINIESTROS SUSTITUTO FVO360...</td>\n      <td>16539997</td>\n      <td>NaN</td>\n      <td>ADMI</td>\n      <td>ADMI</td>\n      <td>...</td>\n      <td>7.255840e+05</td>\n      <td>A TRABAJADORES</td>\n      <td>AYALA DIAZ MARCOS ALEXANDER</td>\n      <td>67601</td>\n      <td>51</td>\n      <td>16403</td>\n      <td>1330150116539997</td>\n      <td>6461</td>\n      <td>6461</td>\n      <td>False</td>\n    </tr>\n    <tr>\n      <th>...</th>\n      <td>...</td>\n      <td>...</td>\n      <td>...</td>\n      <td>...</td>\n      <td>...</td>\n      <td>...</td>\n      <td>...</td>\n      <td>...</td>\n      <td>...</td>\n      <td>...</td>\n      <td>...</td>\n      <td>...</td>\n      <td>...</td>\n      <td>...</td>\n      <td>...</td>\n      <td>...</td>\n      <td>...</td>\n      <td>...</td>\n      <td>...</td>\n      <td>...</td>\n      <td>...</td>\n    </tr>\n    <tr>\n      <th>59062</th>\n      <td>739530</td>\n      <td>RMS</td>\n      <td>P3</td>\n      <td>153</td>\n      <td>20230301</td>\n      <td>FCE8975-COMPRA DE TEFLON-EVELYN PARRA         ...</td>\n      <td>72156418</td>\n      <td>7.0</td>\n      <td>ADMI</td>\n      <td>ADMI</td>\n      <td>...</td>\n      <td>0.000000e+00</td>\n      <td>UTILES PAPELERIA Y FOTOCOPIAS</td>\n      <td>BARRERA CALDERON ALVARO</td>\n      <td>64830</td>\n      <td>51</td>\n      <td>15660</td>\n      <td>73953072156418</td>\n      <td>8975</td>\n      <td>8975</td>\n      <td>True</td>\n    </tr>\n    <tr>\n      <th>59063</th>\n      <td>739530</td>\n      <td>RMS</td>\n      <td>P4</td>\n      <td>565</td>\n      <td>20230801</td>\n      <td>FCE8549-COMPRA PROBETA-JOHN HERNADEZ          ...</td>\n      <td>900617515</td>\n      <td>5.0</td>\n      <td>PROD</td>\n      <td>PROD</td>\n      <td>...</td>\n      <td>0.000000e+00</td>\n      <td>UTILES PAPELERIA Y FOTOCOPIAS</td>\n      <td>DISTRIBUCIONES J &amp; E LABORATORIOS SAS</td>\n      <td>72910</td>\n      <td>51</td>\n      <td>18099</td>\n      <td>739530900617515</td>\n      <td>8549</td>\n      <td>8549</td>\n      <td>True</td>\n    </tr>\n    <tr>\n      <th>59064</th>\n      <td>739530</td>\n      <td>RMS</td>\n      <td>P4</td>\n      <td>548</td>\n      <td>20230605</td>\n      <td>FCE1936-COMPRA TEFLOM-EVELYN PARRA            ...</td>\n      <td>901678974</td>\n      <td>7.0</td>\n      <td>PROD</td>\n      <td>PROD</td>\n      <td>...</td>\n      <td>0.000000e+00</td>\n      <td>UTILES PAPELERIA Y FOTOCOPIAS</td>\n      <td>INVERSIONES BARRERA RUEDA S.A.S</td>\n      <td>70027</td>\n      <td>51</td>\n      <td>17195</td>\n      <td>739530901678974</td>\n      <td>1936</td>\n      <td>1936</td>\n      <td>True</td>\n    </tr>\n    <tr>\n      <th>59065</th>\n      <td>739530</td>\n      <td>RMS</td>\n      <td>P3</td>\n      <td>175</td>\n      <td>20230907</td>\n      <td>FCE5265-COMPRA TEFLON INDUST 15MT GDE         ...</td>\n      <td>901678974</td>\n      <td>7.0</td>\n      <td>3000</td>\n      <td>3100</td>\n      <td>...</td>\n      <td>0.000000e+00</td>\n      <td>UTILES PAPELERIA Y FOTOCOPIAS</td>\n      <td>INVERSIONES BARRERA RUEDA S.A.S</td>\n      <td>74011</td>\n      <td>51</td>\n      <td>18525</td>\n      <td>739530901678974</td>\n      <td>5265</td>\n      <td>5265</td>\n      <td>True</td>\n    </tr>\n    <tr>\n      <th>59067</th>\n      <td>739530</td>\n      <td>RMS</td>\n      <td>P4</td>\n      <td>679</td>\n      <td>20231201</td>\n      <td>FCE8650-COMPRA DE TEFLON INDUST               ...</td>\n      <td>901678974</td>\n      <td>7.0</td>\n      <td>3000</td>\n      <td>3100</td>\n      <td>...</td>\n      <td>0.000000e+00</td>\n      <td>UTILES PAPELERIA Y FOTOCOPIAS</td>\n      <td>INVERSIONES BARRERA RUEDA S.A.S</td>\n      <td>79603</td>\n      <td>51</td>\n      <td>20464</td>\n      <td>739530901678974</td>\n      <td>8650</td>\n      <td>8650</td>\n      <td>True</td>\n    </tr>\n  </tbody>\n</table>\n<p>11003 rows × 27 columns</p>\n</div>"
     },
     "execution_count": 89,
     "metadata": {},
     "output_type": "execute_result"
    }
   ],
   "source": [
    "result_df"
   ],
   "metadata": {
    "collapsed": false,
    "ExecuteTime": {
     "end_time": "2024-02-05T13:56:46.819611400Z",
     "start_time": "2024-02-05T13:56:46.765615Z"
    }
   },
   "id": "e877033a68ab44e5",
   "execution_count": 89
  },
  {
   "cell_type": "code",
   "outputs": [],
   "source": [
    "result_df.to_excel('result_df.xlsx', index=False)"
   ],
   "metadata": {
    "collapsed": false,
    "ExecuteTime": {
     "end_time": "2024-02-05T14:11:43.877690Z",
     "start_time": "2024-02-05T14:11:35.843184300Z"
    }
   },
   "id": "1a9eebf02df1e3f7",
   "execution_count": 90
  },
  {
   "cell_type": "code",
   "outputs": [],
   "source": [],
   "metadata": {
    "collapsed": false
   },
   "id": "7f2ec23da15808ed"
  }
 ],
 "metadata": {
  "kernelspec": {
   "display_name": "Python 3",
   "language": "python",
   "name": "python3"
  },
  "language_info": {
   "codemirror_mode": {
    "name": "ipython",
    "version": 2
   },
   "file_extension": ".py",
   "mimetype": "text/x-python",
   "name": "python",
   "nbconvert_exporter": "python",
   "pygments_lexer": "ipython2",
   "version": "2.7.6"
  }
 },
 "nbformat": 4,
 "nbformat_minor": 5
}
